{
 "cells": [
  {
   "cell_type": "markdown",
   "id": "e29236ec",
   "metadata": {},
   "source": [
    "# Проект по ПВМС с Python #"
   ]
  },
  {
   "cell_type": "markdown",
   "id": "8079d392",
   "metadata": {},
   "source": [
    "Целта на този проект е да видим как различните алгоритми за клъстеризация като Kmeans, Kprototypes, DBSCAN ще разделят данните в клъстери, да видим как се разделят данните и как ще изглеждат разделени, има ли сходства между клъстерите и различните здравословни показатели."
   ]
  },
  {
   "cell_type": "markdown",
   "id": "9f4c63a5",
   "metadata": {},
   "source": [
    "## Импортираме библиотеките и данните"
   ]
  },
  {
   "cell_type": "code",
   "execution_count": 101,
   "id": "c3e489bc",
   "metadata": {},
   "outputs": [],
   "source": [
    "import warnings\n",
    "import pandas as pd\n",
    "import numpy as np\n",
    "import matplotlib.pyplot as plt\n",
    "import seaborn as sns\n",
    "import mglearn"
   ]
  },
  {
   "cell_type": "code",
   "execution_count": 102,
   "id": "e03be2e8",
   "metadata": {},
   "outputs": [],
   "source": [
    "import warnings"
   ]
  },
  {
   "cell_type": "code",
   "execution_count": 103,
   "id": "de8b166d",
   "metadata": {},
   "outputs": [
    {
     "name": "stdout",
     "output_type": "stream",
     "text": [
      "C:\\Users\\lucho\\Desktop\n"
     ]
    }
   ],
   "source": [
    "## Преглеждане на текущата директория, за да достъпим във файла с данните\n",
    "import os\n",
    "current_directory = os.getcwd()\n",
    "print(current_directory) "
   ]
  },
  {
   "cell_type": "code",
   "execution_count": 104,
   "id": "18c2e26a",
   "metadata": {},
   "outputs": [
    {
     "name": "stdout",
     "output_type": "stream",
     "text": [
      "Size of heart failure clinical dataframe is : (299, 13)\n"
     ]
    }
   ],
   "source": [
    "# Запазваме данните в собствен Dataframe variable HFRD и показваме колко реда и колони има\n",
    "HFRD = pd.read_csv(\"heart_failure_clinical_records_dataset.xls\")\n",
    "print('Size of heart failure clinical dataframe is :', HFRD.shape)"
   ]
  },
  {
   "cell_type": "code",
   "execution_count": 105,
   "id": "6b06fb22",
   "metadata": {},
   "outputs": [
    {
     "data": {
      "text/html": [
       "<div>\n",
       "<style scoped>\n",
       "    .dataframe tbody tr th:only-of-type {\n",
       "        vertical-align: middle;\n",
       "    }\n",
       "\n",
       "    .dataframe tbody tr th {\n",
       "        vertical-align: top;\n",
       "    }\n",
       "\n",
       "    .dataframe thead th {\n",
       "        text-align: right;\n",
       "    }\n",
       "</style>\n",
       "<table border=\"1\" class=\"dataframe\">\n",
       "  <thead>\n",
       "    <tr style=\"text-align: right;\">\n",
       "      <th></th>\n",
       "      <th>age</th>\n",
       "      <th>anaemia</th>\n",
       "      <th>creatinine_phosphokinase</th>\n",
       "      <th>diabetes</th>\n",
       "      <th>ejection_fraction</th>\n",
       "      <th>high_blood_pressure</th>\n",
       "      <th>platelets</th>\n",
       "      <th>serum_creatinine</th>\n",
       "      <th>serum_sodium</th>\n",
       "      <th>sex</th>\n",
       "      <th>smoking</th>\n",
       "      <th>time</th>\n",
       "      <th>DEATH_EVENT</th>\n",
       "    </tr>\n",
       "  </thead>\n",
       "  <tbody>\n",
       "    <tr>\n",
       "      <th>0</th>\n",
       "      <td>75.0</td>\n",
       "      <td>0</td>\n",
       "      <td>582</td>\n",
       "      <td>0</td>\n",
       "      <td>20</td>\n",
       "      <td>1</td>\n",
       "      <td>265000.00</td>\n",
       "      <td>1.9</td>\n",
       "      <td>130</td>\n",
       "      <td>1</td>\n",
       "      <td>0</td>\n",
       "      <td>4</td>\n",
       "      <td>1</td>\n",
       "    </tr>\n",
       "    <tr>\n",
       "      <th>1</th>\n",
       "      <td>55.0</td>\n",
       "      <td>0</td>\n",
       "      <td>7861</td>\n",
       "      <td>0</td>\n",
       "      <td>38</td>\n",
       "      <td>0</td>\n",
       "      <td>263358.03</td>\n",
       "      <td>1.1</td>\n",
       "      <td>136</td>\n",
       "      <td>1</td>\n",
       "      <td>0</td>\n",
       "      <td>6</td>\n",
       "      <td>1</td>\n",
       "    </tr>\n",
       "    <tr>\n",
       "      <th>2</th>\n",
       "      <td>65.0</td>\n",
       "      <td>0</td>\n",
       "      <td>146</td>\n",
       "      <td>0</td>\n",
       "      <td>20</td>\n",
       "      <td>0</td>\n",
       "      <td>162000.00</td>\n",
       "      <td>1.3</td>\n",
       "      <td>129</td>\n",
       "      <td>1</td>\n",
       "      <td>1</td>\n",
       "      <td>7</td>\n",
       "      <td>1</td>\n",
       "    </tr>\n",
       "    <tr>\n",
       "      <th>3</th>\n",
       "      <td>50.0</td>\n",
       "      <td>1</td>\n",
       "      <td>111</td>\n",
       "      <td>0</td>\n",
       "      <td>20</td>\n",
       "      <td>0</td>\n",
       "      <td>210000.00</td>\n",
       "      <td>1.9</td>\n",
       "      <td>137</td>\n",
       "      <td>1</td>\n",
       "      <td>0</td>\n",
       "      <td>7</td>\n",
       "      <td>1</td>\n",
       "    </tr>\n",
       "    <tr>\n",
       "      <th>4</th>\n",
       "      <td>65.0</td>\n",
       "      <td>1</td>\n",
       "      <td>160</td>\n",
       "      <td>1</td>\n",
       "      <td>20</td>\n",
       "      <td>0</td>\n",
       "      <td>327000.00</td>\n",
       "      <td>2.7</td>\n",
       "      <td>116</td>\n",
       "      <td>0</td>\n",
       "      <td>0</td>\n",
       "      <td>8</td>\n",
       "      <td>1</td>\n",
       "    </tr>\n",
       "  </tbody>\n",
       "</table>\n",
       "</div>"
      ],
      "text/plain": [
       "    age  anaemia  creatinine_phosphokinase  diabetes  ejection_fraction  \\\n",
       "0  75.0        0                       582         0                 20   \n",
       "1  55.0        0                      7861         0                 38   \n",
       "2  65.0        0                       146         0                 20   \n",
       "3  50.0        1                       111         0                 20   \n",
       "4  65.0        1                       160         1                 20   \n",
       "\n",
       "   high_blood_pressure  platelets  serum_creatinine  serum_sodium  sex  \\\n",
       "0                    1  265000.00               1.9           130    1   \n",
       "1                    0  263358.03               1.1           136    1   \n",
       "2                    0  162000.00               1.3           129    1   \n",
       "3                    0  210000.00               1.9           137    1   \n",
       "4                    0  327000.00               2.7           116    0   \n",
       "\n",
       "   smoking  time  DEATH_EVENT  \n",
       "0        0     4            1  \n",
       "1        0     6            1  \n",
       "2        1     7            1  \n",
       "3        0     7            1  \n",
       "4        0     8            1  "
      ]
     },
     "execution_count": 105,
     "metadata": {},
     "output_type": "execute_result"
    }
   ],
   "source": [
    "# Демонстрация на данните\n",
    "HFRD.head()"
   ]
  },
  {
   "cell_type": "code",
   "execution_count": 106,
   "id": "d50a5716",
   "metadata": {},
   "outputs": [
    {
     "data": {
      "text/plain": [
       "age                         float64\n",
       "anaemia                       int64\n",
       "creatinine_phosphokinase      int64\n",
       "diabetes                      int64\n",
       "ejection_fraction             int64\n",
       "high_blood_pressure           int64\n",
       "platelets                   float64\n",
       "serum_creatinine            float64\n",
       "serum_sodium                  int64\n",
       "sex                           int64\n",
       "smoking                       int64\n",
       "time                          int64\n",
       "DEATH_EVENT                   int64\n",
       "dtype: object"
      ]
     },
     "execution_count": 106,
     "metadata": {},
     "output_type": "execute_result"
    }
   ],
   "source": [
    "#Искаме да видим какъв е типът на нашите данни\n",
    "HFRD.dtypes"
   ]
  },
  {
   "cell_type": "markdown",
   "id": "153eddeb",
   "metadata": {},
   "source": [
    "## Data Preprocessing"
   ]
  },
  {
   "cell_type": "code",
   "execution_count": 107,
   "id": "38c52026",
   "metadata": {},
   "outputs": [],
   "source": [
    "## избор на колини за клъстеризация (по тях ще съдим за състоянието на пациентите)\n",
    "cluster_columns = ['age', 'sex', 'serum_creatinine', 'platelets', 'high_blood_pressure']\n",
    "HFRD = HFRD[cluster_columns]"
   ]
  },
  {
   "cell_type": "code",
   "execution_count": 108,
   "id": "53f5f120",
   "metadata": {},
   "outputs": [],
   "source": [
    "from sklearn.preprocessing import StandardScaler\n",
    "# Дефиниране на числените и категорийните колони\n",
    "# Ще ни трябва по-нататък, когато клъстеризираме с Kprototypes\n",
    "numerical_cols = ['age', 'serum_creatinine', 'platelets']\n",
    "categorical_cols = ['sex', 'high_blood_pressure']\n",
    "\n",
    "Sscaler = StandardScaler()"
   ]
  },
  {
   "cell_type": "code",
   "execution_count": 109,
   "id": "6e03e7d7",
   "metadata": {},
   "outputs": [],
   "source": [
    "HFRD_scale = HFRD.copy()"
   ]
  },
  {
   "cell_type": "code",
   "execution_count": 110,
   "id": "28d5676e",
   "metadata": {},
   "outputs": [
    {
     "data": {
      "text/html": [
       "<div>\n",
       "<style scoped>\n",
       "    .dataframe tbody tr th:only-of-type {\n",
       "        vertical-align: middle;\n",
       "    }\n",
       "\n",
       "    .dataframe tbody tr th {\n",
       "        vertical-align: top;\n",
       "    }\n",
       "\n",
       "    .dataframe thead th {\n",
       "        text-align: right;\n",
       "    }\n",
       "</style>\n",
       "<table border=\"1\" class=\"dataframe\">\n",
       "  <thead>\n",
       "    <tr style=\"text-align: right;\">\n",
       "      <th></th>\n",
       "      <th>age</th>\n",
       "      <th>sex</th>\n",
       "      <th>serum_creatinine</th>\n",
       "      <th>platelets</th>\n",
       "      <th>high_blood_pressure</th>\n",
       "    </tr>\n",
       "  </thead>\n",
       "  <tbody>\n",
       "    <tr>\n",
       "      <th>0</th>\n",
       "      <td>1.192945</td>\n",
       "      <td>1</td>\n",
       "      <td>0.490057</td>\n",
       "      <td>1.681648e-02</td>\n",
       "      <td>1</td>\n",
       "    </tr>\n",
       "    <tr>\n",
       "      <th>1</th>\n",
       "      <td>-0.491279</td>\n",
       "      <td>1</td>\n",
       "      <td>-0.284552</td>\n",
       "      <td>7.535660e-09</td>\n",
       "      <td>0</td>\n",
       "    </tr>\n",
       "    <tr>\n",
       "      <th>2</th>\n",
       "      <td>0.350833</td>\n",
       "      <td>1</td>\n",
       "      <td>-0.090900</td>\n",
       "      <td>-1.038073e+00</td>\n",
       "      <td>0</td>\n",
       "    </tr>\n",
       "    <tr>\n",
       "      <th>3</th>\n",
       "      <td>-0.912335</td>\n",
       "      <td>1</td>\n",
       "      <td>0.490057</td>\n",
       "      <td>-5.464741e-01</td>\n",
       "      <td>0</td>\n",
       "    </tr>\n",
       "    <tr>\n",
       "      <th>4</th>\n",
       "      <td>0.350833</td>\n",
       "      <td>0</td>\n",
       "      <td>1.264666</td>\n",
       "      <td>6.517986e-01</td>\n",
       "      <td>0</td>\n",
       "    </tr>\n",
       "  </tbody>\n",
       "</table>\n",
       "</div>"
      ],
      "text/plain": [
       "        age  sex  serum_creatinine     platelets  high_blood_pressure\n",
       "0  1.192945    1          0.490057  1.681648e-02                    1\n",
       "1 -0.491279    1         -0.284552  7.535660e-09                    0\n",
       "2  0.350833    1         -0.090900 -1.038073e+00                    0\n",
       "3 -0.912335    1          0.490057 -5.464741e-01                    0\n",
       "4  0.350833    0          1.264666  6.517986e-01                    0"
      ]
     },
     "execution_count": 110,
     "metadata": {},
     "output_type": "execute_result"
    }
   ],
   "source": [
    "# Мащабираме данните със StandardScaler, за да може feature-ите ни да са със сходна размерност\n",
    "for c in numerical_cols:\n",
    "    HFRD_scale[c] = Sscaler.fit_transform(HFRD[[c]])\n",
    "HFRD_scale.head()"
   ]
  },
  {
   "cell_type": "code",
   "execution_count": 111,
   "id": "1d143bd9",
   "metadata": {},
   "outputs": [
    {
     "data": {
      "text/plain": [
       "(290, 5)"
      ]
     },
     "execution_count": 111,
     "metadata": {},
     "output_type": "execute_result"
    }
   ],
   "source": [
    "#Премахване на  outlier-ите за всяка от избраните ни колони\n",
    "HFRD_out = HFRD_scale[(HFRD_scale['age'].abs()<=3) & (HFRD_scale['platelets'].abs()<=3) & (HFRD_scale['serum_creatinine'].abs()<=3)& (HFRD_scale['sex'].abs()<=3)& (HFRD_scale['high_blood_pressure'].abs()<=3)]\n",
    "HFRD_out.shape"
   ]
  },
  {
   "cell_type": "code",
   "execution_count": 112,
   "id": "ab2fba97",
   "metadata": {},
   "outputs": [],
   "source": [
    "## Намиране на оптимален брой клъстери чрез Elbow Method и Average Silhouette Method за Kmeans и КPrototypes\n",
    "## импортиране на допълнителни библиотеки за методите ,които ще ползваме\n",
    "from kmodes.kprototypes import KPrototypes\n",
    "from sklearn.cluster import KMeans\n"
   ]
  },
  {
   "cell_type": "code",
   "execution_count": 113,
   "id": "660f9824",
   "metadata": {},
   "outputs": [
    {
     "data": {
      "text/plain": [
       "[1, 4]"
      ]
     },
     "execution_count": 113,
     "metadata": {},
     "output_type": "execute_result"
    }
   ],
   "source": [
    "cat_index = []\n",
    "for i in categorical_cols:\n",
    "    cat_index.append(HFRD.columns.get_loc(i))\n",
    "    \n",
    "cat_index"
   ]
  },
  {
   "cell_type": "code",
   "execution_count": 114,
   "id": "2b2b1f20",
   "metadata": {},
   "outputs": [],
   "source": [
    "number_of_clusters = list(range(2, 11))\n",
    "## изчисляваме цена(cost) за всеки брой от клъстери(от 2 до 10)\n",
    "cost_values = []\n",
    "for k in number_of_clusters:\n",
    "    kmeans = KMeans(n_clusters = k)\n",
    "    kmeans.fit_predict(HFRD_scale)\n",
    "    cost_values.append(kmeans.inertia_)"
   ]
  },
  {
   "cell_type": "code",
   "execution_count": 115,
   "id": "825f0bcd",
   "metadata": {},
   "outputs": [
    {
     "data": {
      "image/png": "[encoded data removed]",
      "text/plain": [
       "<Figure size 432x288 with 1 Axes>"
      ]
     },
     "metadata": {
      "needs_background": "light"
     },
     "output_type": "display_data"
    }
   ],
   "source": [
    "## Графично изобразяваме цена(cost) срещу брой клъстери\n",
    "plt.plot(number_of_clusters,cost_values,'bx-')\n",
    "plt.title('Elbow Method')\n",
    "plt.xlabel('cluster numbers')\n",
    "plt.ylabel('Cost')\n",
    "plt.show()"
   ]
  },
  {
   "cell_type": "code",
   "execution_count": 116,
   "id": "2c1f7ecd",
   "metadata": {},
   "outputs": [],
   "source": [
    "## От горната графика виждаме,че оптималният брой на клъстерите би бил някъде между 3 и 4\n",
    "## (там кривата започва да се чупи, т.е да получаваме лакът(Elbow))\n",
    "\n",
    "##За това ще ползваме и аverage silhouette method \n",
    "from sklearn.metrics import silhouette_score"
   ]
  },
  {
   "cell_type": "code",
   "execution_count": 117,
   "id": "1e93ff04",
   "metadata": {},
   "outputs": [],
   "source": [
    "silhouette_average = []"
   ]
  },
  {
   "cell_type": "code",
   "execution_count": 118,
   "id": "41e5d3de",
   "metadata": {},
   "outputs": [],
   "source": [
    "## изчисляваме score за всеки брой от клъстери(от 2 до 10) за Kmeans\n",
    "for k in number_of_clusters:\n",
    "    kmeans = KMeans(n_clusters=k)\n",
    "    kmeans.fit_predict(HFRD_scale)\n",
    "    Cluster_labels = kmeans.labels_\n",
    "    silhouette_average.append(silhouette_score(HFRD_scale, Cluster_labels))"
   ]
  },
  {
   "cell_type": "code",
   "execution_count": 119,
   "id": "0dec41f8",
   "metadata": {},
   "outputs": [
    {
     "data": {
      "text/plain": [
       "Text(0, 0.5, 'score')"
      ]
     },
     "execution_count": 119,
     "metadata": {},
     "output_type": "execute_result"
    },
    {
     "data": {
      "image/png": "[encoded data removed]",
      "text/plain": [
       "<Figure size 432x288 with 1 Axes>"
      ]
     },
     "metadata": {
      "needs_background": "light"
     },
     "output_type": "display_data"
    }
   ],
   "source": [
    "## Графично изобразяваме average silhouette score срещу брой клъстери\n",
    "ax = sns.lineplot(x=number_of_clusters, y=silhouette_average, marker=\"o\")\n",
    "ax.set_title('Average Silhouette', fontsize=13)\n",
    "ax.set_xlabel('No of clusters', fontsize=12)\n",
    "ax.set_ylabel('score', fontsize=12)"
   ]
  },
  {
   "cell_type": "code",
   "execution_count": null,
   "id": "c934e8fe",
   "metadata": {},
   "outputs": [],
   "source": [
    "## На горната графика виждаме по-добре, че при избор на брой клъстери равен на 3 ще получим най-добър резултат за наштие данни\n",
    "## Оценката(score) е доста ниска (0.24), което предполага, че нашите клъстери са доста идентични "
   ]
  },
  {
   "cell_type": "markdown",
   "id": "59b82884",
   "metadata": {},
   "source": [
    "## Clustering with Кmeans"
   ]
  },
  {
   "cell_type": "code",
   "execution_count": 120,
   "id": "46ee1206",
   "metadata": {},
   "outputs": [],
   "source": [
    "## За Kmeans ще ползваме 3 клъстера\n",
    "kmeans = KMeans(n_clusters= 3)\n",
    "kmeans.fit_predict(HFRD_scale)\n",
    "\n",
    "## Запазваме си етикетите за клъстерите\n",
    "Cluster_labels = kmeans.labels_"
   ]
  },
  {
   "cell_type": "code",
   "execution_count": 121,
   "id": "a3087d00",
   "metadata": {},
   "outputs": [],
   "source": [
    "## Добавяме клъстерите към dataframe-а\n",
    "HFRD[\"cluster\"] = Cluster_labels"
   ]
  },
  {
   "cell_type": "code",
   "execution_count": 122,
   "id": "82fd047d",
   "metadata": {},
   "outputs": [
    {
     "data": {
      "text/html": [
       "<div>\n",
       "<style scoped>\n",
       "    .dataframe tbody tr th:only-of-type {\n",
       "        vertical-align: middle;\n",
       "    }\n",
       "\n",
       "    .dataframe tbody tr th {\n",
       "        vertical-align: top;\n",
       "    }\n",
       "\n",
       "    .dataframe thead th {\n",
       "        text-align: right;\n",
       "    }\n",
       "</style>\n",
       "<table border=\"1\" class=\"dataframe\">\n",
       "  <thead>\n",
       "    <tr style=\"text-align: right;\">\n",
       "      <th></th>\n",
       "      <th>age</th>\n",
       "      <th>sex</th>\n",
       "      <th>serum_creatinine</th>\n",
       "      <th>platelets</th>\n",
       "      <th>high_blood_pressure</th>\n",
       "      <th>cluster</th>\n",
       "    </tr>\n",
       "  </thead>\n",
       "  <tbody>\n",
       "    <tr>\n",
       "      <th>0</th>\n",
       "      <td>75.0</td>\n",
       "      <td>1</td>\n",
       "      <td>1.9</td>\n",
       "      <td>265000.00</td>\n",
       "      <td>1</td>\n",
       "      <td>2</td>\n",
       "    </tr>\n",
       "    <tr>\n",
       "      <th>1</th>\n",
       "      <td>55.0</td>\n",
       "      <td>1</td>\n",
       "      <td>1.1</td>\n",
       "      <td>263358.03</td>\n",
       "      <td>0</td>\n",
       "      <td>1</td>\n",
       "    </tr>\n",
       "    <tr>\n",
       "      <th>2</th>\n",
       "      <td>65.0</td>\n",
       "      <td>1</td>\n",
       "      <td>1.3</td>\n",
       "      <td>162000.00</td>\n",
       "      <td>0</td>\n",
       "      <td>2</td>\n",
       "    </tr>\n",
       "    <tr>\n",
       "      <th>3</th>\n",
       "      <td>50.0</td>\n",
       "      <td>1</td>\n",
       "      <td>1.9</td>\n",
       "      <td>210000.00</td>\n",
       "      <td>0</td>\n",
       "      <td>1</td>\n",
       "    </tr>\n",
       "    <tr>\n",
       "      <th>4</th>\n",
       "      <td>65.0</td>\n",
       "      <td>0</td>\n",
       "      <td>2.7</td>\n",
       "      <td>327000.00</td>\n",
       "      <td>0</td>\n",
       "      <td>2</td>\n",
       "    </tr>\n",
       "  </tbody>\n",
       "</table>\n",
       "</div>"
      ],
      "text/plain": [
       "    age  sex  serum_creatinine  platelets  high_blood_pressure  cluster\n",
       "0  75.0    1               1.9  265000.00                    1        2\n",
       "1  55.0    1               1.1  263358.03                    0        1\n",
       "2  65.0    1               1.3  162000.00                    0        2\n",
       "3  50.0    1               1.9  210000.00                    0        1\n",
       "4  65.0    0               2.7  327000.00                    0        2"
      ]
     },
     "execution_count": 122,
     "metadata": {},
     "output_type": "execute_result"
    }
   ],
   "source": [
    "HFRD.head()"
   ]
  },
  {
   "cell_type": "code",
   "execution_count": 123,
   "id": "e712c12b",
   "metadata": {},
   "outputs": [],
   "source": [
    "## Визуализация на данните\n",
    "from sklearn.decomposition import PCA"
   ]
  },
  {
   "cell_type": "code",
   "execution_count": 124,
   "id": "25c60962",
   "metadata": {},
   "outputs": [],
   "source": [
    "## Ползваме PCA, за да намалил размерността от 5 колони на 3 и plotly за 3D визуализация\n",
    "pcaM = PCA(n_components=3)\n",
    "pcaM_HFRD = pcaM.fit_transform(HFRD_scale)"
   ]
  },
  {
   "cell_type": "code",
   "execution_count": 125,
   "id": "b711259e",
   "metadata": {},
   "outputs": [
    {
     "data": {
      "application/vnd.plotly.v1+json": {
       "config": {
        "plotlyServerURL": "https://plot.ly"
       },
       "data": [
        {
         "marker": {
          "color": [
           2,
           1,
           2,
           1,
           2,
           2,
           2,
           1,
           2,
           0,
           0,
           2,
           1,
           1,
           1,
           2,
           2,
           1,
           2,
           1,
           2,
           2,
           2,
           1,
           2,
           2,
           2,
           2,
           0,
           2,
           2,
           2,
           1,
           1,
           2,
           0,
           2,
           2,
           1,
           1,
           2,
           1,
           2,
           2,
           2,
           1,
           1,
           1,
           0,
           1,
           2,
           1,
           0,
           2,
           2,
           2,
           2,
           2,
           1,
           2,
           1,
           1,
           1,
           1,
           1,
           2,
           1,
           2,
           2,
           1,
           1,
           2,
           2,
           2,
           2,
           2,
           2,
           1,
           2,
           1,
           2,
           2,
           2,
           2,
           1,
           1,
           2,
           2,
           1,
           2,
           2,
           1,
           1,
           2,
           1,
           2,
           2,
           2,
           1,
           2,
           2,
           2,
           2,
           1,
           2,
           1,
           1,
           1,
           2,
           1,
           2,
           1,
           1,
           2,
           1,
           2,
           1,
           2,
           2,
           2,
           2,
           2,
           2,
           2,
           0,
           1,
           1,
           1,
           2,
           0,
           1,
           0,
           1,
           2,
           2,
           2,
           2,
           2,
           2,
           1,
           2,
           1,
           1,
           2,
           2,
           1,
           1,
           2,
           2,
           2,
           2,
           2,
           1,
           1,
           2,
           2,
           1,
           1,
           2,
           1,
           2,
           1,
           1,
           1,
           1,
           2,
           1,
           2,
           2,
           2,
           1,
           1,
           2,
           1,
           2,
           1,
           2,
           1,
           2,
           1,
           1,
           2,
           2,
           2,
           2,
           1,
           1,
           1,
           2,
           1,
           2,
           2,
           1,
           2,
           1,
           2,
           1,
           2,
           1,
           2,
           2,
           1,
           2,
           0,
           2,
           1,
           1,
           2,
           1,
           1,
           2,
           1,
           2,
           1,
           2,
           2,
           2,
           0,
           2,
           1,
           2,
           2,
           1,
           1,
           1,
           2,
           2,
           2,
           0,
           2,
           2,
           2,
           1,
           1,
           1,
           2,
           2,
           2,
           2,
           1,
           1,
           2,
           1,
           2,
           1,
           2,
           1,
           2,
           1,
           1,
           1,
           1,
           1,
           2,
           1,
           1,
           2,
           1,
           1,
           1,
           1,
           1,
           2,
           2,
           2,
           1,
           1,
           2,
           1,
           1,
           1,
           1,
           2,
           1,
           2,
           1,
           2,
           2,
           1,
           1,
           2,
           2,
           0,
           2,
           1,
           1,
           2,
           1,
           2,
           2,
           1,
           2,
           1,
           2,
           2,
           1,
           1,
           1,
           1
          ],
          "colorscale": [
           [
            0,
            "#440154"
           ],
           [
            0.1111111111111111,
            "#482878"
           ],
           [
            0.2222222222222222,
            "#3e4989"
           ],
           [
            0.3333333333333333,
            "#31688e"
           ],
           [
            0.4444444444444444,
            "#26828e"
           ],
           [
            0.5555555555555556,
            "#1f9e89"
           ],
           [
            0.6666666666666666,
            "#35b779"
           ],
           [
            0.7777777777777778,
            "#6ece58"
           ],
           [
            0.8888888888888888,
            "#b5de2b"
           ],
           [
            1,
            "#fde725"
           ]
          ],
          "size": 5
         },
         "mode": "markers",
         "type": "scatter3d",
         "x": [
          1.1437660661244295,
          -0.5067119314103931,
          0.5447716978389733,
          -0.09365695270562989,
          0.7996378948448826,
          2.334550959397144,
          1.1708684902576871,
          -0.9008905186200755,
          0.26624195863011524,
          5.7354101513570885,
          2.1069331254702903,
          -0.18106528465258304,
          -0.619744198144963,
          -0.8143141250300288,
          -1.515404760566319,
          1.9137201981534184,
          1.1799708264134439,
          -0.9160668353310861,
          0.3458314702825465,
          0.18466425580289406,
          0.11465231067024922,
          0.22993449594325038,
          0.030219112931425575,
          -1.1810254737410513,
          1.0600216151873947,
          1.81826991582348,
          1.9041973683611384,
          0.4140984010408907,
          3.028553217782066,
          1.3073227578447801,
          2.1790474092541987,
          2.0478610637530275,
          -1.0755120370847504,
          -0.9084521985238853,
          0.28248745966534317,
          1.9286096865493332,
          1.540579000035673,
          0.7258025120592413,
          0.3873446008201143,
          0.6998018081891634,
          0.8227367782222894,
          -0.35969094603290674,
          0.7022537819500322,
          0.571583676904676,
          -0.02321907297462281,
          -0.4486382309666538,
          -0.8666042872958589,
          -1.186782355236552,
          3.4519594929808273,
          -0.9695463557275413,
          0.5301221697617569,
          -1.0043003354070872,
          3.3373097260032183,
          -0.058847186935020564,
          0.4562792775481451,
          1.6216985566133013,
          1.4966630168678705,
          -0.3724154992051992,
          -1.023469017641932,
          0.6336186704385237,
          -1.5648335816151822,
          0.11270777892464062,
          -0.47349267689634233,
          -1.566923665584184,
          -1.066500371184813,
          1.4272662858012506,
          -0.981346319979605,
          0.35295501319644973,
          0.4276958020607658,
          -0.3090523361183155,
          -1.8804796659526675,
          0.03806927014865337,
          1.1976674679329844,
          0.5909192640129054,
          0.33836685571688696,
          -0.2665416612446043,
          -0.06470572146481644,
          -1.0845380334983137,
          0.25728033663691113,
          -0.8739724707687592,
          0.5701353985592245,
          0.2220642517609796,
          0.855546485429965,
          1.6366743421765635,
          -0.5065487331434103,
          -1.4922203299688381,
          -0.16611869362286003,
          -0.2558429922559885,
          -1.2609537969780744,
          -0.08149130996441609,
          0.20212227770383573,
          -0.4068459963195402,
          -1.2360392000638014,
          0.34492030775245464,
          -0.8416352493761451,
          -0.22314733731321446,
          0.1250021838015578,
          0.3253717768827813,
          -0.3802806255669673,
          0.050474810773889336,
          -0.06455500973456402,
          0.6940069433203355,
          1.312061239269304,
          -1.1720422620281452,
          0.4293503137385527,
          -0.46133816033555486,
          -0.3788888228012903,
          -1.0657795177184286,
          -0.19887977234955123,
          -3.0277583557901284,
          1.1005814317670835,
          -0.3179214599792042,
          -0.43257734328307595,
          0.11114191889074262,
          -0.3704988755598605,
          -0.09302665998491377,
          -0.5298198476306464,
          1.6073108760146577,
          0.12068430552370837,
          1.6618248398616335,
          0.23820728649596368,
          0.38601565713966307,
          -0.36537900357582315,
          0.1079053622037719,
          1.5855933096596238,
          -1.010028883802588,
          -0.4351358650961181,
          -0.7023533675584498,
          -0.41382777570733337,
          0.9646763274080647,
          -0.802034689297652,
          2.9870755174960153,
          -0.9901482803430971,
          -0.02054014028546194,
          1.1281104017103454,
          0.6741677954382824,
          0.21088935390257268,
          0.7128959753588731,
          -0.06931421675504554,
          -0.7734045478681795,
          0.9061116425811788,
          -1.487623612070424,
          -1.1941253973621777,
          -0.19766259866280933,
          0.5885387349763519,
          -1.0517594833630677,
          -0.7683425838784504,
          0.014445478562674266,
          1.2216261703482978,
          -0.20534585100665284,
          1.415098250306173,
          -0.1491169696090909,
          -0.614283518168431,
          -0.7386557785532892,
          -0.056185788089091235,
          0.4017173122742185,
          -0.5801288239007595,
          -0.8477319785248107,
          1.4158942239016827,
          -0.6109815376975435,
          0.2738626815025972,
          -0.944465337591968,
          -0.8366049821839697,
          -0.29247295057917744,
          -1.3226071291017902,
          1.260530728804452,
          -0.7189292664840081,
          1.2283137463431295,
          -0.0737162142239585,
          -0.02210796807349362,
          -0.47965936497195577,
          -1.0216203824792018,
          0.6709260124242523,
          -0.7151478145328073,
          -0.11092121368668109,
          -0.5488385076239497,
          0.783334544578591,
          -0.48804913757835194,
          -0.004260614823700484,
          -0.8153423347386864,
          -1.6216798167777313,
          -0.19357316780082506,
          0.1158648966608458,
          1.6689648976270837,
          -0.11643431605672343,
          -0.3793542165192267,
          -0.759186601330592,
          0.0025237868917469294,
          -0.05381056618601836,
          -1.5477257888158007,
          1.2313097156573667,
          0.04770856714093939,
          -1.0304606066674062,
          0.9280435655983689,
          -0.24802649959044734,
          1.3227688564620625,
          -1.04666122330276,
          -0.16122044275378997,
          -0.9335195257803409,
          0.21878537537282614,
          0.36802264215632535,
          -1.518686015441249,
          0.38818208085085765,
          1.4966293523161842,
          0.49155497889877986,
          -1.2479931346190436,
          -1.4569001949192242,
          1.336730711972496,
          -0.4024284951962061,
          -1.0775366972698353,
          -0.14846019484100034,
          -0.5462165297811243,
          0.21032576323119548,
          -0.5426454568926761,
          -0.20614561329944517,
          0.8711720653113084,
          -0.14697196098256418,
          4.808995047774186,
          0.20082876427490093,
          -1.1673658406899847,
          0.9724364592192248,
          0.3046255196569007,
          -1.602190154241696,
          -0.6752476892377924,
          -1.254683128239185,
          0.7622666175628092,
          0.05333615199085579,
          -0.11580076914860442,
          2.5744709903730603,
          0.43422730450178454,
          0.8250127217455608,
          0.6191385494987072,
          -1.4512888032124398,
          -0.6664760805862301,
          -0.7675590147287902,
          0.2500596731415377,
          0.6979042068746295,
          0.7250123874593019,
          -0.027568648050025433,
          -0.45609106375497493,
          -0.5150848596622675,
          0.2359379857518817,
          -1.3247366340738957,
          0.5124410318966371,
          -0.12257115569720331,
          -0.043981523343635726,
          -0.6864814438529565,
          0.886111411402042,
          -1.5513041066432387,
          -0.4584781598186878,
          -1.6936265464529807,
          -0.6269551144373323,
          -0.8704905840340804,
          0.4759334522037008,
          -0.6631747540169372,
          -0.970453465071369,
          0.28402087097829987,
          -0.3438409719219625,
          -1.153904291765972,
          -1.031312791353709,
          -0.3557283095524922,
          -0.47923086298469647,
          0.48025452223427584,
          0.3159110071768647,
          0.30869103317020224,
          -1.2659893413551064,
          -0.04479651405470654,
          0.39220412017479134,
          -1.3808451670300157,
          -1.2708688968170299,
          -0.7921347332382709,
          -0.7542326738806092,
          0.3611015438774741,
          -1.2305274427793824,
          0.11497648272416469,
          -1.8502596376304632,
          0.06978525653484421,
          1.1867536134380843,
          -0.9763457265875289,
          -1.091533503765224,
          0.35707294910326165,
          2.1072308154768313,
          0.6387360465201848,
          0.058417498186236254,
          -1.0346309649677288,
          -0.7013012405011099,
          0.09998322575234823,
          -2.1730739630698115,
          0.013137620353027159,
          0.8498537412851126,
          -1.1601362289904686,
          0.42842763830562686,
          -1.1606836265187135,
          0.11829465633818438,
          0.29336853718176437,
          -0.5122934746820433,
          -3.0060388759477923,
          -0.4441151955675879,
          -0.9402005711963398
         ],
         "y": [
          0.40938459211239786,
          -0.22154766962168673,
          -0.9584728812797579,
          -0.6007248797411072,
          1.0661668921206873,
          0.14631361146490196,
          -1.1435558289146737,
          1.68796601235511,
          0.12989779648127478,
          3.7245823878708824,
          1.9678641342183556,
          -0.20845180202716296,
          -1.614825931331234,
          -0.14597230616444587,
          1.3168894945202323,
          -1.7567953002881203,
          0.2759772720374767,
          -1.4103111953727088,
          -0.1272545865926612,
          -1.7456842954622775,
          0.2390715037314362,
          0.5217587402476628,
          0.24143321290428854,
          0.6606943884792627,
          0.4399311514181095,
          -0.6535679495233643,
          -0.07735284286215556,
          0.3384271065429991,
          0.06302949732047497,
          -0.32254760273548394,
          0.7101443093113498,
          1.7513660014667392,
          0.3028306271632832,
          0.1520247471267658,
          -0.7490484024428459,
          0.3445564529862387,
          0.012417087342731295,
          0.8871512014995954,
          0.5928706528000705,
          1.0790327279042782,
          0.28623334833778485,
          -1.2282475885995336,
          -0.6346761187207861,
          -0.33881830991883904,
          -0.7304257297367158,
          0.35457310550350485,
          -0.2307906884626834,
          1.5656376357278468,
          -0.01246760911672262,
          1.1093761306116394,
          -0.9062250890749646,
          1.4109973821636224,
          1.4915686661409417,
          0.9617851165861964,
          0.15324645985031055,
          2.6192643349199227,
          0.09558875145828494,
          -0.7224342918851633,
          0.24714287078350552,
          0.0871636243840793,
          0.8273943936066327,
          -0.3254694393076152,
          -0.3109447416702733,
          0.7365078320562298,
          -0.31090764125254466,
          -1.0198342805251912,
          -0.8121358935271744,
          0.1530268995299714,
          -0.04878895017047181,
          2.386773934609274,
          0.506056787107157,
          -1.5736656518147039,
          0.08650296129815593,
          -1.0826616193615581,
          0.07833063033194558,
          -0.8097118302428975,
          0.5822673618597896,
          -0.6756056164842522,
          0.2256813711253767,
          0.4115520900900538,
          0.5560981619574848,
          0.012294386762391203,
          -0.32830469182915245,
          -0.4357489272077826,
          0.29939658003678604,
          0.9610234895861317,
          -1.0416144474302365,
          0.30438082069766537,
          -0.7530550998446056,
          -0.9298646951962042,
          -0.17583994993888405,
          0.16078995564944973,
          -0.3638965113742402,
          -0.478811752412027,
          0.43848346002584887,
          -0.5765467239676391,
          -0.07180298598100751,
          0.028935608334816204,
          0.5246236541263944,
          -0.41950640359897484,
          0.2860159389096745,
          0.1967197027084182,
          -0.8724337084963191,
          -0.8354048346043982,
          0.5198687174359318,
          3.767923129262448,
          -0.17025148325501951,
          -0.809774184354322,
          0.3080079046098876,
          5.260718123058533,
          0.7430571317455003,
          -0.531963997962253,
          -0.281574385553228,
          1.0007381139128824,
          0.5547704331066903,
          -1.079699258596182,
          -0.06115749829666996,
          3.2757534990637236,
          -0.567728904983608,
          0.5911020129094879,
          -0.4904065298670935,
          -0.9143799023550477,
          -0.5013781843042155,
          -1.382070157305672,
          0.13522350398748342,
          -0.5652014203612358,
          0.07457618600475507,
          0.164789561593251,
          -0.14708948054338794,
          0.025037945946463032,
          -0.460346771545273,
          1.10706911603707,
          -0.2501230222571405,
          0.3198691879692834,
          -0.04953982799120996,
          0.15359804042024602,
          -0.9069929426976099,
          0.6794578667146867,
          -0.4645275801778263,
          -0.8489906561883016,
          0.2200262480591099,
          0.43873533389550157,
          0.3278805435279527,
          -0.39000325564893634,
          0.9990468114760305,
          -0.3940566464635567,
          -0.8172737659665066,
          -0.29397210940615937,
          -0.03500701818375209,
          -0.48260221175277956,
          0.2993386651912007,
          -0.294428620699178,
          -1.0795628923327274,
          -0.2879758772605505,
          -0.2893917695769514,
          -0.631659430051165,
          0.0032426039733152107,
          -0.35019390625848307,
          0.0921537820934451,
          0.8345505715110073,
          -0.16080809396028475,
          -1.3338873565531397,
          1.6289205636188901,
          -2.0985763389933614,
          0.2766640794530973,
          -0.2984344532655599,
          -0.7805048495543826,
          -1.6423843493603798,
          0.05655730271372921,
          0.4676316036304362,
          -0.18276661696413668,
          0.2596115179884668,
          -0.7480111572644206,
          -1.1022778752302884,
          0.11202050396302389,
          0.5429091497472944,
          -1.5144155656551177,
          -1.544361224239545,
          -0.018094130058999507,
          -0.18155312484559788,
          -0.16250951925213034,
          -0.5828994698436871,
          -0.0018741763494280223,
          0.18186173739182376,
          -0.5649519465125725,
          1.188236393556313,
          -1.435518570117422,
          1.1767160237477643,
          -0.6360102362293164,
          -0.3214882732882841,
          1.3212974405615443,
          0.5482516596099928,
          -0.4513745255782335,
          -0.8691050511727394,
          -1.5304429682094265,
          -0.026994530435666336,
          -0.26778597896437245,
          -0.1032419154064168,
          -0.07928856693456154,
          0.0582746530158082,
          -2.008163320791643,
          0.703205655524833,
          -0.3823964835000298,
          0.07586382727018622,
          0.20558891971584276,
          0.6704870985302941,
          -0.8600641682179355,
          -0.48537511016289214,
          0.09243125725936942,
          -0.2567507417619394,
          1.2594153314349834,
          -1.460381366744853,
          2.345904348716187,
          -0.28481945595492325,
          0.17063910276341973,
          -0.38237539138344095,
          1.0012977556816998,
          0.9572394285108128,
          0.081074353015325,
          0.8058257034117827,
          0.2961005561713082,
          -0.7074939657447219,
          0.5198175847572314,
          -1.7188925566463047,
          2.1029308716913317,
          0.2948548500102947,
          -0.8241831222143368,
          -1.3746680225801322,
          0.835637762447782,
          0.2731263588173754,
          -1.8272697510298874,
          -0.7051560008805777,
          -0.621052552169544,
          0.46183047331602584,
          0.14093131739001505,
          1.57281490574881,
          0.028118175647859397,
          -0.7924335392383117,
          -0.06763143536807031,
          -0.19966109372439123,
          2.7825021093462476,
          -0.12736363411694654,
          -0.5663361124263052,
          -0.2640245938341691,
          -0.041570360751708405,
          0.14459109405646722,
          0.2622340494764937,
          0.1272548882062963,
          -0.15425725908540308,
          -0.5496717910947819,
          0.9780428152631063,
          -0.5473549183472267,
          -0.19243648574095748,
          -0.08209112670186859,
          -0.24111014061959762,
          0.4160682188202735,
          0.4773363582737717,
          -0.25174540898447106,
          -0.7702615452588184,
          0.060157377460875926,
          -0.8255049340166448,
          0.04568251105897503,
          -0.5872073867200794,
          -0.4827385780162345,
          -1.1997776257669976,
          0.5777458591145093,
          -0.021832664558865275,
          -1.2850430278793055,
          -0.0183646960242517,
          -0.9089426674286465,
          -0.2359274317549683,
          -0.6861783238289962,
          -0.3788142360131048,
          -1.2709397487597627,
          -1.2434980826601298,
          1.1437563286858354,
          0.7167501577109366,
          -2.2326774792867123,
          -0.6534749419025595,
          1.6910917485490158,
          -0.19754734901521426,
          -1.5475237831624478,
          -0.1744574565759631,
          -0.04491810254936804,
          -0.24250968851013777,
          0.4997578261019278,
          0.18034385740675513,
          2.3112616682868827,
          0.020464916994797373,
          1.6171305828164404,
          -0.8099613040915606,
          -1.2964658606652362,
          0.8314895894495147,
          -0.9408310166891162,
          -1.089927387823644,
          -0.06535582461535072,
          4.15758821918042,
          -1.4945393523065915,
          1.084501733346567
         ],
         "z": [
          -0.5454014834817907,
          0.15843773945528233,
          -0.24672468167456338,
          1.0290193287096812,
          0.6406979967112573,
          -1.2703057083224594,
          -0.8916687537614001,
          -0.2424962446901928,
          -0.14064352315063536,
          4.188487664804654,
          0.8264700027098708,
          -0.44405002415361067,
          0.8231200690029701,
          0.39452941687742854,
          0.32944752519306414,
          -1.1975842655936888,
          -1.883586095538853,
          0.6029811538699738,
          -0.8192430960271699,
          1.239532933949635,
          -0.33844398566220185,
          -0.14585825553465237,
          -0.8210249717387825,
          0.01714807687721851,
          -0.5672117397401466,
          -0.7256531036022027,
          -2.286782665160673,
          -0.6655906802687716,
          3.234218281078947,
          -1.3482208736925096,
          -1.7242628606630765,
          -0.38983810319209583,
          0.3282078396273187,
          0.528362765018283,
          -0.5197189869136758,
          0.9747629961767635,
          -1.9749225556549563,
          -1.5796760935517364,
          0.653726913197831,
          1.141486672668412,
          -0.2941602985730625,
          0.5538448616923605,
          -0.6800821389289133,
          -0.9530399900754866,
          -0.0771424344136969,
          0.9749934757578246,
          0.20168899660631115,
          -0.6357771587382253,
          0.9236191260012709,
          -0.0749486316681571,
          -0.686596119525519,
          0.36786763727364813,
          3.760078323989546,
          -0.8808325683922867,
          0.6376493791929483,
          -1.7200508130357743,
          0.37406025741076704,
          -0.45379998007717276,
          0.4308859068618808,
          -0.7685581378907157,
          0.5629009251985849,
          1.2675561582399681,
          0.16349349498227347,
          0.6206186420703671,
          0.8335820420604407,
          1.1620773181831632,
          1.12112368125792,
          -0.9282780435043372,
          -0.6320543753446513,
          -0.06743290772614167,
          0.7289578067451139,
          -0.07990930554748708,
          -1.6861689168880192,
          -0.23970132079082315,
          -0.6092390488419775,
          -0.3793398246404704,
          -0.9984178845536148,
          1.015293830865326,
          -1.4388278270853643,
          -0.04040853987150654,
          -0.3186417778786621,
          -0.5022318991237401,
          0.8734557916819827,
          -0.8014849203340481,
          -0.1988962261546205,
          0.047816413180534256,
          0.1522380116490883,
          -0.718343082502789,
          0.5022974447802742,
          0.028740729905438533,
          -0.9315504729238315,
          -0.2256527086382576,
          1.0123448623216926,
          0.29718915500721615,
          -0.3567462418862733,
          -0.11935375405249737,
          -0.23226967710696064,
          -0.7059742722518352,
          -0.13117386321570865,
          -0.2704922349719499,
          -0.45615394785404917,
          -1.033949177377934,
          -1.269469528262041,
          0.8852825685250707,
          0.6338619936361631,
          -0.6700382132924425,
          0.29458527438156595,
          0.6385426951813394,
          -0.34022028552365946,
          0.5733295850916726,
          -1.584251098082729,
          0.2455172698322359,
          0.8023973112224623,
          -0.6218849849206581,
          -0.16146304111256274,
          -0.009736518103118643,
          -0.44566697774073494,
          -0.30841540826469693,
          -0.5709133253372655,
          -1.167658989807214,
          0.10621862461806753,
          -0.540373279298275,
          -0.33343091020600757,
          -0.23191564332510164,
          1.652948406950182,
          1.048569869795724,
          1.3402382599664902,
          -0.21916578428260317,
          -0.5279801429780797,
          1.8607279096838103,
          -0.04155463541674095,
          3.266569149455585,
          0.7189780110825009,
          -0.2544202768172219,
          -1.3189766919703305,
          -0.9789327531537446,
          -0.49914888669800084,
          0.04107195300286692,
          -0.27888168130067914,
          0.225715062048696,
          -1.3312524293884813,
          0.537930140427992,
          0.3098446254738424,
          -0.3466096200897461,
          -0.5420316420403564,
          0.1830402140668841,
          0.08979740997627435,
          -0.4342889165297387,
          -0.5163586552345968,
          -0.31136834740814534,
          0.0823180037615628,
          -0.4391876973879436,
          0.30827909542817705,
          0.5107574156900193,
          -0.6561786513643395,
          0.3058332914795133,
          0.5586481209137057,
          0.3891324074323978,
          -1.477915689404431,
          -0.18822127744492317,
          -0.47252644809646943,
          0.5986590856338251,
          -0.5539716199392929,
          0.4470702919715584,
          0.7161488801582938,
          -1.1868763704889005,
          0.029129286163486614,
          0.9082523274709247,
          -0.48411716950834066,
          -0.9919347821993919,
          0.668696378800204,
          0.16794385348274718,
          -0.7431968652457259,
          0.29261717392229364,
          -0.6379400832413823,
          -0.24726304981900027,
          -0.6582115317544478,
          0.5438402156252305,
          -0.25225366684899275,
          -0.12192118058561,
          0.8948808221771625,
          -0.12500545364109594,
          -0.37034836329745674,
          -0.1153885652766529,
          0.07161677633665132,
          0.024783838353681416,
          0.20099896742167098,
          0.510243887863426,
          -0.2436626551317476,
          0.8798782293811616,
          -0.698290961870475,
          -0.1057143799934153,
          0.18628176524399548,
          -0.8039174823445074,
          1.1133914954863655,
          -0.654846467607805,
          0.7785656178362516,
          -0.614128431848596,
          0.3498181808080614,
          0.33633907726388845,
          -0.4873287775347897,
          0.5699242860823265,
          -0.9029223467095024,
          1.4646791692086263,
          -1.4913556188628356,
          0.3599931470822094,
          0.8933902684692808,
          -1.7233512337879406,
          -0.1932024966233292,
          0.2793945252215568,
          -0.9262489851156607,
          0.26029160793788436,
          -1.1257289873072647,
          0.8957647613435914,
          -0.7107794630895291,
          -0.8005925596390192,
          -0.9525914311813962,
          5.618785092169819,
          -0.6203297878182996,
          -0.20175479692383877,
          -0.41790669461012475,
          -0.3999670607841182,
          0.8781636860044698,
          0.503255247425141,
          -0.21831101074109985,
          -0.8053837320683341,
          0.15580158530468816,
          0.10154923151120265,
          2.2527934852649634,
          -0.7674373447377093,
          0.4020340099776326,
          -0.6930427677872039,
          0.9208132315940537,
          0.44554021949380274,
          0.25511552348432764,
          -1.2845695743112504,
          -1.0800335131398155,
          -0.6185826123505014,
          -0.47709380862459927,
          0.2128193819212665,
          -0.7752284615172264,
          -0.29372717374267987,
          1.0567673377590132,
          -1.0567985743690855,
          0.6935178880181967,
          -0.005228225119310589,
          0.13107798321115946,
          0.515228792506904,
          0.9639383923186795,
          0.3922803685889983,
          -0.05759940079415843,
          -0.0031251254845704028,
          0.3276328808539859,
          -0.6827487313326919,
          0.15461947565611495,
          0.17604215557537076,
          -0.021244002639427884,
          -0.13772254405612863,
          0.5667838323922297,
          -0.018413464434147302,
          0.12306962690524058,
          -0.5163088693782697,
          -0.19819693565475321,
          -0.6293839609394413,
          -0.0682474297992636,
          0.2671295013980613,
          0.6546702269573853,
          0.5771394887951482,
          0.6223696395395968,
          1.0066188161506464,
          1.098770254934749,
          0.30860493990809723,
          -0.43762405772736107,
          0.7013409748698184,
          -0.1462347047990282,
          0.4345451386906999,
          -0.7448728863771721,
          -0.606655428917185,
          0.22629559667218382,
          0.21790326343374378,
          -0.7912742985227235,
          0.4669847244879606,
          2.79458289865921,
          -0.4374383280822229,
          0.2439939062656226,
          0.18716934864423063,
          0.2599113164704351,
          0.5601443870081017,
          -0.41255173548055446,
          -2.106615414976813,
          0.5976132688186024,
          0.1348579025327065,
          0.20512617038266867,
          -0.4086420754987983,
          -0.25515058209583147,
          0.24771300419412456,
          0.31667883346894754,
          1.024890194132335,
          0.7251403415013071
         ]
        }
       ],
       "layout": {
        "template": {
         "data": {
          "bar": [
           {
            "error_x": {
             "color": "#2a3f5f"
            },
            "error_y": {
             "color": "#2a3f5f"
            },
            "marker": {
             "line": {
              "color": "#E5ECF6",
              "width": 0.5
             },
             "pattern": {
              "fillmode": "overlay",
              "size": 10,
              "solidity": 0.2
             }
            },
            "type": "bar"
           }
          ],
          "barpolar": [
           {
            "marker": {
             "line": {
              "color": "#E5ECF6",
              "width": 0.5
             },
             "pattern": {
              "fillmode": "overlay",
              "size": 10,
              "solidity": 0.2
             }
            },
            "type": "barpolar"
           }
          ],
          "carpet": [
           {
            "aaxis": {
             "endlinecolor": "#2a3f5f",
             "gridcolor": "white",
             "linecolor": "white",
             "minorgridcolor": "white",
             "startlinecolor": "#2a3f5f"
            },
            "baxis": {
             "endlinecolor": "#2a3f5f",
             "gridcolor": "white",
             "linecolor": "white",
             "minorgridcolor": "white",
             "startlinecolor": "#2a3f5f"
            },
            "type": "carpet"
           }
          ],
          "choropleth": [
           {
            "colorbar": {
             "outlinewidth": 0,
             "ticks": ""
            },
            "type": "choropleth"
           }
          ],
          "contour": [
           {
            "colorbar": {
             "outlinewidth": 0,
             "ticks": ""
            },
            "colorscale": [
             [
              0,
              "#0d0887"
             ],
             [
              0.1111111111111111,
              "#46039f"
             ],
             [
              0.2222222222222222,
              "#7201a8"
             ],
             [
              0.3333333333333333,
              "#9c179e"
             ],
             [
              0.4444444444444444,
              "#bd3786"
             ],
             [
              0.5555555555555556,
              "#d8576b"
             ],
             [
              0.6666666666666666,
              "#ed7953"
             ],
             [
              0.7777777777777778,
              "#fb9f3a"
             ],
             [
              0.8888888888888888,
              "#fdca26"
             ],
             [
              1,
              "#f0f921"
             ]
            ],
            "type": "contour"
           }
          ],
          "contourcarpet": [
           {
            "colorbar": {
             "outlinewidth": 0,
             "ticks": ""
            },
            "type": "contourcarpet"
           }
          ],
          "heatmap": [
           {
            "colorbar": {
             "outlinewidth": 0,
             "ticks": ""
            },
            "colorscale": [
             [
              0,
              "#0d0887"
             ],
             [
              0.1111111111111111,
              "#46039f"
             ],
             [
              0.2222222222222222,
              "#7201a8"
             ],
             [
              0.3333333333333333,
              "#9c179e"
             ],
             [
              0.4444444444444444,
              "#bd3786"
             ],
             [
              0.5555555555555556,
              "#d8576b"
             ],
             [
              0.6666666666666666,
              "#ed7953"
             ],
             [
              0.7777777777777778,
              "#fb9f3a"
             ],
             [
              0.8888888888888888,
              "#fdca26"
             ],
             [
              1,
              "#f0f921"
             ]
            ],
            "type": "heatmap"
           }
          ],
          "heatmapgl": [
           {
            "colorbar": {
             "outlinewidth": 0,
             "ticks": ""
            },
            "colorscale": [
             [
              0,
              "#0d0887"
             ],
             [
              0.1111111111111111,
              "#46039f"
             ],
             [
              0.2222222222222222,
              "#7201a8"
             ],
             [
              0.3333333333333333,
              "#9c179e"
             ],
             [
              0.4444444444444444,
              "#bd3786"
             ],
             [
              0.5555555555555556,
              "#d8576b"
             ],
             [
              0.6666666666666666,
              "#ed7953"
             ],
             [
              0.7777777777777778,
              "#fb9f3a"
             ],
             [
              0.8888888888888888,
              "#fdca26"
             ],
             [
              1,
              "#f0f921"
             ]
            ],
            "type": "heatmapgl"
           }
          ],
          "histogram": [
           {
            "marker": {
             "pattern": {
              "fillmode": "overlay",
              "size": 10,
              "solidity": 0.2
             }
            },
            "type": "histogram"
           }
          ],
          "histogram2d": [
           {
            "colorbar": {
             "outlinewidth": 0,
             "ticks": ""
            },
            "colorscale": [
             [
              0,
              "#0d0887"
             ],
             [
              0.1111111111111111,
              "#46039f"
             ],
             [
              0.2222222222222222,
              "#7201a8"
             ],
             [
              0.3333333333333333,
              "#9c179e"
             ],
             [
              0.4444444444444444,
              "#bd3786"
             ],
             [
              0.5555555555555556,
              "#d8576b"
             ],
             [
              0.6666666666666666,
              "#ed7953"
             ],
             [
              0.7777777777777778,
              "#fb9f3a"
             ],
             [
              0.8888888888888888,
              "#fdca26"
             ],
             [
              1,
              "#f0f921"
             ]
            ],
            "type": "histogram2d"
           }
          ],
          "histogram2dcontour": [
           {
            "colorbar": {
             "outlinewidth": 0,
             "ticks": ""
            },
            "colorscale": [
             [
              0,
              "#0d0887"
             ],
             [
              0.1111111111111111,
              "#46039f"
             ],
             [
              0.2222222222222222,
              "#7201a8"
             ],
             [
              0.3333333333333333,
              "#9c179e"
             ],
             [
              0.4444444444444444,
              "#bd3786"
             ],
             [
              0.5555555555555556,
              "#d8576b"
             ],
             [
              0.6666666666666666,
              "#ed7953"
             ],
             [
              0.7777777777777778,
              "#fb9f3a"
             ],
             [
              0.8888888888888888,
              "#fdca26"
             ],
             [
              1,
              "#f0f921"
             ]
            ],
            "type": "histogram2dcontour"
           }
          ],
          "mesh3d": [
           {
            "colorbar": {
             "outlinewidth": 0,
             "ticks": ""
            },
            "type": "mesh3d"
           }
          ],
          "parcoords": [
           {
            "line": {
             "colorbar": {
              "outlinewidth": 0,
              "ticks": ""
             }
            },
            "type": "parcoords"
           }
          ],
          "pie": [
           {
            "automargin": true,
            "type": "pie"
           }
          ],
          "scatter": [
           {
            "marker": {
             "colorbar": {
              "outlinewidth": 0,
              "ticks": ""
             }
            },
            "type": "scatter"
           }
          ],
          "scatter3d": [
           {
            "line": {
             "colorbar": {
              "outlinewidth": 0,
              "ticks": ""
             }
            },
            "marker": {
             "colorbar": {
              "outlinewidth": 0,
              "ticks": ""
             }
            },
            "type": "scatter3d"
           }
          ],
          "scattercarpet": [
           {
            "marker": {
             "colorbar": {
              "outlinewidth": 0,
              "ticks": ""
             }
            },
            "type": "scattercarpet"
           }
          ],
          "scattergeo": [
           {
            "marker": {
             "colorbar": {
              "outlinewidth": 0,
              "ticks": ""
             }
            },
            "type": "scattergeo"
           }
          ],
          "scattergl": [
           {
            "marker": {
             "colorbar": {
              "outlinewidth": 0,
              "ticks": ""
             }
            },
            "type": "scattergl"
           }
          ],
          "scattermapbox": [
           {
            "marker": {
             "colorbar": {
              "outlinewidth": 0,
              "ticks": ""
             }
            },
            "type": "scattermapbox"
           }
          ],
          "scatterpolar": [
           {
            "marker": {
             "colorbar": {
              "outlinewidth": 0,
              "ticks": ""
             }
            },
            "type": "scatterpolar"
           }
          ],
          "scatterpolargl": [
           {
            "marker": {
             "colorbar": {
              "outlinewidth": 0,
              "ticks": ""
             }
            },
            "type": "scatterpolargl"
           }
          ],
          "scatterternary": [
           {
            "marker": {
             "colorbar": {
              "outlinewidth": 0,
              "ticks": ""
             }
            },
            "type": "scatterternary"
           }
          ],
          "surface": [
           {
            "colorbar": {
             "outlinewidth": 0,
             "ticks": ""
            },
            "colorscale": [
             [
              0,
              "#0d0887"
             ],
             [
              0.1111111111111111,
              "#46039f"
             ],
             [
              0.2222222222222222,
              "#7201a8"
             ],
             [
              0.3333333333333333,
              "#9c179e"
             ],
             [
              0.4444444444444444,
              "#bd3786"
             ],
             [
              0.5555555555555556,
              "#d8576b"
             ],
             [
              0.6666666666666666,
              "#ed7953"
             ],
             [
              0.7777777777777778,
              "#fb9f3a"
             ],
             [
              0.8888888888888888,
              "#fdca26"
             ],
             [
              1,
              "#f0f921"
             ]
            ],
            "type": "surface"
           }
          ],
          "table": [
           {
            "cells": {
             "fill": {
              "color": "#EBF0F8"
             },
             "line": {
              "color": "white"
             }
            },
            "header": {
             "fill": {
              "color": "#C8D4E3"
             },
             "line": {
              "color": "white"
             }
            },
            "type": "table"
           }
          ]
         },
         "layout": {
          "annotationdefaults": {
           "arrowcolor": "#2a3f5f",
           "arrowhead": 0,
           "arrowwidth": 1
          },
          "autotypenumbers": "strict",
          "coloraxis": {
           "colorbar": {
            "outlinewidth": 0,
            "ticks": ""
           }
          },
          "colorscale": {
           "diverging": [
            [
             0,
             "#8e0152"
            ],
            [
             0.1,
             "#c51b7d"
            ],
            [
             0.2,
             "#de77ae"
            ],
            [
             0.3,
             "#f1b6da"
            ],
            [
             0.4,
             "#fde0ef"
            ],
            [
             0.5,
             "#f7f7f7"
            ],
            [
             0.6,
             "#e6f5d0"
            ],
            [
             0.7,
             "#b8e186"
            ],
            [
             0.8,
             "#7fbc41"
            ],
            [
             0.9,
             "#4d9221"
            ],
            [
             1,
             "#276419"
            ]
           ],
           "sequential": [
            [
             0,
             "#0d0887"
            ],
            [
             0.1111111111111111,
             "#46039f"
            ],
            [
             0.2222222222222222,
             "#7201a8"
            ],
            [
             0.3333333333333333,
             "#9c179e"
            ],
            [
             0.4444444444444444,
             "#bd3786"
            ],
            [
             0.5555555555555556,
             "#d8576b"
            ],
            [
             0.6666666666666666,
             "#ed7953"
            ],
            [
             0.7777777777777778,
             "#fb9f3a"
            ],
            [
             0.8888888888888888,
             "#fdca26"
            ],
            [
             1,
             "#f0f921"
            ]
           ],
           "sequentialminus": [
            [
             0,
             "#0d0887"
            ],
            [
             0.1111111111111111,
             "#46039f"
            ],
            [
             0.2222222222222222,
             "#7201a8"
            ],
            [
             0.3333333333333333,
             "#9c179e"
            ],
            [
             0.4444444444444444,
             "#bd3786"
            ],
            [
             0.5555555555555556,
             "#d8576b"
            ],
            [
             0.6666666666666666,
             "#ed7953"
            ],
            [
             0.7777777777777778,
             "#fb9f3a"
            ],
            [
             0.8888888888888888,
             "#fdca26"
            ],
            [
             1,
             "#f0f921"
            ]
           ]
          },
          "colorway": [
           "#636efa",
           "#EF553B",
           "#00cc96",
           "#ab63fa",
           "#FFA15A",
           "#19d3f3",
           "#FF6692",
           "#B6E880",
           "#FF97FF",
           "#FECB52"
          ],
          "font": {
           "color": "#2a3f5f"
          },
          "geo": {
           "bgcolor": "white",
           "lakecolor": "white",
           "landcolor": "#E5ECF6",
           "showlakes": true,
           "showland": true,
           "subunitcolor": "white"
          },
          "hoverlabel": {
           "align": "left"
          },
          "hovermode": "closest",
          "mapbox": {
           "style": "light"
          },
          "paper_bgcolor": "white",
          "plot_bgcolor": "#E5ECF6",
          "polar": {
           "angularaxis": {
            "gridcolor": "white",
            "linecolor": "white",
            "ticks": ""
           },
           "bgcolor": "#E5ECF6",
           "radialaxis": {
            "gridcolor": "white",
            "linecolor": "white",
            "ticks": ""
           }
          },
          "scene": {
           "xaxis": {
            "backgroundcolor": "#E5ECF6",
            "gridcolor": "white",
            "gridwidth": 2,
            "linecolor": "white",
            "showbackground": true,
            "ticks": "",
            "zerolinecolor": "white"
           },
           "yaxis": {
            "backgroundcolor": "#E5ECF6",
            "gridcolor": "white",
            "gridwidth": 2,
            "linecolor": "white",
            "showbackground": true,
            "ticks": "",
            "zerolinecolor": "white"
           },
           "zaxis": {
            "backgroundcolor": "#E5ECF6",
            "gridcolor": "white",
            "gridwidth": 2,
            "linecolor": "white",
            "showbackground": true,
            "ticks": "",
            "zerolinecolor": "white"
           }
          },
          "shapedefaults": {
           "line": {
            "color": "#2a3f5f"
           }
          },
          "ternary": {
           "aaxis": {
            "gridcolor": "white",
            "linecolor": "white",
            "ticks": ""
           },
           "baxis": {
            "gridcolor": "white",
            "linecolor": "white",
            "ticks": ""
           },
           "bgcolor": "#E5ECF6",
           "caxis": {
            "gridcolor": "white",
            "linecolor": "white",
            "ticks": ""
           }
          },
          "title": {
           "x": 0.05
          },
          "xaxis": {
           "automargin": true,
           "gridcolor": "white",
           "linecolor": "white",
           "ticks": "",
           "title": {
            "standoff": 15
           },
           "zerolinecolor": "white",
           "zerolinewidth": 2
          },
          "yaxis": {
           "automargin": true,
           "gridcolor": "white",
           "linecolor": "white",
           "ticks": "",
           "title": {
            "standoff": 15
           },
           "zerolinecolor": "white",
           "zerolinewidth": 2
          }
         }
        }
       }
      },
      "text/html": [
       "<div>                            <div id=\"6b318453-0bad-4b57-9be5-68181bdeb2ce\" class=\"plotly-graph-div\" style=\"height:525px; width:100%;\"></div>            <script type=\"text/javascript\">                require([\"plotly\"], function(Plotly) {                    window.PLOTLYENV=window.PLOTLYENV || {};                                    if (document.getElementById(\"6b318453-0bad-4b57-9be5-68181bdeb2ce\")) {                    Plotly.newPlot(                        \"6b318453-0bad-4b57-9be5-68181bdeb2ce\",                        [{\"marker\":{\"color\":[2,1,2,1,2,2,2,1,2,0,0,2,1,1,1,2,2,1,2,1,2,2,2,1,2,2,2,2,0,2,2,2,1,1,2,0,2,2,1,1,2,1,2,2,2,1,1,1,0,1,2,1,0,2,2,2,2,2,1,2,1,1,1,1,1,2,1,2,2,1,1,2,2,2,2,2,2,1,2,1,2,2,2,2,1,1,2,2,1,2,2,1,1,2,1,2,2,2,1,2,2,2,2,1,2,1,1,1,2,1,2,1,1,2,1,2,1,2,2,2,2,2,2,2,0,1,1,1,2,0,1,0,1,2,2,2,2,2,2,1,2,1,1,2,2,1,1,2,2,2,2,2,1,1,2,2,1,1,2,1,2,1,1,1,1,2,1,2,2,2,1,1,2,1,2,1,2,1,2,1,1,2,2,2,2,1,1,1,2,1,2,2,1,2,1,2,1,2,1,2,2,1,2,0,2,1,1,2,1,1,2,1,2,1,2,2,2,0,2,1,2,2,1,1,1,2,2,2,0,2,2,2,1,1,1,2,2,2,2,1,1,2,1,2,1,2,1,2,1,1,1,1,1,2,1,1,2,1,1,1,1,1,2,2,2,1,1,2,1,1,1,1,2,1,2,1,2,2,1,1,2,2,0,2,1,1,2,1,2,2,1,2,1,2,2,1,1,1,1],\"colorscale\":[[0.0,\"#440154\"],[0.1111111111111111,\"#482878\"],[0.2222222222222222,\"#3e4989\"],[0.3333333333333333,\"#31688e\"],[0.4444444444444444,\"#26828e\"],[0.5555555555555556,\"#1f9e89\"],[0.6666666666666666,\"#35b779\"],[0.7777777777777778,\"#6ece58\"],[0.8888888888888888,\"#b5de2b\"],[1.0,\"#fde725\"]],\"size\":5},\"mode\":\"markers\",\"x\":[1.1437660661244295,-0.5067119314103931,0.5447716978389733,-0.09365695270562989,0.7996378948448826,2.334550959397144,1.1708684902576871,-0.9008905186200755,0.26624195863011524,5.7354101513570885,2.1069331254702903,-0.18106528465258304,-0.619744198144963,-0.8143141250300288,-1.515404760566319,1.9137201981534184,1.1799708264134439,-0.9160668353310861,0.3458314702825465,0.18466425580289406,0.11465231067024922,0.22993449594325038,0.030219112931425575,-1.1810254737410513,1.0600216151873947,1.81826991582348,1.9041973683611384,0.4140984010408907,3.028553217782066,1.3073227578447801,2.1790474092541987,2.0478610637530275,-1.0755120370847504,-0.9084521985238853,0.28248745966534317,1.9286096865493332,1.540579000035673,0.7258025120592413,0.3873446008201143,0.6998018081891634,0.8227367782222894,-0.35969094603290674,0.7022537819500322,0.571583676904676,-0.02321907297462281,-0.4486382309666538,-0.8666042872958589,-1.186782355236552,3.4519594929808273,-0.9695463557275413,0.5301221697617569,-1.0043003354070872,3.3373097260032183,-0.058847186935020564,0.4562792775481451,1.6216985566133013,1.4966630168678705,-0.3724154992051992,-1.023469017641932,0.6336186704385237,-1.5648335816151822,0.11270777892464062,-0.47349267689634233,-1.566923665584184,-1.066500371184813,1.4272662858012506,-0.981346319979605,0.35295501319644973,0.4276958020607658,-0.3090523361183155,-1.8804796659526675,0.03806927014865337,1.1976674679329844,0.5909192640129054,0.33836685571688696,-0.2665416612446043,-0.06470572146481644,-1.0845380334983137,0.25728033663691113,-0.8739724707687592,0.5701353985592245,0.2220642517609796,0.855546485429965,1.6366743421765635,-0.5065487331434103,-1.4922203299688381,-0.16611869362286003,-0.2558429922559885,-1.2609537969780744,-0.08149130996441609,0.20212227770383573,-0.4068459963195402,-1.2360392000638014,0.34492030775245464,-0.8416352493761451,-0.22314733731321446,0.1250021838015578,0.3253717768827813,-0.3802806255669673,0.050474810773889336,-0.06455500973456402,0.6940069433203355,1.312061239269304,-1.1720422620281452,0.4293503137385527,-0.46133816033555486,-0.3788888228012903,-1.0657795177184286,-0.19887977234955123,-3.0277583557901284,1.1005814317670835,-0.3179214599792042,-0.43257734328307595,0.11114191889074262,-0.3704988755598605,-0.09302665998491377,-0.5298198476306464,1.6073108760146577,0.12068430552370837,1.6618248398616335,0.23820728649596368,0.38601565713966307,-0.36537900357582315,0.1079053622037719,1.5855933096596238,-1.010028883802588,-0.4351358650961181,-0.7023533675584498,-0.41382777570733337,0.9646763274080647,-0.802034689297652,2.9870755174960153,-0.9901482803430971,-0.02054014028546194,1.1281104017103454,0.6741677954382824,0.21088935390257268,0.7128959753588731,-0.06931421675504554,-0.7734045478681795,0.9061116425811788,-1.487623612070424,-1.1941253973621777,-0.19766259866280933,0.5885387349763519,-1.0517594833630677,-0.7683425838784504,0.014445478562674266,1.2216261703482978,-0.20534585100665284,1.415098250306173,-0.1491169696090909,-0.614283518168431,-0.7386557785532892,-0.056185788089091235,0.4017173122742185,-0.5801288239007595,-0.8477319785248107,1.4158942239016827,-0.6109815376975435,0.2738626815025972,-0.944465337591968,-0.8366049821839697,-0.29247295057917744,-1.3226071291017902,1.260530728804452,-0.7189292664840081,1.2283137463431295,-0.0737162142239585,-0.02210796807349362,-0.47965936497195577,-1.0216203824792018,0.6709260124242523,-0.7151478145328073,-0.11092121368668109,-0.5488385076239497,0.783334544578591,-0.48804913757835194,-0.004260614823700484,-0.8153423347386864,-1.6216798167777313,-0.19357316780082506,0.1158648966608458,1.6689648976270837,-0.11643431605672343,-0.3793542165192267,-0.759186601330592,0.0025237868917469294,-0.05381056618601836,-1.5477257888158007,1.2313097156573667,0.04770856714093939,-1.0304606066674062,0.9280435655983689,-0.24802649959044734,1.3227688564620625,-1.04666122330276,-0.16122044275378997,-0.9335195257803409,0.21878537537282614,0.36802264215632535,-1.518686015441249,0.38818208085085765,1.4966293523161842,0.49155497889877986,-1.2479931346190436,-1.4569001949192242,1.336730711972496,-0.4024284951962061,-1.0775366972698353,-0.14846019484100034,-0.5462165297811243,0.21032576323119548,-0.5426454568926761,-0.20614561329944517,0.8711720653113084,-0.14697196098256418,4.808995047774186,0.20082876427490093,-1.1673658406899847,0.9724364592192248,0.3046255196569007,-1.602190154241696,-0.6752476892377924,-1.254683128239185,0.7622666175628092,0.05333615199085579,-0.11580076914860442,2.5744709903730603,0.43422730450178454,0.8250127217455608,0.6191385494987072,-1.4512888032124398,-0.6664760805862301,-0.7675590147287902,0.2500596731415377,0.6979042068746295,0.7250123874593019,-0.027568648050025433,-0.45609106375497493,-0.5150848596622675,0.2359379857518817,-1.3247366340738957,0.5124410318966371,-0.12257115569720331,-0.043981523343635726,-0.6864814438529565,0.886111411402042,-1.5513041066432387,-0.4584781598186878,-1.6936265464529807,-0.6269551144373323,-0.8704905840340804,0.4759334522037008,-0.6631747540169372,-0.970453465071369,0.28402087097829987,-0.3438409719219625,-1.153904291765972,-1.031312791353709,-0.3557283095524922,-0.47923086298469647,0.48025452223427584,0.3159110071768647,0.30869103317020224,-1.2659893413551064,-0.04479651405470654,0.39220412017479134,-1.3808451670300157,-1.2708688968170299,-0.7921347332382709,-0.7542326738806092,0.3611015438774741,-1.2305274427793824,0.11497648272416469,-1.8502596376304632,0.06978525653484421,1.1867536134380843,-0.9763457265875289,-1.091533503765224,0.35707294910326165,2.1072308154768313,0.6387360465201848,0.058417498186236254,-1.0346309649677288,-0.7013012405011099,0.09998322575234823,-2.1730739630698115,0.013137620353027159,0.8498537412851126,-1.1601362289904686,0.42842763830562686,-1.1606836265187135,0.11829465633818438,0.29336853718176437,-0.5122934746820433,-3.0060388759477923,-0.4441151955675879,-0.9402005711963398],\"y\":[0.40938459211239786,-0.22154766962168673,-0.9584728812797579,-0.6007248797411072,1.0661668921206873,0.14631361146490196,-1.1435558289146737,1.68796601235511,0.12989779648127478,3.7245823878708824,1.9678641342183556,-0.20845180202716296,-1.614825931331234,-0.14597230616444587,1.3168894945202323,-1.7567953002881203,0.2759772720374767,-1.4103111953727088,-0.1272545865926612,-1.7456842954622775,0.2390715037314362,0.5217587402476628,0.24143321290428854,0.6606943884792627,0.4399311514181095,-0.6535679495233643,-0.07735284286215556,0.3384271065429991,0.06302949732047497,-0.32254760273548394,0.7101443093113498,1.7513660014667392,0.3028306271632832,0.1520247471267658,-0.7490484024428459,0.3445564529862387,0.012417087342731295,0.8871512014995954,0.5928706528000705,1.0790327279042782,0.28623334833778485,-1.2282475885995336,-0.6346761187207861,-0.33881830991883904,-0.7304257297367158,0.35457310550350485,-0.2307906884626834,1.5656376357278468,-0.01246760911672262,1.1093761306116394,-0.9062250890749646,1.4109973821636224,1.4915686661409417,0.9617851165861964,0.15324645985031055,2.6192643349199227,0.09558875145828494,-0.7224342918851633,0.24714287078350552,0.0871636243840793,0.8273943936066327,-0.3254694393076152,-0.3109447416702733,0.7365078320562298,-0.31090764125254466,-1.0198342805251912,-0.8121358935271744,0.1530268995299714,-0.04878895017047181,2.386773934609274,0.506056787107157,-1.5736656518147039,0.08650296129815593,-1.0826616193615581,0.07833063033194558,-0.8097118302428975,0.5822673618597896,-0.6756056164842522,0.2256813711253767,0.4115520900900538,0.5560981619574848,0.012294386762391203,-0.32830469182915245,-0.4357489272077826,0.29939658003678604,0.9610234895861317,-1.0416144474302365,0.30438082069766537,-0.7530550998446056,-0.9298646951962042,-0.17583994993888405,0.16078995564944973,-0.3638965113742402,-0.478811752412027,0.43848346002584887,-0.5765467239676391,-0.07180298598100751,0.028935608334816204,0.5246236541263944,-0.41950640359897484,0.2860159389096745,0.1967197027084182,-0.8724337084963191,-0.8354048346043982,0.5198687174359318,3.767923129262448,-0.17025148325501951,-0.809774184354322,0.3080079046098876,5.260718123058533,0.7430571317455003,-0.531963997962253,-0.281574385553228,1.0007381139128824,0.5547704331066903,-1.079699258596182,-0.06115749829666996,3.2757534990637236,-0.567728904983608,0.5911020129094879,-0.4904065298670935,-0.9143799023550477,-0.5013781843042155,-1.382070157305672,0.13522350398748342,-0.5652014203612358,0.07457618600475507,0.164789561593251,-0.14708948054338794,0.025037945946463032,-0.460346771545273,1.10706911603707,-0.2501230222571405,0.3198691879692834,-0.04953982799120996,0.15359804042024602,-0.9069929426976099,0.6794578667146867,-0.4645275801778263,-0.8489906561883016,0.2200262480591099,0.43873533389550157,0.3278805435279527,-0.39000325564893634,0.9990468114760305,-0.3940566464635567,-0.8172737659665066,-0.29397210940615937,-0.03500701818375209,-0.48260221175277956,0.2993386651912007,-0.294428620699178,-1.0795628923327274,-0.2879758772605505,-0.2893917695769514,-0.631659430051165,0.0032426039733152107,-0.35019390625848307,0.0921537820934451,0.8345505715110073,-0.16080809396028475,-1.3338873565531397,1.6289205636188901,-2.0985763389933614,0.2766640794530973,-0.2984344532655599,-0.7805048495543826,-1.6423843493603798,0.05655730271372921,0.4676316036304362,-0.18276661696413668,0.2596115179884668,-0.7480111572644206,-1.1022778752302884,0.11202050396302389,0.5429091497472944,-1.5144155656551177,-1.544361224239545,-0.018094130058999507,-0.18155312484559788,-0.16250951925213034,-0.5828994698436871,-0.0018741763494280223,0.18186173739182376,-0.5649519465125725,1.188236393556313,-1.435518570117422,1.1767160237477643,-0.6360102362293164,-0.3214882732882841,1.3212974405615443,0.5482516596099928,-0.4513745255782335,-0.8691050511727394,-1.5304429682094265,-0.026994530435666336,-0.26778597896437245,-0.1032419154064168,-0.07928856693456154,0.0582746530158082,-2.008163320791643,0.703205655524833,-0.3823964835000298,0.07586382727018622,0.20558891971584276,0.6704870985302941,-0.8600641682179355,-0.48537511016289214,0.09243125725936942,-0.2567507417619394,1.2594153314349834,-1.460381366744853,2.345904348716187,-0.28481945595492325,0.17063910276341973,-0.38237539138344095,1.0012977556816998,0.9572394285108128,0.081074353015325,0.8058257034117827,0.2961005561713082,-0.7074939657447219,0.5198175847572314,-1.7188925566463047,2.1029308716913317,0.2948548500102947,-0.8241831222143368,-1.3746680225801322,0.835637762447782,0.2731263588173754,-1.8272697510298874,-0.7051560008805777,-0.621052552169544,0.46183047331602584,0.14093131739001505,1.57281490574881,0.028118175647859397,-0.7924335392383117,-0.06763143536807031,-0.19966109372439123,2.7825021093462476,-0.12736363411694654,-0.5663361124263052,-0.2640245938341691,-0.041570360751708405,0.14459109405646722,0.2622340494764937,0.1272548882062963,-0.15425725908540308,-0.5496717910947819,0.9780428152631063,-0.5473549183472267,-0.19243648574095748,-0.08209112670186859,-0.24111014061959762,0.4160682188202735,0.4773363582737717,-0.25174540898447106,-0.7702615452588184,0.060157377460875926,-0.8255049340166448,0.04568251105897503,-0.5872073867200794,-0.4827385780162345,-1.1997776257669976,0.5777458591145093,-0.021832664558865275,-1.2850430278793055,-0.0183646960242517,-0.9089426674286465,-0.2359274317549683,-0.6861783238289962,-0.3788142360131048,-1.2709397487597627,-1.2434980826601298,1.1437563286858354,0.7167501577109366,-2.2326774792867123,-0.6534749419025595,1.6910917485490158,-0.19754734901521426,-1.5475237831624478,-0.1744574565759631,-0.04491810254936804,-0.24250968851013777,0.4997578261019278,0.18034385740675513,2.3112616682868827,0.020464916994797373,1.6171305828164404,-0.8099613040915606,-1.2964658606652362,0.8314895894495147,-0.9408310166891162,-1.089927387823644,-0.06535582461535072,4.15758821918042,-1.4945393523065915,1.084501733346567],\"z\":[-0.5454014834817907,0.15843773945528233,-0.24672468167456338,1.0290193287096812,0.6406979967112573,-1.2703057083224594,-0.8916687537614001,-0.2424962446901928,-0.14064352315063536,4.188487664804654,0.8264700027098708,-0.44405002415361067,0.8231200690029701,0.39452941687742854,0.32944752519306414,-1.1975842655936888,-1.883586095538853,0.6029811538699738,-0.8192430960271699,1.239532933949635,-0.33844398566220185,-0.14585825553465237,-0.8210249717387825,0.01714807687721851,-0.5672117397401466,-0.7256531036022027,-2.286782665160673,-0.6655906802687716,3.234218281078947,-1.3482208736925096,-1.7242628606630765,-0.38983810319209583,0.3282078396273187,0.528362765018283,-0.5197189869136758,0.9747629961767635,-1.9749225556549563,-1.5796760935517364,0.653726913197831,1.141486672668412,-0.2941602985730625,0.5538448616923605,-0.6800821389289133,-0.9530399900754866,-0.0771424344136969,0.9749934757578246,0.20168899660631115,-0.6357771587382253,0.9236191260012709,-0.0749486316681571,-0.686596119525519,0.36786763727364813,3.760078323989546,-0.8808325683922867,0.6376493791929483,-1.7200508130357743,0.37406025741076704,-0.45379998007717276,0.4308859068618808,-0.7685581378907157,0.5629009251985849,1.2675561582399681,0.16349349498227347,0.6206186420703671,0.8335820420604407,1.1620773181831632,1.12112368125792,-0.9282780435043372,-0.6320543753446513,-0.06743290772614167,0.7289578067451139,-0.07990930554748708,-1.6861689168880192,-0.23970132079082315,-0.6092390488419775,-0.3793398246404704,-0.9984178845536148,1.015293830865326,-1.4388278270853643,-0.04040853987150654,-0.3186417778786621,-0.5022318991237401,0.8734557916819827,-0.8014849203340481,-0.1988962261546205,0.047816413180534256,0.1522380116490883,-0.718343082502789,0.5022974447802742,0.028740729905438533,-0.9315504729238315,-0.2256527086382576,1.0123448623216926,0.29718915500721615,-0.3567462418862733,-0.11935375405249737,-0.23226967710696064,-0.7059742722518352,-0.13117386321570865,-0.2704922349719499,-0.45615394785404917,-1.033949177377934,-1.269469528262041,0.8852825685250707,0.6338619936361631,-0.6700382132924425,0.29458527438156595,0.6385426951813394,-0.34022028552365946,0.5733295850916726,-1.584251098082729,0.2455172698322359,0.8023973112224623,-0.6218849849206581,-0.16146304111256274,-0.009736518103118643,-0.44566697774073494,-0.30841540826469693,-0.5709133253372655,-1.167658989807214,0.10621862461806753,-0.540373279298275,-0.33343091020600757,-0.23191564332510164,1.652948406950182,1.048569869795724,1.3402382599664902,-0.21916578428260317,-0.5279801429780797,1.8607279096838103,-0.04155463541674095,3.266569149455585,0.7189780110825009,-0.2544202768172219,-1.3189766919703305,-0.9789327531537446,-0.49914888669800084,0.04107195300286692,-0.27888168130067914,0.225715062048696,-1.3312524293884813,0.537930140427992,0.3098446254738424,-0.3466096200897461,-0.5420316420403564,0.1830402140668841,0.08979740997627435,-0.4342889165297387,-0.5163586552345968,-0.31136834740814534,0.0823180037615628,-0.4391876973879436,0.30827909542817705,0.5107574156900193,-0.6561786513643395,0.3058332914795133,0.5586481209137057,0.3891324074323978,-1.477915689404431,-0.18822127744492317,-0.47252644809646943,0.5986590856338251,-0.5539716199392929,0.4470702919715584,0.7161488801582938,-1.1868763704889005,0.029129286163486614,0.9082523274709247,-0.48411716950834066,-0.9919347821993919,0.668696378800204,0.16794385348274718,-0.7431968652457259,0.29261717392229364,-0.6379400832413823,-0.24726304981900027,-0.6582115317544478,0.5438402156252305,-0.25225366684899275,-0.12192118058561,0.8948808221771625,-0.12500545364109594,-0.37034836329745674,-0.1153885652766529,0.07161677633665132,0.024783838353681416,0.20099896742167098,0.510243887863426,-0.2436626551317476,0.8798782293811616,-0.698290961870475,-0.1057143799934153,0.18628176524399548,-0.8039174823445074,1.1133914954863655,-0.654846467607805,0.7785656178362516,-0.614128431848596,0.3498181808080614,0.33633907726388845,-0.4873287775347897,0.5699242860823265,-0.9029223467095024,1.4646791692086263,-1.4913556188628356,0.3599931470822094,0.8933902684692808,-1.7233512337879406,-0.1932024966233292,0.2793945252215568,-0.9262489851156607,0.26029160793788436,-1.1257289873072647,0.8957647613435914,-0.7107794630895291,-0.8005925596390192,-0.9525914311813962,5.618785092169819,-0.6203297878182996,-0.20175479692383877,-0.41790669461012475,-0.3999670607841182,0.8781636860044698,0.503255247425141,-0.21831101074109985,-0.8053837320683341,0.15580158530468816,0.10154923151120265,2.2527934852649634,-0.7674373447377093,0.4020340099776326,-0.6930427677872039,0.9208132315940537,0.44554021949380274,0.25511552348432764,-1.2845695743112504,-1.0800335131398155,-0.6185826123505014,-0.47709380862459927,0.2128193819212665,-0.7752284615172264,-0.29372717374267987,1.0567673377590132,-1.0567985743690855,0.6935178880181967,-0.005228225119310589,0.13107798321115946,0.515228792506904,0.9639383923186795,0.3922803685889983,-0.05759940079415843,-0.0031251254845704028,0.3276328808539859,-0.6827487313326919,0.15461947565611495,0.17604215557537076,-0.021244002639427884,-0.13772254405612863,0.5667838323922297,-0.018413464434147302,0.12306962690524058,-0.5163088693782697,-0.19819693565475321,-0.6293839609394413,-0.0682474297992636,0.2671295013980613,0.6546702269573853,0.5771394887951482,0.6223696395395968,1.0066188161506464,1.098770254934749,0.30860493990809723,-0.43762405772736107,0.7013409748698184,-0.1462347047990282,0.4345451386906999,-0.7448728863771721,-0.606655428917185,0.22629559667218382,0.21790326343374378,-0.7912742985227235,0.4669847244879606,2.79458289865921,-0.4374383280822229,0.2439939062656226,0.18716934864423063,0.2599113164704351,0.5601443870081017,-0.41255173548055446,-2.106615414976813,0.5976132688186024,0.1348579025327065,0.20512617038266867,-0.4086420754987983,-0.25515058209583147,0.24771300419412456,0.31667883346894754,1.024890194132335,0.7251403415013071],\"type\":\"scatter3d\"}],                        {\"template\":{\"data\":{\"bar\":[{\"error_x\":{\"color\":\"#2a3f5f\"},\"error_y\":{\"color\":\"#2a3f5f\"},\"marker\":{\"line\":{\"color\":\"#E5ECF6\",\"width\":0.5},\"pattern\":{\"fillmode\":\"overlay\",\"size\":10,\"solidity\":0.2}},\"type\":\"bar\"}],\"barpolar\":[{\"marker\":{\"line\":{\"color\":\"#E5ECF6\",\"width\":0.5},\"pattern\":{\"fillmode\":\"overlay\",\"size\":10,\"solidity\":0.2}},\"type\":\"barpolar\"}],\"carpet\":[{\"aaxis\":{\"endlinecolor\":\"#2a3f5f\",\"gridcolor\":\"white\",\"linecolor\":\"white\",\"minorgridcolor\":\"white\",\"startlinecolor\":\"#2a3f5f\"},\"baxis\":{\"endlinecolor\":\"#2a3f5f\",\"gridcolor\":\"white\",\"linecolor\":\"white\",\"minorgridcolor\":\"white\",\"startlinecolor\":\"#2a3f5f\"},\"type\":\"carpet\"}],\"choropleth\":[{\"colorbar\":{\"outlinewidth\":0,\"ticks\":\"\"},\"type\":\"choropleth\"}],\"contour\":[{\"colorbar\":{\"outlinewidth\":0,\"ticks\":\"\"},\"colorscale\":[[0.0,\"#0d0887\"],[0.1111111111111111,\"#46039f\"],[0.2222222222222222,\"#7201a8\"],[0.3333333333333333,\"#9c179e\"],[0.4444444444444444,\"#bd3786\"],[0.5555555555555556,\"#d8576b\"],[0.6666666666666666,\"#ed7953\"],[0.7777777777777778,\"#fb9f3a\"],[0.8888888888888888,\"#fdca26\"],[1.0,\"#f0f921\"]],\"type\":\"contour\"}],\"contourcarpet\":[{\"colorbar\":{\"outlinewidth\":0,\"ticks\":\"\"},\"type\":\"contourcarpet\"}],\"heatmap\":[{\"colorbar\":{\"outlinewidth\":0,\"ticks\":\"\"},\"colorscale\":[[0.0,\"#0d0887\"],[0.1111111111111111,\"#46039f\"],[0.2222222222222222,\"#7201a8\"],[0.3333333333333333,\"#9c179e\"],[0.4444444444444444,\"#bd3786\"],[0.5555555555555556,\"#d8576b\"],[0.6666666666666666,\"#ed7953\"],[0.7777777777777778,\"#fb9f3a\"],[0.8888888888888888,\"#fdca26\"],[1.0,\"#f0f921\"]],\"type\":\"heatmap\"}],\"heatmapgl\":[{\"colorbar\":{\"outlinewidth\":0,\"ticks\":\"\"},\"colorscale\":[[0.0,\"#0d0887\"],[0.1111111111111111,\"#46039f\"],[0.2222222222222222,\"#7201a8\"],[0.3333333333333333,\"#9c179e\"],[0.4444444444444444,\"#bd3786\"],[0.5555555555555556,\"#d8576b\"],[0.6666666666666666,\"#ed7953\"],[0.7777777777777778,\"#fb9f3a\"],[0.8888888888888888,\"#fdca26\"],[1.0,\"#f0f921\"]],\"type\":\"heatmapgl\"}],\"histogram\":[{\"marker\":{\"pattern\":{\"fillmode\":\"overlay\",\"size\":10,\"solidity\":0.2}},\"type\":\"histogram\"}],\"histogram2d\":[{\"colorbar\":{\"outlinewidth\":0,\"ticks\":\"\"},\"colorscale\":[[0.0,\"#0d0887\"],[0.1111111111111111,\"#46039f\"],[0.2222222222222222,\"#7201a8\"],[0.3333333333333333,\"#9c179e\"],[0.4444444444444444,\"#bd3786\"],[0.5555555555555556,\"#d8576b\"],[0.6666666666666666,\"#ed7953\"],[0.7777777777777778,\"#fb9f3a\"],[0.8888888888888888,\"#fdca26\"],[1.0,\"#f0f921\"]],\"type\":\"histogram2d\"}],\"histogram2dcontour\":[{\"colorbar\":{\"outlinewidth\":0,\"ticks\":\"\"},\"colorscale\":[[0.0,\"#0d0887\"],[0.1111111111111111,\"#46039f\"],[0.2222222222222222,\"#7201a8\"],[0.3333333333333333,\"#9c179e\"],[0.4444444444444444,\"#bd3786\"],[0.5555555555555556,\"#d8576b\"],[0.6666666666666666,\"#ed7953\"],[0.7777777777777778,\"#fb9f3a\"],[0.8888888888888888,\"#fdca26\"],[1.0,\"#f0f921\"]],\"type\":\"histogram2dcontour\"}],\"mesh3d\":[{\"colorbar\":{\"outlinewidth\":0,\"ticks\":\"\"},\"type\":\"mesh3d\"}],\"parcoords\":[{\"line\":{\"colorbar\":{\"outlinewidth\":0,\"ticks\":\"\"}},\"type\":\"parcoords\"}],\"pie\":[{\"automargin\":true,\"type\":\"pie\"}],\"scatter\":[{\"marker\":{\"colorbar\":{\"outlinewidth\":0,\"ticks\":\"\"}},\"type\":\"scatter\"}],\"scatter3d\":[{\"line\":{\"colorbar\":{\"outlinewidth\":0,\"ticks\":\"\"}},\"marker\":{\"colorbar\":{\"outlinewidth\":0,\"ticks\":\"\"}},\"type\":\"scatter3d\"}],\"scattercarpet\":[{\"marker\":{\"colorbar\":{\"outlinewidth\":0,\"ticks\":\"\"}},\"type\":\"scattercarpet\"}],\"scattergeo\":[{\"marker\":{\"colorbar\":{\"outlinewidth\":0,\"ticks\":\"\"}},\"type\":\"scattergeo\"}],\"scattergl\":[{\"marker\":{\"colorbar\":{\"outlinewidth\":0,\"ticks\":\"\"}},\"type\":\"scattergl\"}],\"scattermapbox\":[{\"marker\":{\"colorbar\":{\"outlinewidth\":0,\"ticks\":\"\"}},\"type\":\"scattermapbox\"}],\"scatterpolar\":[{\"marker\":{\"colorbar\":{\"outlinewidth\":0,\"ticks\":\"\"}},\"type\":\"scatterpolar\"}],\"scatterpolargl\":[{\"marker\":{\"colorbar\":{\"outlinewidth\":0,\"ticks\":\"\"}},\"type\":\"scatterpolargl\"}],\"scatterternary\":[{\"marker\":{\"colorbar\":{\"outlinewidth\":0,\"ticks\":\"\"}},\"type\":\"scatterternary\"}],\"surface\":[{\"colorbar\":{\"outlinewidth\":0,\"ticks\":\"\"},\"colorscale\":[[0.0,\"#0d0887\"],[0.1111111111111111,\"#46039f\"],[0.2222222222222222,\"#7201a8\"],[0.3333333333333333,\"#9c179e\"],[0.4444444444444444,\"#bd3786\"],[0.5555555555555556,\"#d8576b\"],[0.6666666666666666,\"#ed7953\"],[0.7777777777777778,\"#fb9f3a\"],[0.8888888888888888,\"#fdca26\"],[1.0,\"#f0f921\"]],\"type\":\"surface\"}],\"table\":[{\"cells\":{\"fill\":{\"color\":\"#EBF0F8\"},\"line\":{\"color\":\"white\"}},\"header\":{\"fill\":{\"color\":\"#C8D4E3\"},\"line\":{\"color\":\"white\"}},\"type\":\"table\"}]},\"layout\":{\"annotationdefaults\":{\"arrowcolor\":\"#2a3f5f\",\"arrowhead\":0,\"arrowwidth\":1},\"autotypenumbers\":\"strict\",\"coloraxis\":{\"colorbar\":{\"outlinewidth\":0,\"ticks\":\"\"}},\"colorscale\":{\"diverging\":[[0,\"#8e0152\"],[0.1,\"#c51b7d\"],[0.2,\"#de77ae\"],[0.3,\"#f1b6da\"],[0.4,\"#fde0ef\"],[0.5,\"#f7f7f7\"],[0.6,\"#e6f5d0\"],[0.7,\"#b8e186\"],[0.8,\"#7fbc41\"],[0.9,\"#4d9221\"],[1,\"#276419\"]],\"sequential\":[[0.0,\"#0d0887\"],[0.1111111111111111,\"#46039f\"],[0.2222222222222222,\"#7201a8\"],[0.3333333333333333,\"#9c179e\"],[0.4444444444444444,\"#bd3786\"],[0.5555555555555556,\"#d8576b\"],[0.6666666666666666,\"#ed7953\"],[0.7777777777777778,\"#fb9f3a\"],[0.8888888888888888,\"#fdca26\"],[1.0,\"#f0f921\"]],\"sequentialminus\":[[0.0,\"#0d0887\"],[0.1111111111111111,\"#46039f\"],[0.2222222222222222,\"#7201a8\"],[0.3333333333333333,\"#9c179e\"],[0.4444444444444444,\"#bd3786\"],[0.5555555555555556,\"#d8576b\"],[0.6666666666666666,\"#ed7953\"],[0.7777777777777778,\"#fb9f3a\"],[0.8888888888888888,\"#fdca26\"],[1.0,\"#f0f921\"]]},\"colorway\":[\"#636efa\",\"#EF553B\",\"#00cc96\",\"#ab63fa\",\"#FFA15A\",\"#19d3f3\",\"#FF6692\",\"#B6E880\",\"#FF97FF\",\"#FECB52\"],\"font\":{\"color\":\"#2a3f5f\"},\"geo\":{\"bgcolor\":\"white\",\"lakecolor\":\"white\",\"landcolor\":\"#E5ECF6\",\"showlakes\":true,\"showland\":true,\"subunitcolor\":\"white\"},\"hoverlabel\":{\"align\":\"left\"},\"hovermode\":\"closest\",\"mapbox\":{\"style\":\"light\"},\"paper_bgcolor\":\"white\",\"plot_bgcolor\":\"#E5ECF6\",\"polar\":{\"angularaxis\":{\"gridcolor\":\"white\",\"linecolor\":\"white\",\"ticks\":\"\"},\"bgcolor\":\"#E5ECF6\",\"radialaxis\":{\"gridcolor\":\"white\",\"linecolor\":\"white\",\"ticks\":\"\"}},\"scene\":{\"xaxis\":{\"backgroundcolor\":\"#E5ECF6\",\"gridcolor\":\"white\",\"gridwidth\":2,\"linecolor\":\"white\",\"showbackground\":true,\"ticks\":\"\",\"zerolinecolor\":\"white\"},\"yaxis\":{\"backgroundcolor\":\"#E5ECF6\",\"gridcolor\":\"white\",\"gridwidth\":2,\"linecolor\":\"white\",\"showbackground\":true,\"ticks\":\"\",\"zerolinecolor\":\"white\"},\"zaxis\":{\"backgroundcolor\":\"#E5ECF6\",\"gridcolor\":\"white\",\"gridwidth\":2,\"linecolor\":\"white\",\"showbackground\":true,\"ticks\":\"\",\"zerolinecolor\":\"white\"}},\"shapedefaults\":{\"line\":{\"color\":\"#2a3f5f\"}},\"ternary\":{\"aaxis\":{\"gridcolor\":\"white\",\"linecolor\":\"white\",\"ticks\":\"\"},\"baxis\":{\"gridcolor\":\"white\",\"linecolor\":\"white\",\"ticks\":\"\"},\"bgcolor\":\"#E5ECF6\",\"caxis\":{\"gridcolor\":\"white\",\"linecolor\":\"white\",\"ticks\":\"\"}},\"title\":{\"x\":0.05},\"xaxis\":{\"automargin\":true,\"gridcolor\":\"white\",\"linecolor\":\"white\",\"ticks\":\"\",\"title\":{\"standoff\":15},\"zerolinecolor\":\"white\",\"zerolinewidth\":2},\"yaxis\":{\"automargin\":true,\"gridcolor\":\"white\",\"linecolor\":\"white\",\"ticks\":\"\",\"title\":{\"standoff\":15},\"zerolinecolor\":\"white\",\"zerolinewidth\":2}}}},                        {\"responsive\": true}                    ).then(function(){\n",
       "                            \n",
       "var gd = document.getElementById('6b318453-0bad-4b57-9be5-68181bdeb2ce');\n",
       "var x = new MutationObserver(function (mutations, observer) {{\n",
       "        var display = window.getComputedStyle(gd).display;\n",
       "        if (!display || display === 'none') {{\n",
       "            console.log([gd, 'removed!']);\n",
       "            Plotly.purge(gd);\n",
       "            observer.disconnect();\n",
       "        }}\n",
       "}});\n",
       "\n",
       "// Listen for the removal of the full notebook cells\n",
       "var notebookContainer = gd.closest('#notebook-container');\n",
       "if (notebookContainer) {{\n",
       "    x.observe(notebookContainer, {childList: true});\n",
       "}}\n",
       "\n",
       "// Listen for the clearing of the current output cell\n",
       "var outputEl = gd.closest('.output');\n",
       "if (outputEl) {{\n",
       "    x.observe(outputEl, {childList: true});\n",
       "}}\n",
       "\n",
       "                        })                };                });            </script>        </div>"
      ]
     },
     "metadata": {},
     "output_type": "display_data"
    }
   ],
   "source": [
    "import plotly.graph_objects as go\n",
    "\n",
    "\n",
    "fig = go.Figure(\n",
    "    go.Scatter3d(mode='markers',\n",
    "                 x = pcaM_HFRD[:, 0],\n",
    "                 y = pcaM_HFRD[:, 1],\n",
    "                 z = pcaM_HFRD[:, 2],\n",
    "                 marker=dict(size = 5, color = HFRD['cluster'], colorscale = 'viridis')\n",
    "                )\n",
    ")\n",
    "    \n",
    "fig.show()"
   ]
  },
  {
   "cell_type": "code",
   "execution_count": 126,
   "id": "960e9578",
   "metadata": {},
   "outputs": [
    {
     "data": {
      "text/plain": [
       "2    155\n",
       "1    131\n",
       "0     13\n",
       "Name: cluster, dtype: int64"
      ]
     },
     "execution_count": 126,
     "metadata": {},
     "output_type": "execute_result"
    }
   ],
   "source": [
    "## На горната графика можем да видим как изглеждат нашите 3 клъстера (2 сравнително близки и един, койти взима по-отдалечени точки)\n",
    "## Това ни показва, че пациентите имат сходни здравословни показатели, но очевидно нещо друго ги разделя в различните клъстери \n",
    "## Тук наблюдаваме по колко човека(точки) имаме във всеки клъстер\n",
    "HFRD[\"cluster\"].value_counts()"
   ]
  },
  {
   "cell_type": "code",
   "execution_count": 127,
   "id": "3aec831a",
   "metadata": {},
   "outputs": [
    {
     "data": {
      "text/plain": [
       "<seaborn.axisgrid.PairGrid at 0x2224b3de9d0>"
      ]
     },
     "execution_count": 127,
     "metadata": {},
     "output_type": "execute_result"
    },
    {
     "data": {
      "image/png": "[encoded data removed]",
      "text/plain": [
       "<Figure size 582.375x540 with 12 Axes>"
      ]
     },
     "metadata": {
      "needs_background": "light"
     },
     "output_type": "display_data"
    }
   ],
   "source": [
    "g = sns.PairGrid(HFRD[[\"age\", \"serum_creatinine\", \"platelets\", \"cluster\"]], hue = \"cluster\", palette = 'viridis')\n",
    "g.map_diag(sns.histplot)\n",
    "g.map_offdiag(sns.scatterplot)\n",
    "g.add_legend()"
   ]
  },
  {
   "cell_type": "code",
   "execution_count": 128,
   "id": "f524f6ba",
   "metadata": {},
   "outputs": [
    {
     "data": {
      "image/png": "[encoded data removed]",
      "text/plain": [
       "<Figure size 432x288 with 1 Axes>"
      ]
     },
     "metadata": {
      "needs_background": "light"
     },
     "output_type": "display_data"
    }
   ],
   "source": [
    "## На горната графики виждаме някои от показателите за пациентите и можем да кажем ,че за най-малкият клъстер(тъмния цвят),\n",
    "## се състои предимно от по-млади хора с високи нива на креатинин и ниски нива на plateletes, което е по-характерно за тази възраст\n",
    "\n",
    "## За останалите 2 клъстера наблюдаваме обратните тенденции, имайки предвид, че те се състоят от по-възрастни индивиди \n",
    "ax = sns.countplot(data = HFRD, x=\"high_blood_pressure\", hue = \"cluster\", palette = 'viridis' )"
   ]
  },
  {
   "cell_type": "code",
   "execution_count": 78,
   "id": "6cc847f2",
   "metadata": {},
   "outputs": [
    {
     "data": {
      "image/png": "[encoded data removed]",
      "text/plain": [
       "<Figure size 432x288 with 1 Axes>"
      ]
     },
     "metadata": {
      "needs_background": "light"
     },
     "output_type": "display_data"
    }
   ],
   "source": [
    "## На тази графика виждаме разпределението в отделните клъстери на базата на високо кръвно налягане\n",
    "## Mожем да направим връзка между напредналата възраст и наличието на високо кръвно налягане между отделните клъстери\n",
    "\n",
    "ax = sns.countplot(data = HFRD, x=\"sex\", hue = \"cluster\", palette = 'viridis' )"
   ]
  },
  {
   "cell_type": "code",
   "execution_count": 79,
   "id": "835702d1",
   "metadata": {},
   "outputs": [
    {
     "data": {
      "text/html": [
       "<div>\n",
       "<style scoped>\n",
       "    .dataframe tbody tr th:only-of-type {\n",
       "        vertical-align: middle;\n",
       "    }\n",
       "\n",
       "    .dataframe tbody tr th {\n",
       "        vertical-align: top;\n",
       "    }\n",
       "\n",
       "    .dataframe thead th {\n",
       "        text-align: right;\n",
       "    }\n",
       "</style>\n",
       "<table border=\"1\" class=\"dataframe\">\n",
       "  <thead>\n",
       "    <tr style=\"text-align: right;\">\n",
       "      <th></th>\n",
       "      <th>age</th>\n",
       "      <th>sex</th>\n",
       "      <th>serum_creatinine</th>\n",
       "      <th>platelets</th>\n",
       "      <th>high_blood_pressure</th>\n",
       "      <th>cluster</th>\n",
       "    </tr>\n",
       "  </thead>\n",
       "  <tbody>\n",
       "    <tr>\n",
       "      <th>count</th>\n",
       "      <td>131.000000</td>\n",
       "      <td>131.000000</td>\n",
       "      <td>131.000000</td>\n",
       "      <td>131.000000</td>\n",
       "      <td>131.000000</td>\n",
       "      <td>131.0</td>\n",
       "    </tr>\n",
       "    <tr>\n",
       "      <th>mean</th>\n",
       "      <td>50.882954</td>\n",
       "      <td>0.603053</td>\n",
       "      <td>1.102595</td>\n",
       "      <td>298472.811679</td>\n",
       "      <td>0.312977</td>\n",
       "      <td>2.0</td>\n",
       "    </tr>\n",
       "    <tr>\n",
       "      <th>std</th>\n",
       "      <td>6.401115</td>\n",
       "      <td>0.491143</td>\n",
       "      <td>0.394806</td>\n",
       "      <td>111013.735871</td>\n",
       "      <td>0.465485</td>\n",
       "      <td>0.0</td>\n",
       "    </tr>\n",
       "    <tr>\n",
       "      <th>min</th>\n",
       "      <td>40.000000</td>\n",
       "      <td>0.000000</td>\n",
       "      <td>0.500000</td>\n",
       "      <td>75000.000000</td>\n",
       "      <td>0.000000</td>\n",
       "      <td>2.0</td>\n",
       "    </tr>\n",
       "    <tr>\n",
       "      <th>25%</th>\n",
       "      <td>45.000000</td>\n",
       "      <td>0.000000</td>\n",
       "      <td>0.800000</td>\n",
       "      <td>234000.000000</td>\n",
       "      <td>0.000000</td>\n",
       "      <td>2.0</td>\n",
       "    </tr>\n",
       "    <tr>\n",
       "      <th>50%</th>\n",
       "      <td>50.000000</td>\n",
       "      <td>1.000000</td>\n",
       "      <td>1.000000</td>\n",
       "      <td>275000.000000</td>\n",
       "      <td>0.000000</td>\n",
       "      <td>2.0</td>\n",
       "    </tr>\n",
       "    <tr>\n",
       "      <th>75%</th>\n",
       "      <td>55.000000</td>\n",
       "      <td>1.000000</td>\n",
       "      <td>1.200000</td>\n",
       "      <td>336500.000000</td>\n",
       "      <td>1.000000</td>\n",
       "      <td>2.0</td>\n",
       "    </tr>\n",
       "    <tr>\n",
       "      <th>max</th>\n",
       "      <td>72.000000</td>\n",
       "      <td>1.000000</td>\n",
       "      <td>3.000000</td>\n",
       "      <td>850000.000000</td>\n",
       "      <td>1.000000</td>\n",
       "      <td>2.0</td>\n",
       "    </tr>\n",
       "  </tbody>\n",
       "</table>\n",
       "</div>"
      ],
      "text/plain": [
       "              age         sex  serum_creatinine      platelets  \\\n",
       "count  131.000000  131.000000        131.000000     131.000000   \n",
       "mean    50.882954    0.603053          1.102595  298472.811679   \n",
       "std      6.401115    0.491143          0.394806  111013.735871   \n",
       "min     40.000000    0.000000          0.500000   75000.000000   \n",
       "25%     45.000000    0.000000          0.800000  234000.000000   \n",
       "50%     50.000000    1.000000          1.000000  275000.000000   \n",
       "75%     55.000000    1.000000          1.200000  336500.000000   \n",
       "max     72.000000    1.000000          3.000000  850000.000000   \n",
       "\n",
       "       high_blood_pressure  cluster  \n",
       "count           131.000000    131.0  \n",
       "mean              0.312977      2.0  \n",
       "std               0.465485      0.0  \n",
       "min               0.000000      2.0  \n",
       "25%               0.000000      2.0  \n",
       "50%               0.000000      2.0  \n",
       "75%               1.000000      2.0  \n",
       "max               1.000000      2.0  "
      ]
     },
     "execution_count": 79,
     "metadata": {},
     "output_type": "execute_result"
    }
   ],
   "source": [
    "## На тази графика виждаме разпределението в отделните клъстери на базата на пола на пациента\n",
    "\n",
    "\n",
    "HFRD[HFRD[\"cluster\"] == 2].describe()"
   ]
  },
  {
   "cell_type": "code",
   "execution_count": 80,
   "id": "19ddc5a6",
   "metadata": {},
   "outputs": [
    {
     "data": {
      "text/plain": [
       "Text(0, 0.5, 'Cost')"
      ]
     },
     "execution_count": 80,
     "metadata": {},
     "output_type": "execute_result"
    },
    {
     "data": {
      "image/png": "[encoded data removed]",
      "text/plain": [
       "<Figure size 432x288 with 1 Axes>"
      ]
     },
     "metadata": {
      "needs_background": "light"
     },
     "output_type": "display_data"
    }
   ],
   "source": [
    "## Ще направим отнво същото само че за Kprototypes \n",
    "number_of_clusters = list(range(2, 11))\n",
    "\n",
    "Cost_values = []\n",
    "\n",
    "## изчисляваме цена(cost) за всеки брой от клъстери(от 2 до 10)\n",
    "for k in number_of_clusters:\n",
    "    kproto = KPrototypes(n_clusters = k, init='Huang', random_state=42)\n",
    "    kproto.fit_predict(HFRD_scale, categorical= cat_index)\n",
    "    Cost_values.append(kproto.cost_)\n",
    "\n",
    "## Графично изобразяваме цена(cost) срещу брой клъстери\n",
    "ax = sns.lineplot(x=number_of_clusters, y=Cost_values, marker=\"o\")\n",
    "ax.set_title('Elbow curve', fontsize=12)\n",
    "ax.set_xlabel('No of clusters', fontsize=10)\n",
    "ax.set_ylabel('Cost', fontsize=10)"
   ]
  },
  {
   "cell_type": "code",
   "execution_count": 81,
   "id": "97feb3d9",
   "metadata": {},
   "outputs": [
    {
     "data": {
      "text/plain": [
       "Text(0, 0.5, 'score')"
      ]
     },
     "execution_count": 81,
     "metadata": {},
     "output_type": "execute_result"
    },
    {
     "data": {
      "image/png": "[encoded data removed]",
      "text/plain": [
       "<Figure size 432x288 with 1 Axes>"
      ]
     },
     "metadata": {
      "needs_background": "light"
     },
     "output_type": "display_data"
    }
   ],
   "source": [
    "## От горната графика се вижда,че оптималният брой на клъстерите би бил някъде между 3 и 4 отново\n",
    "silhouette_average = []\n",
    "## изчисляваме score за всеки брой от клъстери(от 2 до 10) за Kprototypes\n",
    "for k in number_of_clusters:\n",
    "    kproto = KPrototypes(n_clusters=k, init='Huang', random_state=42)\n",
    "    kproto.fit_predict(HFRD_scale, categorical= cat_index)\n",
    "    Cluster_labels = kproto.labels_\n",
    "    silhouette_average.append(silhouette_score(HFRD_scale, Cluster_labels))\n",
    "\n",
    "## Графично изобразяваме average silhouette score срещу брой клъстери\n",
    "ax = sns.lineplot(x=number_of_clusters, y=silhouette_average, marker=\"o\")\n",
    "ax.set_title('Average Silhouette', fontsize=12)\n",
    "ax.set_xlabel('No of clusters', fontsize=10)\n",
    "ax.set_ylabel('score', fontsize=10)"
   ]
  },
  {
   "cell_type": "code",
   "execution_count": null,
   "id": "5840ab8e",
   "metadata": {},
   "outputs": [],
   "source": [
    "## Отново се получава ,че идеалният за нас брой клъстери е 3\n",
    "##(това не е неочаквано съвпадение имайки предвид сходността между Kmeans и Kprototypes)"
   ]
  },
  {
   "cell_type": "markdown",
   "id": "60d8657f",
   "metadata": {},
   "source": [
    "## Clustering with KPrototypes"
   ]
  },
  {
   "cell_type": "code",
   "execution_count": 82,
   "id": "74ec1ac5",
   "metadata": {},
   "outputs": [
    {
     "data": {
      "text/html": [
       "<div>\n",
       "<style scoped>\n",
       "    .dataframe tbody tr th:only-of-type {\n",
       "        vertical-align: middle;\n",
       "    }\n",
       "\n",
       "    .dataframe tbody tr th {\n",
       "        vertical-align: top;\n",
       "    }\n",
       "\n",
       "    .dataframe thead th {\n",
       "        text-align: right;\n",
       "    }\n",
       "</style>\n",
       "<table border=\"1\" class=\"dataframe\">\n",
       "  <thead>\n",
       "    <tr style=\"text-align: right;\">\n",
       "      <th></th>\n",
       "      <th>age</th>\n",
       "      <th>sex</th>\n",
       "      <th>serum_creatinine</th>\n",
       "      <th>platelets</th>\n",
       "      <th>high_blood_pressure</th>\n",
       "      <th>cluster</th>\n",
       "    </tr>\n",
       "  </thead>\n",
       "  <tbody>\n",
       "    <tr>\n",
       "      <th>0</th>\n",
       "      <td>75.0</td>\n",
       "      <td>1</td>\n",
       "      <td>1.9</td>\n",
       "      <td>265000.00</td>\n",
       "      <td>1</td>\n",
       "      <td>1</td>\n",
       "    </tr>\n",
       "    <tr>\n",
       "      <th>1</th>\n",
       "      <td>55.0</td>\n",
       "      <td>1</td>\n",
       "      <td>1.1</td>\n",
       "      <td>263358.03</td>\n",
       "      <td>0</td>\n",
       "      <td>0</td>\n",
       "    </tr>\n",
       "    <tr>\n",
       "      <th>2</th>\n",
       "      <td>65.0</td>\n",
       "      <td>1</td>\n",
       "      <td>1.3</td>\n",
       "      <td>162000.00</td>\n",
       "      <td>0</td>\n",
       "      <td>1</td>\n",
       "    </tr>\n",
       "    <tr>\n",
       "      <th>3</th>\n",
       "      <td>50.0</td>\n",
       "      <td>1</td>\n",
       "      <td>1.9</td>\n",
       "      <td>210000.00</td>\n",
       "      <td>0</td>\n",
       "      <td>0</td>\n",
       "    </tr>\n",
       "    <tr>\n",
       "      <th>4</th>\n",
       "      <td>65.0</td>\n",
       "      <td>0</td>\n",
       "      <td>2.7</td>\n",
       "      <td>327000.00</td>\n",
       "      <td>0</td>\n",
       "      <td>1</td>\n",
       "    </tr>\n",
       "  </tbody>\n",
       "</table>\n",
       "</div>"
      ],
      "text/plain": [
       "    age  sex  serum_creatinine  platelets  high_blood_pressure  cluster\n",
       "0  75.0    1               1.9  265000.00                    1        1\n",
       "1  55.0    1               1.1  263358.03                    0        0\n",
       "2  65.0    1               1.3  162000.00                    0        1\n",
       "3  50.0    1               1.9  210000.00                    0        0\n",
       "4  65.0    0               2.7  327000.00                    0        1"
      ]
     },
     "execution_count": 82,
     "metadata": {},
     "output_type": "execute_result"
    }
   ],
   "source": [
    "## За KPrototypes ще ползваме 3 клъстера\n",
    "kproto = KPrototypes(n_clusters= 3, init='Huang', n_init = 25, random_state=42)\n",
    "kproto.fit_predict(HFRD_scale, categorical= cat_index)\n",
    "\n",
    "## Запазваме етикетите за клъстерите\n",
    "Cluster_labels = kproto.labels_\n",
    "\n",
    "## Добавяме клъстерите към dataframe-а\n",
    "HFRD[\"cluster\"] = Cluster_labels\n",
    "HFRD.head()"
   ]
  },
  {
   "cell_type": "code",
   "execution_count": 83,
   "id": "d5b2efde",
   "metadata": {},
   "outputs": [
    {
     "data": {
      "application/vnd.plotly.v1+json": {
       "config": {
        "plotlyServerURL": "https://plot.ly"
       },
       "data": [
        {
         "marker": {
          "color": [
           1,
           0,
           1,
           0,
           1,
           1,
           1,
           0,
           1,
           2,
           2,
           1,
           0,
           0,
           0,
           1,
           1,
           0,
           1,
           0,
           1,
           1,
           1,
           0,
           1,
           1,
           1,
           1,
           2,
           1,
           1,
           1,
           0,
           0,
           1,
           2,
           1,
           1,
           1,
           1,
           1,
           0,
           1,
           1,
           1,
           0,
           0,
           0,
           2,
           0,
           1,
           0,
           2,
           1,
           1,
           1,
           1,
           1,
           0,
           1,
           0,
           0,
           0,
           0,
           0,
           1,
           0,
           1,
           1,
           0,
           0,
           1,
           1,
           1,
           1,
           1,
           1,
           0,
           1,
           0,
           1,
           1,
           1,
           1,
           0,
           0,
           0,
           1,
           0,
           1,
           1,
           0,
           0,
           1,
           0,
           1,
           1,
           1,
           0,
           1,
           1,
           1,
           1,
           0,
           1,
           0,
           0,
           0,
           1,
           0,
           1,
           0,
           0,
           1,
           0,
           1,
           0,
           1,
           1,
           1,
           1,
           1,
           1,
           1,
           2,
           0,
           0,
           0,
           1,
           2,
           0,
           2,
           0,
           1,
           1,
           1,
           1,
           1,
           1,
           0,
           1,
           0,
           0,
           1,
           1,
           0,
           0,
           1,
           1,
           1,
           1,
           1,
           0,
           0,
           1,
           1,
           0,
           0,
           1,
           0,
           1,
           0,
           0,
           0,
           0,
           1,
           0,
           1,
           1,
           1,
           0,
           0,
           1,
           0,
           1,
           0,
           1,
           0,
           1,
           0,
           0,
           1,
           1,
           1,
           1,
           0,
           0,
           0,
           1,
           0,
           1,
           1,
           0,
           1,
           0,
           1,
           0,
           1,
           0,
           1,
           1,
           0,
           1,
           2,
           1,
           0,
           0,
           1,
           0,
           0,
           1,
           0,
           1,
           0,
           1,
           1,
           1,
           2,
           1,
           0,
           1,
           1,
           0,
           0,
           0,
           1,
           1,
           1,
           2,
           1,
           1,
           1,
           0,
           0,
           0,
           1,
           1,
           1,
           1,
           0,
           0,
           1,
           0,
           1,
           0,
           1,
           0,
           1,
           0,
           0,
           0,
           0,
           0,
           1,
           0,
           0,
           1,
           0,
           0,
           0,
           0,
           1,
           1,
           1,
           1,
           0,
           0,
           1,
           0,
           0,
           0,
           0,
           1,
           0,
           1,
           0,
           1,
           1,
           0,
           0,
           1,
           1,
           2,
           1,
           0,
           0,
           1,
           0,
           1,
           1,
           0,
           1,
           0,
           1,
           1,
           0,
           0,
           0,
           0
          ],
          "colorscale": [
           [
            0,
            "#440154"
           ],
           [
            0.1111111111111111,
            "#482878"
           ],
           [
            0.2222222222222222,
            "#3e4989"
           ],
           [
            0.3333333333333333,
            "#31688e"
           ],
           [
            0.4444444444444444,
            "#26828e"
           ],
           [
            0.5555555555555556,
            "#1f9e89"
           ],
           [
            0.6666666666666666,
            "#35b779"
           ],
           [
            0.7777777777777778,
            "#6ece58"
           ],
           [
            0.8888888888888888,
            "#b5de2b"
           ],
           [
            1,
            "#fde725"
           ]
          ],
          "size": 5
         },
         "mode": "markers",
         "type": "scatter3d",
         "x": [
          1.1437660661244295,
          -0.5067119314103931,
          0.5447716978389733,
          -0.09365695270562989,
          0.7996378948448826,
          2.334550959397144,
          1.1708684902576871,
          -0.9008905186200755,
          0.26624195863011524,
          5.7354101513570885,
          2.1069331254702903,
          -0.18106528465258304,
          -0.619744198144963,
          -0.8143141250300288,
          -1.515404760566319,
          1.9137201981534184,
          1.1799708264134439,
          -0.9160668353310861,
          0.3458314702825465,
          0.18466425580289406,
          0.11465231067024922,
          0.22993449594325038,
          0.030219112931425575,
          -1.1810254737410513,
          1.0600216151873947,
          1.81826991582348,
          1.9041973683611384,
          0.4140984010408907,
          3.028553217782066,
          1.3073227578447801,
          2.1790474092541987,
          2.0478610637530275,
          -1.0755120370847504,
          -0.9084521985238853,
          0.28248745966534317,
          1.9286096865493332,
          1.540579000035673,
          0.7258025120592413,
          0.3873446008201143,
          0.6998018081891634,
          0.8227367782222894,
          -0.35969094603290674,
          0.7022537819500322,
          0.571583676904676,
          -0.02321907297462281,
          -0.4486382309666538,
          -0.8666042872958589,
          -1.186782355236552,
          3.4519594929808273,
          -0.9695463557275413,
          0.5301221697617569,
          -1.0043003354070872,
          3.3373097260032183,
          -0.058847186935020564,
          0.4562792775481451,
          1.6216985566133013,
          1.4966630168678705,
          -0.3724154992051992,
          -1.023469017641932,
          0.6336186704385237,
          -1.5648335816151822,
          0.11270777892464062,
          -0.47349267689634233,
          -1.566923665584184,
          -1.066500371184813,
          1.4272662858012506,
          -0.981346319979605,
          0.35295501319644973,
          0.4276958020607658,
          -0.3090523361183155,
          -1.8804796659526675,
          0.03806927014865337,
          1.1976674679329844,
          0.5909192640129054,
          0.33836685571688696,
          -0.2665416612446043,
          -0.06470572146481644,
          -1.0845380334983137,
          0.25728033663691113,
          -0.8739724707687592,
          0.5701353985592245,
          0.2220642517609796,
          0.855546485429965,
          1.6366743421765635,
          -0.5065487331434103,
          -1.4922203299688381,
          -0.16611869362286003,
          -0.2558429922559885,
          -1.2609537969780744,
          -0.08149130996441609,
          0.20212227770383573,
          -0.4068459963195402,
          -1.2360392000638014,
          0.34492030775245464,
          -0.8416352493761451,
          -0.22314733731321446,
          0.1250021838015578,
          0.3253717768827813,
          -0.3802806255669673,
          0.050474810773889336,
          -0.06455500973456402,
          0.6940069433203355,
          1.312061239269304,
          -1.1720422620281452,
          0.4293503137385527,
          -0.46133816033555486,
          -0.3788888228012903,
          -1.0657795177184286,
          -0.19887977234955123,
          -3.0277583557901284,
          1.1005814317670835,
          -0.3179214599792042,
          -0.43257734328307595,
          0.11114191889074262,
          -0.3704988755598605,
          -0.09302665998491377,
          -0.5298198476306464,
          1.6073108760146577,
          0.12068430552370837,
          1.6618248398616335,
          0.23820728649596368,
          0.38601565713966307,
          -0.36537900357582315,
          0.1079053622037719,
          1.5855933096596238,
          -1.010028883802588,
          -0.4351358650961181,
          -0.7023533675584498,
          -0.41382777570733337,
          0.9646763274080647,
          -0.802034689297652,
          2.9870755174960153,
          -0.9901482803430971,
          -0.02054014028546194,
          1.1281104017103454,
          0.6741677954382824,
          0.21088935390257268,
          0.7128959753588731,
          -0.06931421675504554,
          -0.7734045478681795,
          0.9061116425811788,
          -1.487623612070424,
          -1.1941253973621777,
          -0.19766259866280933,
          0.5885387349763519,
          -1.0517594833630677,
          -0.7683425838784504,
          0.014445478562674266,
          1.2216261703482978,
          -0.20534585100665284,
          1.415098250306173,
          -0.1491169696090909,
          -0.614283518168431,
          -0.7386557785532892,
          -0.056185788089091235,
          0.4017173122742185,
          -0.5801288239007595,
          -0.8477319785248107,
          1.4158942239016827,
          -0.6109815376975435,
          0.2738626815025972,
          -0.944465337591968,
          -0.8366049821839697,
          -0.29247295057917744,
          -1.3226071291017902,
          1.260530728804452,
          -0.7189292664840081,
          1.2283137463431295,
          -0.0737162142239585,
          -0.02210796807349362,
          -0.47965936497195577,
          -1.0216203824792018,
          0.6709260124242523,
          -0.7151478145328073,
          -0.11092121368668109,
          -0.5488385076239497,
          0.783334544578591,
          -0.48804913757835194,
          -0.004260614823700484,
          -0.8153423347386864,
          -1.6216798167777313,
          -0.19357316780082506,
          0.1158648966608458,
          1.6689648976270837,
          -0.11643431605672343,
          -0.3793542165192267,
          -0.759186601330592,
          0.0025237868917469294,
          -0.05381056618601836,
          -1.5477257888158007,
          1.2313097156573667,
          0.04770856714093939,
          -1.0304606066674062,
          0.9280435655983689,
          -0.24802649959044734,
          1.3227688564620625,
          -1.04666122330276,
          -0.16122044275378997,
          -0.9335195257803409,
          0.21878537537282614,
          0.36802264215632535,
          -1.518686015441249,
          0.38818208085085765,
          1.4966293523161842,
          0.49155497889877986,
          -1.2479931346190436,
          -1.4569001949192242,
          1.336730711972496,
          -0.4024284951962061,
          -1.0775366972698353,
          -0.14846019484100034,
          -0.5462165297811243,
          0.21032576323119548,
          -0.5426454568926761,
          -0.20614561329944517,
          0.8711720653113084,
          -0.14697196098256418,
          4.808995047774186,
          0.20082876427490093,
          -1.1673658406899847,
          0.9724364592192248,
          0.3046255196569007,
          -1.602190154241696,
          -0.6752476892377924,
          -1.254683128239185,
          0.7622666175628092,
          0.05333615199085579,
          -0.11580076914860442,
          2.5744709903730603,
          0.43422730450178454,
          0.8250127217455608,
          0.6191385494987072,
          -1.4512888032124398,
          -0.6664760805862301,
          -0.7675590147287902,
          0.2500596731415377,
          0.6979042068746295,
          0.7250123874593019,
          -0.027568648050025433,
          -0.45609106375497493,
          -0.5150848596622675,
          0.2359379857518817,
          -1.3247366340738957,
          0.5124410318966371,
          -0.12257115569720331,
          -0.043981523343635726,
          -0.6864814438529565,
          0.886111411402042,
          -1.5513041066432387,
          -0.4584781598186878,
          -1.6936265464529807,
          -0.6269551144373323,
          -0.8704905840340804,
          0.4759334522037008,
          -0.6631747540169372,
          -0.970453465071369,
          0.28402087097829987,
          -0.3438409719219625,
          -1.153904291765972,
          -1.031312791353709,
          -0.3557283095524922,
          -0.47923086298469647,
          0.48025452223427584,
          0.3159110071768647,
          0.30869103317020224,
          -1.2659893413551064,
          -0.04479651405470654,
          0.39220412017479134,
          -1.3808451670300157,
          -1.2708688968170299,
          -0.7921347332382709,
          -0.7542326738806092,
          0.3611015438774741,
          -1.2305274427793824,
          0.11497648272416469,
          -1.8502596376304632,
          0.06978525653484421,
          1.1867536134380843,
          -0.9763457265875289,
          -1.091533503765224,
          0.35707294910326165,
          2.1072308154768313,
          0.6387360465201848,
          0.058417498186236254,
          -1.0346309649677288,
          -0.7013012405011099,
          0.09998322575234823,
          -2.1730739630698115,
          0.013137620353027159,
          0.8498537412851126,
          -1.1601362289904686,
          0.42842763830562686,
          -1.1606836265187135,
          0.11829465633818438,
          0.29336853718176437,
          -0.5122934746820433,
          -3.0060388759477923,
          -0.4441151955675879,
          -0.9402005711963398
         ],
         "y": [
          0.40938459211239786,
          -0.22154766962168673,
          -0.9584728812797579,
          -0.6007248797411072,
          1.0661668921206873,
          0.14631361146490196,
          -1.1435558289146737,
          1.68796601235511,
          0.12989779648127478,
          3.7245823878708824,
          1.9678641342183556,
          -0.20845180202716296,
          -1.614825931331234,
          -0.14597230616444587,
          1.3168894945202323,
          -1.7567953002881203,
          0.2759772720374767,
          -1.4103111953727088,
          -0.1272545865926612,
          -1.7456842954622775,
          0.2390715037314362,
          0.5217587402476628,
          0.24143321290428854,
          0.6606943884792627,
          0.4399311514181095,
          -0.6535679495233643,
          -0.07735284286215556,
          0.3384271065429991,
          0.06302949732047497,
          -0.32254760273548394,
          0.7101443093113498,
          1.7513660014667392,
          0.3028306271632832,
          0.1520247471267658,
          -0.7490484024428459,
          0.3445564529862387,
          0.012417087342731295,
          0.8871512014995954,
          0.5928706528000705,
          1.0790327279042782,
          0.28623334833778485,
          -1.2282475885995336,
          -0.6346761187207861,
          -0.33881830991883904,
          -0.7304257297367158,
          0.35457310550350485,
          -0.2307906884626834,
          1.5656376357278468,
          -0.01246760911672262,
          1.1093761306116394,
          -0.9062250890749646,
          1.4109973821636224,
          1.4915686661409417,
          0.9617851165861964,
          0.15324645985031055,
          2.6192643349199227,
          0.09558875145828494,
          -0.7224342918851633,
          0.24714287078350552,
          0.0871636243840793,
          0.8273943936066327,
          -0.3254694393076152,
          -0.3109447416702733,
          0.7365078320562298,
          -0.31090764125254466,
          -1.0198342805251912,
          -0.8121358935271744,
          0.1530268995299714,
          -0.04878895017047181,
          2.386773934609274,
          0.506056787107157,
          -1.5736656518147039,
          0.08650296129815593,
          -1.0826616193615581,
          0.07833063033194558,
          -0.8097118302428975,
          0.5822673618597896,
          -0.6756056164842522,
          0.2256813711253767,
          0.4115520900900538,
          0.5560981619574848,
          0.012294386762391203,
          -0.32830469182915245,
          -0.4357489272077826,
          0.29939658003678604,
          0.9610234895861317,
          -1.0416144474302365,
          0.30438082069766537,
          -0.7530550998446056,
          -0.9298646951962042,
          -0.17583994993888405,
          0.16078995564944973,
          -0.3638965113742402,
          -0.478811752412027,
          0.43848346002584887,
          -0.5765467239676391,
          -0.07180298598100751,
          0.028935608334816204,
          0.5246236541263944,
          -0.41950640359897484,
          0.2860159389096745,
          0.1967197027084182,
          -0.8724337084963191,
          -0.8354048346043982,
          0.5198687174359318,
          3.767923129262448,
          -0.17025148325501951,
          -0.809774184354322,
          0.3080079046098876,
          5.260718123058533,
          0.7430571317455003,
          -0.531963997962253,
          -0.281574385553228,
          1.0007381139128824,
          0.5547704331066903,
          -1.079699258596182,
          -0.06115749829666996,
          3.2757534990637236,
          -0.567728904983608,
          0.5911020129094879,
          -0.4904065298670935,
          -0.9143799023550477,
          -0.5013781843042155,
          -1.382070157305672,
          0.13522350398748342,
          -0.5652014203612358,
          0.07457618600475507,
          0.164789561593251,
          -0.14708948054338794,
          0.025037945946463032,
          -0.460346771545273,
          1.10706911603707,
          -0.2501230222571405,
          0.3198691879692834,
          -0.04953982799120996,
          0.15359804042024602,
          -0.9069929426976099,
          0.6794578667146867,
          -0.4645275801778263,
          -0.8489906561883016,
          0.2200262480591099,
          0.43873533389550157,
          0.3278805435279527,
          -0.39000325564893634,
          0.9990468114760305,
          -0.3940566464635567,
          -0.8172737659665066,
          -0.29397210940615937,
          -0.03500701818375209,
          -0.48260221175277956,
          0.2993386651912007,
          -0.294428620699178,
          -1.0795628923327274,
          -0.2879758772605505,
          -0.2893917695769514,
          -0.631659430051165,
          0.0032426039733152107,
          -0.35019390625848307,
          0.0921537820934451,
          0.8345505715110073,
          -0.16080809396028475,
          -1.3338873565531397,
          1.6289205636188901,
          -2.0985763389933614,
          0.2766640794530973,
          -0.2984344532655599,
          -0.7805048495543826,
          -1.6423843493603798,
          0.05655730271372921,
          0.4676316036304362,
          -0.18276661696413668,
          0.2596115179884668,
          -0.7480111572644206,
          -1.1022778752302884,
          0.11202050396302389,
          0.5429091497472944,
          -1.5144155656551177,
          -1.544361224239545,
          -0.018094130058999507,
          -0.18155312484559788,
          -0.16250951925213034,
          -0.5828994698436871,
          -0.0018741763494280223,
          0.18186173739182376,
          -0.5649519465125725,
          1.188236393556313,
          -1.435518570117422,
          1.1767160237477643,
          -0.6360102362293164,
          -0.3214882732882841,
          1.3212974405615443,
          0.5482516596099928,
          -0.4513745255782335,
          -0.8691050511727394,
          -1.5304429682094265,
          -0.026994530435666336,
          -0.26778597896437245,
          -0.1032419154064168,
          -0.07928856693456154,
          0.0582746530158082,
          -2.008163320791643,
          0.703205655524833,
          -0.3823964835000298,
          0.07586382727018622,
          0.20558891971584276,
          0.6704870985302941,
          -0.8600641682179355,
          -0.48537511016289214,
          0.09243125725936942,
          -0.2567507417619394,
          1.2594153314349834,
          -1.460381366744853,
          2.345904348716187,
          -0.28481945595492325,
          0.17063910276341973,
          -0.38237539138344095,
          1.0012977556816998,
          0.9572394285108128,
          0.081074353015325,
          0.8058257034117827,
          0.2961005561713082,
          -0.7074939657447219,
          0.5198175847572314,
          -1.7188925566463047,
          2.1029308716913317,
          0.2948548500102947,
          -0.8241831222143368,
          -1.3746680225801322,
          0.835637762447782,
          0.2731263588173754,
          -1.8272697510298874,
          -0.7051560008805777,
          -0.621052552169544,
          0.46183047331602584,
          0.14093131739001505,
          1.57281490574881,
          0.028118175647859397,
          -0.7924335392383117,
          -0.06763143536807031,
          -0.19966109372439123,
          2.7825021093462476,
          -0.12736363411694654,
          -0.5663361124263052,
          -0.2640245938341691,
          -0.041570360751708405,
          0.14459109405646722,
          0.2622340494764937,
          0.1272548882062963,
          -0.15425725908540308,
          -0.5496717910947819,
          0.9780428152631063,
          -0.5473549183472267,
          -0.19243648574095748,
          -0.08209112670186859,
          -0.24111014061959762,
          0.4160682188202735,
          0.4773363582737717,
          -0.25174540898447106,
          -0.7702615452588184,
          0.060157377460875926,
          -0.8255049340166448,
          0.04568251105897503,
          -0.5872073867200794,
          -0.4827385780162345,
          -1.1997776257669976,
          0.5777458591145093,
          -0.021832664558865275,
          -1.2850430278793055,
          -0.0183646960242517,
          -0.9089426674286465,
          -0.2359274317549683,
          -0.6861783238289962,
          -0.3788142360131048,
          -1.2709397487597627,
          -1.2434980826601298,
          1.1437563286858354,
          0.7167501577109366,
          -2.2326774792867123,
          -0.6534749419025595,
          1.6910917485490158,
          -0.19754734901521426,
          -1.5475237831624478,
          -0.1744574565759631,
          -0.04491810254936804,
          -0.24250968851013777,
          0.4997578261019278,
          0.18034385740675513,
          2.3112616682868827,
          0.020464916994797373,
          1.6171305828164404,
          -0.8099613040915606,
          -1.2964658606652362,
          0.8314895894495147,
          -0.9408310166891162,
          -1.089927387823644,
          -0.06535582461535072,
          4.15758821918042,
          -1.4945393523065915,
          1.084501733346567
         ],
         "z": [
          -0.5454014834817907,
          0.15843773945528233,
          -0.24672468167456338,
          1.0290193287096812,
          0.6406979967112573,
          -1.2703057083224594,
          -0.8916687537614001,
          -0.2424962446901928,
          -0.14064352315063536,
          4.188487664804654,
          0.8264700027098708,
          -0.44405002415361067,
          0.8231200690029701,
          0.39452941687742854,
          0.32944752519306414,
          -1.1975842655936888,
          -1.883586095538853,
          0.6029811538699738,
          -0.8192430960271699,
          1.239532933949635,
          -0.33844398566220185,
          -0.14585825553465237,
          -0.8210249717387825,
          0.01714807687721851,
          -0.5672117397401466,
          -0.7256531036022027,
          -2.286782665160673,
          -0.6655906802687716,
          3.234218281078947,
          -1.3482208736925096,
          -1.7242628606630765,
          -0.38983810319209583,
          0.3282078396273187,
          0.528362765018283,
          -0.5197189869136758,
          0.9747629961767635,
          -1.9749225556549563,
          -1.5796760935517364,
          0.653726913197831,
          1.141486672668412,
          -0.2941602985730625,
          0.5538448616923605,
          -0.6800821389289133,
          -0.9530399900754866,
          -0.0771424344136969,
          0.9749934757578246,
          0.20168899660631115,
          -0.6357771587382253,
          0.9236191260012709,
          -0.0749486316681571,
          -0.686596119525519,
          0.36786763727364813,
          3.760078323989546,
          -0.8808325683922867,
          0.6376493791929483,
          -1.7200508130357743,
          0.37406025741076704,
          -0.45379998007717276,
          0.4308859068618808,
          -0.7685581378907157,
          0.5629009251985849,
          1.2675561582399681,
          0.16349349498227347,
          0.6206186420703671,
          0.8335820420604407,
          1.1620773181831632,
          1.12112368125792,
          -0.9282780435043372,
          -0.6320543753446513,
          -0.06743290772614167,
          0.7289578067451139,
          -0.07990930554748708,
          -1.6861689168880192,
          -0.23970132079082315,
          -0.6092390488419775,
          -0.3793398246404704,
          -0.9984178845536148,
          1.015293830865326,
          -1.4388278270853643,
          -0.04040853987150654,
          -0.3186417778786621,
          -0.5022318991237401,
          0.8734557916819827,
          -0.8014849203340481,
          -0.1988962261546205,
          0.047816413180534256,
          0.1522380116490883,
          -0.718343082502789,
          0.5022974447802742,
          0.028740729905438533,
          -0.9315504729238315,
          -0.2256527086382576,
          1.0123448623216926,
          0.29718915500721615,
          -0.3567462418862733,
          -0.11935375405249737,
          -0.23226967710696064,
          -0.7059742722518352,
          -0.13117386321570865,
          -0.2704922349719499,
          -0.45615394785404917,
          -1.033949177377934,
          -1.269469528262041,
          0.8852825685250707,
          0.6338619936361631,
          -0.6700382132924425,
          0.29458527438156595,
          0.6385426951813394,
          -0.34022028552365946,
          0.5733295850916726,
          -1.584251098082729,
          0.2455172698322359,
          0.8023973112224623,
          -0.6218849849206581,
          -0.16146304111256274,
          -0.009736518103118643,
          -0.44566697774073494,
          -0.30841540826469693,
          -0.5709133253372655,
          -1.167658989807214,
          0.10621862461806753,
          -0.540373279298275,
          -0.33343091020600757,
          -0.23191564332510164,
          1.652948406950182,
          1.048569869795724,
          1.3402382599664902,
          -0.21916578428260317,
          -0.5279801429780797,
          1.8607279096838103,
          -0.04155463541674095,
          3.266569149455585,
          0.7189780110825009,
          -0.2544202768172219,
          -1.3189766919703305,
          -0.9789327531537446,
          -0.49914888669800084,
          0.04107195300286692,
          -0.27888168130067914,
          0.225715062048696,
          -1.3312524293884813,
          0.537930140427992,
          0.3098446254738424,
          -0.3466096200897461,
          -0.5420316420403564,
          0.1830402140668841,
          0.08979740997627435,
          -0.4342889165297387,
          -0.5163586552345968,
          -0.31136834740814534,
          0.0823180037615628,
          -0.4391876973879436,
          0.30827909542817705,
          0.5107574156900193,
          -0.6561786513643395,
          0.3058332914795133,
          0.5586481209137057,
          0.3891324074323978,
          -1.477915689404431,
          -0.18822127744492317,
          -0.47252644809646943,
          0.5986590856338251,
          -0.5539716199392929,
          0.4470702919715584,
          0.7161488801582938,
          -1.1868763704889005,
          0.029129286163486614,
          0.9082523274709247,
          -0.48411716950834066,
          -0.9919347821993919,
          0.668696378800204,
          0.16794385348274718,
          -0.7431968652457259,
          0.29261717392229364,
          -0.6379400832413823,
          -0.24726304981900027,
          -0.6582115317544478,
          0.5438402156252305,
          -0.25225366684899275,
          -0.12192118058561,
          0.8948808221771625,
          -0.12500545364109594,
          -0.37034836329745674,
          -0.1153885652766529,
          0.07161677633665132,
          0.024783838353681416,
          0.20099896742167098,
          0.510243887863426,
          -0.2436626551317476,
          0.8798782293811616,
          -0.698290961870475,
          -0.1057143799934153,
          0.18628176524399548,
          -0.8039174823445074,
          1.1133914954863655,
          -0.654846467607805,
          0.7785656178362516,
          -0.614128431848596,
          0.3498181808080614,
          0.33633907726388845,
          -0.4873287775347897,
          0.5699242860823265,
          -0.9029223467095024,
          1.4646791692086263,
          -1.4913556188628356,
          0.3599931470822094,
          0.8933902684692808,
          -1.7233512337879406,
          -0.1932024966233292,
          0.2793945252215568,
          -0.9262489851156607,
          0.26029160793788436,
          -1.1257289873072647,
          0.8957647613435914,
          -0.7107794630895291,
          -0.8005925596390192,
          -0.9525914311813962,
          5.618785092169819,
          -0.6203297878182996,
          -0.20175479692383877,
          -0.41790669461012475,
          -0.3999670607841182,
          0.8781636860044698,
          0.503255247425141,
          -0.21831101074109985,
          -0.8053837320683341,
          0.15580158530468816,
          0.10154923151120265,
          2.2527934852649634,
          -0.7674373447377093,
          0.4020340099776326,
          -0.6930427677872039,
          0.9208132315940537,
          0.44554021949380274,
          0.25511552348432764,
          -1.2845695743112504,
          -1.0800335131398155,
          -0.6185826123505014,
          -0.47709380862459927,
          0.2128193819212665,
          -0.7752284615172264,
          -0.29372717374267987,
          1.0567673377590132,
          -1.0567985743690855,
          0.6935178880181967,
          -0.005228225119310589,
          0.13107798321115946,
          0.515228792506904,
          0.9639383923186795,
          0.3922803685889983,
          -0.05759940079415843,
          -0.0031251254845704028,
          0.3276328808539859,
          -0.6827487313326919,
          0.15461947565611495,
          0.17604215557537076,
          -0.021244002639427884,
          -0.13772254405612863,
          0.5667838323922297,
          -0.018413464434147302,
          0.12306962690524058,
          -0.5163088693782697,
          -0.19819693565475321,
          -0.6293839609394413,
          -0.0682474297992636,
          0.2671295013980613,
          0.6546702269573853,
          0.5771394887951482,
          0.6223696395395968,
          1.0066188161506464,
          1.098770254934749,
          0.30860493990809723,
          -0.43762405772736107,
          0.7013409748698184,
          -0.1462347047990282,
          0.4345451386906999,
          -0.7448728863771721,
          -0.606655428917185,
          0.22629559667218382,
          0.21790326343374378,
          -0.7912742985227235,
          0.4669847244879606,
          2.79458289865921,
          -0.4374383280822229,
          0.2439939062656226,
          0.18716934864423063,
          0.2599113164704351,
          0.5601443870081017,
          -0.41255173548055446,
          -2.106615414976813,
          0.5976132688186024,
          0.1348579025327065,
          0.20512617038266867,
          -0.4086420754987983,
          -0.25515058209583147,
          0.24771300419412456,
          0.31667883346894754,
          1.024890194132335,
          0.7251403415013071
         ]
        }
       ],
       "layout": {
        "template": {
         "data": {
          "bar": [
           {
            "error_x": {
             "color": "#2a3f5f"
            },
            "error_y": {
             "color": "#2a3f5f"
            },
            "marker": {
             "line": {
              "color": "#E5ECF6",
              "width": 0.5
             },
             "pattern": {
              "fillmode": "overlay",
              "size": 10,
              "solidity": 0.2
             }
            },
            "type": "bar"
           }
          ],
          "barpolar": [
           {
            "marker": {
             "line": {
              "color": "#E5ECF6",
              "width": 0.5
             },
             "pattern": {
              "fillmode": "overlay",
              "size": 10,
              "solidity": 0.2
             }
            },
            "type": "barpolar"
           }
          ],
          "carpet": [
           {
            "aaxis": {
             "endlinecolor": "#2a3f5f",
             "gridcolor": "white",
             "linecolor": "white",
             "minorgridcolor": "white",
             "startlinecolor": "#2a3f5f"
            },
            "baxis": {
             "endlinecolor": "#2a3f5f",
             "gridcolor": "white",
             "linecolor": "white",
             "minorgridcolor": "white",
             "startlinecolor": "#2a3f5f"
            },
            "type": "carpet"
           }
          ],
          "choropleth": [
           {
            "colorbar": {
             "outlinewidth": 0,
             "ticks": ""
            },
            "type": "choropleth"
           }
          ],
          "contour": [
           {
            "colorbar": {
             "outlinewidth": 0,
             "ticks": ""
            },
            "colorscale": [
             [
              0,
              "#0d0887"
             ],
             [
              0.1111111111111111,
              "#46039f"
             ],
             [
              0.2222222222222222,
              "#7201a8"
             ],
             [
              0.3333333333333333,
              "#9c179e"
             ],
             [
              0.4444444444444444,
              "#bd3786"
             ],
             [
              0.5555555555555556,
              "#d8576b"
             ],
             [
              0.6666666666666666,
              "#ed7953"
             ],
             [
              0.7777777777777778,
              "#fb9f3a"
             ],
             [
              0.8888888888888888,
              "#fdca26"
             ],
             [
              1,
              "#f0f921"
             ]
            ],
            "type": "contour"
           }
          ],
          "contourcarpet": [
           {
            "colorbar": {
             "outlinewidth": 0,
             "ticks": ""
            },
            "type": "contourcarpet"
           }
          ],
          "heatmap": [
           {
            "colorbar": {
             "outlinewidth": 0,
             "ticks": ""
            },
            "colorscale": [
             [
              0,
              "#0d0887"
             ],
             [
              0.1111111111111111,
              "#46039f"
             ],
             [
              0.2222222222222222,
              "#7201a8"
             ],
             [
              0.3333333333333333,
              "#9c179e"
             ],
             [
              0.4444444444444444,
              "#bd3786"
             ],
             [
              0.5555555555555556,
              "#d8576b"
             ],
             [
              0.6666666666666666,
              "#ed7953"
             ],
             [
              0.7777777777777778,
              "#fb9f3a"
             ],
             [
              0.8888888888888888,
              "#fdca26"
             ],
             [
              1,
              "#f0f921"
             ]
            ],
            "type": "heatmap"
           }
          ],
          "heatmapgl": [
           {
            "colorbar": {
             "outlinewidth": 0,
             "ticks": ""
            },
            "colorscale": [
             [
              0,
              "#0d0887"
             ],
             [
              0.1111111111111111,
              "#46039f"
             ],
             [
              0.2222222222222222,
              "#7201a8"
             ],
             [
              0.3333333333333333,
              "#9c179e"
             ],
             [
              0.4444444444444444,
              "#bd3786"
             ],
             [
              0.5555555555555556,
              "#d8576b"
             ],
             [
              0.6666666666666666,
              "#ed7953"
             ],
             [
              0.7777777777777778,
              "#fb9f3a"
             ],
             [
              0.8888888888888888,
              "#fdca26"
             ],
             [
              1,
              "#f0f921"
             ]
            ],
            "type": "heatmapgl"
           }
          ],
          "histogram": [
           {
            "marker": {
             "pattern": {
              "fillmode": "overlay",
              "size": 10,
              "solidity": 0.2
             }
            },
            "type": "histogram"
           }
          ],
          "histogram2d": [
           {
            "colorbar": {
             "outlinewidth": 0,
             "ticks": ""
            },
            "colorscale": [
             [
              0,
              "#0d0887"
             ],
             [
              0.1111111111111111,
              "#46039f"
             ],
             [
              0.2222222222222222,
              "#7201a8"
             ],
             [
              0.3333333333333333,
              "#9c179e"
             ],
             [
              0.4444444444444444,
              "#bd3786"
             ],
             [
              0.5555555555555556,
              "#d8576b"
             ],
             [
              0.6666666666666666,
              "#ed7953"
             ],
             [
              0.7777777777777778,
              "#fb9f3a"
             ],
             [
              0.8888888888888888,
              "#fdca26"
             ],
             [
              1,
              "#f0f921"
             ]
            ],
            "type": "histogram2d"
           }
          ],
          "histogram2dcontour": [
           {
            "colorbar": {
             "outlinewidth": 0,
             "ticks": ""
            },
            "colorscale": [
             [
              0,
              "#0d0887"
             ],
             [
              0.1111111111111111,
              "#46039f"
             ],
             [
              0.2222222222222222,
              "#7201a8"
             ],
             [
              0.3333333333333333,
              "#9c179e"
             ],
             [
              0.4444444444444444,
              "#bd3786"
             ],
             [
              0.5555555555555556,
              "#d8576b"
             ],
             [
              0.6666666666666666,
              "#ed7953"
             ],
             [
              0.7777777777777778,
              "#fb9f3a"
             ],
             [
              0.8888888888888888,
              "#fdca26"
             ],
             [
              1,
              "#f0f921"
             ]
            ],
            "type": "histogram2dcontour"
           }
          ],
          "mesh3d": [
           {
            "colorbar": {
             "outlinewidth": 0,
             "ticks": ""
            },
            "type": "mesh3d"
           }
          ],
          "parcoords": [
           {
            "line": {
             "colorbar": {
              "outlinewidth": 0,
              "ticks": ""
             }
            },
            "type": "parcoords"
           }
          ],
          "pie": [
           {
            "automargin": true,
            "type": "pie"
           }
          ],
          "scatter": [
           {
            "marker": {
             "colorbar": {
              "outlinewidth": 0,
              "ticks": ""
             }
            },
            "type": "scatter"
           }
          ],
          "scatter3d": [
           {
            "line": {
             "colorbar": {
              "outlinewidth": 0,
              "ticks": ""
             }
            },
            "marker": {
             "colorbar": {
              "outlinewidth": 0,
              "ticks": ""
             }
            },
            "type": "scatter3d"
           }
          ],
          "scattercarpet": [
           {
            "marker": {
             "colorbar": {
              "outlinewidth": 0,
              "ticks": ""
             }
            },
            "type": "scattercarpet"
           }
          ],
          "scattergeo": [
           {
            "marker": {
             "colorbar": {
              "outlinewidth": 0,
              "ticks": ""
             }
            },
            "type": "scattergeo"
           }
          ],
          "scattergl": [
           {
            "marker": {
             "colorbar": {
              "outlinewidth": 0,
              "ticks": ""
             }
            },
            "type": "scattergl"
           }
          ],
          "scattermapbox": [
           {
            "marker": {
             "colorbar": {
              "outlinewidth": 0,
              "ticks": ""
             }
            },
            "type": "scattermapbox"
           }
          ],
          "scatterpolar": [
           {
            "marker": {
             "colorbar": {
              "outlinewidth": 0,
              "ticks": ""
             }
            },
            "type": "scatterpolar"
           }
          ],
          "scatterpolargl": [
           {
            "marker": {
             "colorbar": {
              "outlinewidth": 0,
              "ticks": ""
             }
            },
            "type": "scatterpolargl"
           }
          ],
          "scatterternary": [
           {
            "marker": {
             "colorbar": {
              "outlinewidth": 0,
              "ticks": ""
             }
            },
            "type": "scatterternary"
           }
          ],
          "surface": [
           {
            "colorbar": {
             "outlinewidth": 0,
             "ticks": ""
            },
            "colorscale": [
             [
              0,
              "#0d0887"
             ],
             [
              0.1111111111111111,
              "#46039f"
             ],
             [
              0.2222222222222222,
              "#7201a8"
             ],
             [
              0.3333333333333333,
              "#9c179e"
             ],
             [
              0.4444444444444444,
              "#bd3786"
             ],
             [
              0.5555555555555556,
              "#d8576b"
             ],
             [
              0.6666666666666666,
              "#ed7953"
             ],
             [
              0.7777777777777778,
              "#fb9f3a"
             ],
             [
              0.8888888888888888,
              "#fdca26"
             ],
             [
              1,
              "#f0f921"
             ]
            ],
            "type": "surface"
           }
          ],
          "table": [
           {
            "cells": {
             "fill": {
              "color": "#EBF0F8"
             },
             "line": {
              "color": "white"
             }
            },
            "header": {
             "fill": {
              "color": "#C8D4E3"
             },
             "line": {
              "color": "white"
             }
            },
            "type": "table"
           }
          ]
         },
         "layout": {
          "annotationdefaults": {
           "arrowcolor": "#2a3f5f",
           "arrowhead": 0,
           "arrowwidth": 1
          },
          "autotypenumbers": "strict",
          "coloraxis": {
           "colorbar": {
            "outlinewidth": 0,
            "ticks": ""
           }
          },
          "colorscale": {
           "diverging": [
            [
             0,
             "#8e0152"
            ],
            [
             0.1,
             "#c51b7d"
            ],
            [
             0.2,
             "#de77ae"
            ],
            [
             0.3,
             "#f1b6da"
            ],
            [
             0.4,
             "#fde0ef"
            ],
            [
             0.5,
             "#f7f7f7"
            ],
            [
             0.6,
             "#e6f5d0"
            ],
            [
             0.7,
             "#b8e186"
            ],
            [
             0.8,
             "#7fbc41"
            ],
            [
             0.9,
             "#4d9221"
            ],
            [
             1,
             "#276419"
            ]
           ],
           "sequential": [
            [
             0,
             "#0d0887"
            ],
            [
             0.1111111111111111,
             "#46039f"
            ],
            [
             0.2222222222222222,
             "#7201a8"
            ],
            [
             0.3333333333333333,
             "#9c179e"
            ],
            [
             0.4444444444444444,
             "#bd3786"
            ],
            [
             0.5555555555555556,
             "#d8576b"
            ],
            [
             0.6666666666666666,
             "#ed7953"
            ],
            [
             0.7777777777777778,
             "#fb9f3a"
            ],
            [
             0.8888888888888888,
             "#fdca26"
            ],
            [
             1,
             "#f0f921"
            ]
           ],
           "sequentialminus": [
            [
             0,
             "#0d0887"
            ],
            [
             0.1111111111111111,
             "#46039f"
            ],
            [
             0.2222222222222222,
             "#7201a8"
            ],
            [
             0.3333333333333333,
             "#9c179e"
            ],
            [
             0.4444444444444444,
             "#bd3786"
            ],
            [
             0.5555555555555556,
             "#d8576b"
            ],
            [
             0.6666666666666666,
             "#ed7953"
            ],
            [
             0.7777777777777778,
             "#fb9f3a"
            ],
            [
             0.8888888888888888,
             "#fdca26"
            ],
            [
             1,
             "#f0f921"
            ]
           ]
          },
          "colorway": [
           "#636efa",
           "#EF553B",
           "#00cc96",
           "#ab63fa",
           "#FFA15A",
           "#19d3f3",
           "#FF6692",
           "#B6E880",
           "#FF97FF",
           "#FECB52"
          ],
          "font": {
           "color": "#2a3f5f"
          },
          "geo": {
           "bgcolor": "white",
           "lakecolor": "white",
           "landcolor": "#E5ECF6",
           "showlakes": true,
           "showland": true,
           "subunitcolor": "white"
          },
          "hoverlabel": {
           "align": "left"
          },
          "hovermode": "closest",
          "mapbox": {
           "style": "light"
          },
          "paper_bgcolor": "white",
          "plot_bgcolor": "#E5ECF6",
          "polar": {
           "angularaxis": {
            "gridcolor": "white",
            "linecolor": "white",
            "ticks": ""
           },
           "bgcolor": "#E5ECF6",
           "radialaxis": {
            "gridcolor": "white",
            "linecolor": "white",
            "ticks": ""
           }
          },
          "scene": {
           "xaxis": {
            "backgroundcolor": "#E5ECF6",
            "gridcolor": "white",
            "gridwidth": 2,
            "linecolor": "white",
            "showbackground": true,
            "ticks": "",
            "zerolinecolor": "white"
           },
           "yaxis": {
            "backgroundcolor": "#E5ECF6",
            "gridcolor": "white",
            "gridwidth": 2,
            "linecolor": "white",
            "showbackground": true,
            "ticks": "",
            "zerolinecolor": "white"
           },
           "zaxis": {
            "backgroundcolor": "#E5ECF6",
            "gridcolor": "white",
            "gridwidth": 2,
            "linecolor": "white",
            "showbackground": true,
            "ticks": "",
            "zerolinecolor": "white"
           }
          },
          "shapedefaults": {
           "line": {
            "color": "#2a3f5f"
           }
          },
          "ternary": {
           "aaxis": {
            "gridcolor": "white",
            "linecolor": "white",
            "ticks": ""
           },
           "baxis": {
            "gridcolor": "white",
            "linecolor": "white",
            "ticks": ""
           },
           "bgcolor": "#E5ECF6",
           "caxis": {
            "gridcolor": "white",
            "linecolor": "white",
            "ticks": ""
           }
          },
          "title": {
           "x": 0.05
          },
          "xaxis": {
           "automargin": true,
           "gridcolor": "white",
           "linecolor": "white",
           "ticks": "",
           "title": {
            "standoff": 15
           },
           "zerolinecolor": "white",
           "zerolinewidth": 2
          },
          "yaxis": {
           "automargin": true,
           "gridcolor": "white",
           "linecolor": "white",
           "ticks": "",
           "title": {
            "standoff": 15
           },
           "zerolinecolor": "white",
           "zerolinewidth": 2
          }
         }
        }
       }
      },
      "text/html": [
       "<div>                            <div id=\"9ad52dce-c086-4c81-8b85-48ae1329fcfc\" class=\"plotly-graph-div\" style=\"height:525px; width:100%;\"></div>            <script type=\"text/javascript\">                require([\"plotly\"], function(Plotly) {                    window.PLOTLYENV=window.PLOTLYENV || {};                                    if (document.getElementById(\"9ad52dce-c086-4c81-8b85-48ae1329fcfc\")) {                    Plotly.newPlot(                        \"9ad52dce-c086-4c81-8b85-48ae1329fcfc\",                        [{\"marker\":{\"color\":[1,0,1,0,1,1,1,0,1,2,2,1,0,0,0,1,1,0,1,0,1,1,1,0,1,1,1,1,2,1,1,1,0,0,1,2,1,1,1,1,1,0,1,1,1,0,0,0,2,0,1,0,2,1,1,1,1,1,0,1,0,0,0,0,0,1,0,1,1,0,0,1,1,1,1,1,1,0,1,0,1,1,1,1,0,0,0,1,0,1,1,0,0,1,0,1,1,1,0,1,1,1,1,0,1,0,0,0,1,0,1,0,0,1,0,1,0,1,1,1,1,1,1,1,2,0,0,0,1,2,0,2,0,1,1,1,1,1,1,0,1,0,0,1,1,0,0,1,1,1,1,1,0,0,1,1,0,0,1,0,1,0,0,0,0,1,0,1,1,1,0,0,1,0,1,0,1,0,1,0,0,1,1,1,1,0,0,0,1,0,1,1,0,1,0,1,0,1,0,1,1,0,1,2,1,0,0,1,0,0,1,0,1,0,1,1,1,2,1,0,1,1,0,0,0,1,1,1,2,1,1,1,0,0,0,1,1,1,1,0,0,1,0,1,0,1,0,1,0,0,0,0,0,1,0,0,1,0,0,0,0,1,1,1,1,0,0,1,0,0,0,0,1,0,1,0,1,1,0,0,1,1,2,1,0,0,1,0,1,1,0,1,0,1,1,0,0,0,0],\"colorscale\":[[0.0,\"#440154\"],[0.1111111111111111,\"#482878\"],[0.2222222222222222,\"#3e4989\"],[0.3333333333333333,\"#31688e\"],[0.4444444444444444,\"#26828e\"],[0.5555555555555556,\"#1f9e89\"],[0.6666666666666666,\"#35b779\"],[0.7777777777777778,\"#6ece58\"],[0.8888888888888888,\"#b5de2b\"],[1.0,\"#fde725\"]],\"size\":5},\"mode\":\"markers\",\"x\":[1.1437660661244295,-0.5067119314103931,0.5447716978389733,-0.09365695270562989,0.7996378948448826,2.334550959397144,1.1708684902576871,-0.9008905186200755,0.26624195863011524,5.7354101513570885,2.1069331254702903,-0.18106528465258304,-0.619744198144963,-0.8143141250300288,-1.515404760566319,1.9137201981534184,1.1799708264134439,-0.9160668353310861,0.3458314702825465,0.18466425580289406,0.11465231067024922,0.22993449594325038,0.030219112931425575,-1.1810254737410513,1.0600216151873947,1.81826991582348,1.9041973683611384,0.4140984010408907,3.028553217782066,1.3073227578447801,2.1790474092541987,2.0478610637530275,-1.0755120370847504,-0.9084521985238853,0.28248745966534317,1.9286096865493332,1.540579000035673,0.7258025120592413,0.3873446008201143,0.6998018081891634,0.8227367782222894,-0.35969094603290674,0.7022537819500322,0.571583676904676,-0.02321907297462281,-0.4486382309666538,-0.8666042872958589,-1.186782355236552,3.4519594929808273,-0.9695463557275413,0.5301221697617569,-1.0043003354070872,3.3373097260032183,-0.058847186935020564,0.4562792775481451,1.6216985566133013,1.4966630168678705,-0.3724154992051992,-1.023469017641932,0.6336186704385237,-1.5648335816151822,0.11270777892464062,-0.47349267689634233,-1.566923665584184,-1.066500371184813,1.4272662858012506,-0.981346319979605,0.35295501319644973,0.4276958020607658,-0.3090523361183155,-1.8804796659526675,0.03806927014865337,1.1976674679329844,0.5909192640129054,0.33836685571688696,-0.2665416612446043,-0.06470572146481644,-1.0845380334983137,0.25728033663691113,-0.8739724707687592,0.5701353985592245,0.2220642517609796,0.855546485429965,1.6366743421765635,-0.5065487331434103,-1.4922203299688381,-0.16611869362286003,-0.2558429922559885,-1.2609537969780744,-0.08149130996441609,0.20212227770383573,-0.4068459963195402,-1.2360392000638014,0.34492030775245464,-0.8416352493761451,-0.22314733731321446,0.1250021838015578,0.3253717768827813,-0.3802806255669673,0.050474810773889336,-0.06455500973456402,0.6940069433203355,1.312061239269304,-1.1720422620281452,0.4293503137385527,-0.46133816033555486,-0.3788888228012903,-1.0657795177184286,-0.19887977234955123,-3.0277583557901284,1.1005814317670835,-0.3179214599792042,-0.43257734328307595,0.11114191889074262,-0.3704988755598605,-0.09302665998491377,-0.5298198476306464,1.6073108760146577,0.12068430552370837,1.6618248398616335,0.23820728649596368,0.38601565713966307,-0.36537900357582315,0.1079053622037719,1.5855933096596238,-1.010028883802588,-0.4351358650961181,-0.7023533675584498,-0.41382777570733337,0.9646763274080647,-0.802034689297652,2.9870755174960153,-0.9901482803430971,-0.02054014028546194,1.1281104017103454,0.6741677954382824,0.21088935390257268,0.7128959753588731,-0.06931421675504554,-0.7734045478681795,0.9061116425811788,-1.487623612070424,-1.1941253973621777,-0.19766259866280933,0.5885387349763519,-1.0517594833630677,-0.7683425838784504,0.014445478562674266,1.2216261703482978,-0.20534585100665284,1.415098250306173,-0.1491169696090909,-0.614283518168431,-0.7386557785532892,-0.056185788089091235,0.4017173122742185,-0.5801288239007595,-0.8477319785248107,1.4158942239016827,-0.6109815376975435,0.2738626815025972,-0.944465337591968,-0.8366049821839697,-0.29247295057917744,-1.3226071291017902,1.260530728804452,-0.7189292664840081,1.2283137463431295,-0.0737162142239585,-0.02210796807349362,-0.47965936497195577,-1.0216203824792018,0.6709260124242523,-0.7151478145328073,-0.11092121368668109,-0.5488385076239497,0.783334544578591,-0.48804913757835194,-0.004260614823700484,-0.8153423347386864,-1.6216798167777313,-0.19357316780082506,0.1158648966608458,1.6689648976270837,-0.11643431605672343,-0.3793542165192267,-0.759186601330592,0.0025237868917469294,-0.05381056618601836,-1.5477257888158007,1.2313097156573667,0.04770856714093939,-1.0304606066674062,0.9280435655983689,-0.24802649959044734,1.3227688564620625,-1.04666122330276,-0.16122044275378997,-0.9335195257803409,0.21878537537282614,0.36802264215632535,-1.518686015441249,0.38818208085085765,1.4966293523161842,0.49155497889877986,-1.2479931346190436,-1.4569001949192242,1.336730711972496,-0.4024284951962061,-1.0775366972698353,-0.14846019484100034,-0.5462165297811243,0.21032576323119548,-0.5426454568926761,-0.20614561329944517,0.8711720653113084,-0.14697196098256418,4.808995047774186,0.20082876427490093,-1.1673658406899847,0.9724364592192248,0.3046255196569007,-1.602190154241696,-0.6752476892377924,-1.254683128239185,0.7622666175628092,0.05333615199085579,-0.11580076914860442,2.5744709903730603,0.43422730450178454,0.8250127217455608,0.6191385494987072,-1.4512888032124398,-0.6664760805862301,-0.7675590147287902,0.2500596731415377,0.6979042068746295,0.7250123874593019,-0.027568648050025433,-0.45609106375497493,-0.5150848596622675,0.2359379857518817,-1.3247366340738957,0.5124410318966371,-0.12257115569720331,-0.043981523343635726,-0.6864814438529565,0.886111411402042,-1.5513041066432387,-0.4584781598186878,-1.6936265464529807,-0.6269551144373323,-0.8704905840340804,0.4759334522037008,-0.6631747540169372,-0.970453465071369,0.28402087097829987,-0.3438409719219625,-1.153904291765972,-1.031312791353709,-0.3557283095524922,-0.47923086298469647,0.48025452223427584,0.3159110071768647,0.30869103317020224,-1.2659893413551064,-0.04479651405470654,0.39220412017479134,-1.3808451670300157,-1.2708688968170299,-0.7921347332382709,-0.7542326738806092,0.3611015438774741,-1.2305274427793824,0.11497648272416469,-1.8502596376304632,0.06978525653484421,1.1867536134380843,-0.9763457265875289,-1.091533503765224,0.35707294910326165,2.1072308154768313,0.6387360465201848,0.058417498186236254,-1.0346309649677288,-0.7013012405011099,0.09998322575234823,-2.1730739630698115,0.013137620353027159,0.8498537412851126,-1.1601362289904686,0.42842763830562686,-1.1606836265187135,0.11829465633818438,0.29336853718176437,-0.5122934746820433,-3.0060388759477923,-0.4441151955675879,-0.9402005711963398],\"y\":[0.40938459211239786,-0.22154766962168673,-0.9584728812797579,-0.6007248797411072,1.0661668921206873,0.14631361146490196,-1.1435558289146737,1.68796601235511,0.12989779648127478,3.7245823878708824,1.9678641342183556,-0.20845180202716296,-1.614825931331234,-0.14597230616444587,1.3168894945202323,-1.7567953002881203,0.2759772720374767,-1.4103111953727088,-0.1272545865926612,-1.7456842954622775,0.2390715037314362,0.5217587402476628,0.24143321290428854,0.6606943884792627,0.4399311514181095,-0.6535679495233643,-0.07735284286215556,0.3384271065429991,0.06302949732047497,-0.32254760273548394,0.7101443093113498,1.7513660014667392,0.3028306271632832,0.1520247471267658,-0.7490484024428459,0.3445564529862387,0.012417087342731295,0.8871512014995954,0.5928706528000705,1.0790327279042782,0.28623334833778485,-1.2282475885995336,-0.6346761187207861,-0.33881830991883904,-0.7304257297367158,0.35457310550350485,-0.2307906884626834,1.5656376357278468,-0.01246760911672262,1.1093761306116394,-0.9062250890749646,1.4109973821636224,1.4915686661409417,0.9617851165861964,0.15324645985031055,2.6192643349199227,0.09558875145828494,-0.7224342918851633,0.24714287078350552,0.0871636243840793,0.8273943936066327,-0.3254694393076152,-0.3109447416702733,0.7365078320562298,-0.31090764125254466,-1.0198342805251912,-0.8121358935271744,0.1530268995299714,-0.04878895017047181,2.386773934609274,0.506056787107157,-1.5736656518147039,0.08650296129815593,-1.0826616193615581,0.07833063033194558,-0.8097118302428975,0.5822673618597896,-0.6756056164842522,0.2256813711253767,0.4115520900900538,0.5560981619574848,0.012294386762391203,-0.32830469182915245,-0.4357489272077826,0.29939658003678604,0.9610234895861317,-1.0416144474302365,0.30438082069766537,-0.7530550998446056,-0.9298646951962042,-0.17583994993888405,0.16078995564944973,-0.3638965113742402,-0.478811752412027,0.43848346002584887,-0.5765467239676391,-0.07180298598100751,0.028935608334816204,0.5246236541263944,-0.41950640359897484,0.2860159389096745,0.1967197027084182,-0.8724337084963191,-0.8354048346043982,0.5198687174359318,3.767923129262448,-0.17025148325501951,-0.809774184354322,0.3080079046098876,5.260718123058533,0.7430571317455003,-0.531963997962253,-0.281574385553228,1.0007381139128824,0.5547704331066903,-1.079699258596182,-0.06115749829666996,3.2757534990637236,-0.567728904983608,0.5911020129094879,-0.4904065298670935,-0.9143799023550477,-0.5013781843042155,-1.382070157305672,0.13522350398748342,-0.5652014203612358,0.07457618600475507,0.164789561593251,-0.14708948054338794,0.025037945946463032,-0.460346771545273,1.10706911603707,-0.2501230222571405,0.3198691879692834,-0.04953982799120996,0.15359804042024602,-0.9069929426976099,0.6794578667146867,-0.4645275801778263,-0.8489906561883016,0.2200262480591099,0.43873533389550157,0.3278805435279527,-0.39000325564893634,0.9990468114760305,-0.3940566464635567,-0.8172737659665066,-0.29397210940615937,-0.03500701818375209,-0.48260221175277956,0.2993386651912007,-0.294428620699178,-1.0795628923327274,-0.2879758772605505,-0.2893917695769514,-0.631659430051165,0.0032426039733152107,-0.35019390625848307,0.0921537820934451,0.8345505715110073,-0.16080809396028475,-1.3338873565531397,1.6289205636188901,-2.0985763389933614,0.2766640794530973,-0.2984344532655599,-0.7805048495543826,-1.6423843493603798,0.05655730271372921,0.4676316036304362,-0.18276661696413668,0.2596115179884668,-0.7480111572644206,-1.1022778752302884,0.11202050396302389,0.5429091497472944,-1.5144155656551177,-1.544361224239545,-0.018094130058999507,-0.18155312484559788,-0.16250951925213034,-0.5828994698436871,-0.0018741763494280223,0.18186173739182376,-0.5649519465125725,1.188236393556313,-1.435518570117422,1.1767160237477643,-0.6360102362293164,-0.3214882732882841,1.3212974405615443,0.5482516596099928,-0.4513745255782335,-0.8691050511727394,-1.5304429682094265,-0.026994530435666336,-0.26778597896437245,-0.1032419154064168,-0.07928856693456154,0.0582746530158082,-2.008163320791643,0.703205655524833,-0.3823964835000298,0.07586382727018622,0.20558891971584276,0.6704870985302941,-0.8600641682179355,-0.48537511016289214,0.09243125725936942,-0.2567507417619394,1.2594153314349834,-1.460381366744853,2.345904348716187,-0.28481945595492325,0.17063910276341973,-0.38237539138344095,1.0012977556816998,0.9572394285108128,0.081074353015325,0.8058257034117827,0.2961005561713082,-0.7074939657447219,0.5198175847572314,-1.7188925566463047,2.1029308716913317,0.2948548500102947,-0.8241831222143368,-1.3746680225801322,0.835637762447782,0.2731263588173754,-1.8272697510298874,-0.7051560008805777,-0.621052552169544,0.46183047331602584,0.14093131739001505,1.57281490574881,0.028118175647859397,-0.7924335392383117,-0.06763143536807031,-0.19966109372439123,2.7825021093462476,-0.12736363411694654,-0.5663361124263052,-0.2640245938341691,-0.041570360751708405,0.14459109405646722,0.2622340494764937,0.1272548882062963,-0.15425725908540308,-0.5496717910947819,0.9780428152631063,-0.5473549183472267,-0.19243648574095748,-0.08209112670186859,-0.24111014061959762,0.4160682188202735,0.4773363582737717,-0.25174540898447106,-0.7702615452588184,0.060157377460875926,-0.8255049340166448,0.04568251105897503,-0.5872073867200794,-0.4827385780162345,-1.1997776257669976,0.5777458591145093,-0.021832664558865275,-1.2850430278793055,-0.0183646960242517,-0.9089426674286465,-0.2359274317549683,-0.6861783238289962,-0.3788142360131048,-1.2709397487597627,-1.2434980826601298,1.1437563286858354,0.7167501577109366,-2.2326774792867123,-0.6534749419025595,1.6910917485490158,-0.19754734901521426,-1.5475237831624478,-0.1744574565759631,-0.04491810254936804,-0.24250968851013777,0.4997578261019278,0.18034385740675513,2.3112616682868827,0.020464916994797373,1.6171305828164404,-0.8099613040915606,-1.2964658606652362,0.8314895894495147,-0.9408310166891162,-1.089927387823644,-0.06535582461535072,4.15758821918042,-1.4945393523065915,1.084501733346567],\"z\":[-0.5454014834817907,0.15843773945528233,-0.24672468167456338,1.0290193287096812,0.6406979967112573,-1.2703057083224594,-0.8916687537614001,-0.2424962446901928,-0.14064352315063536,4.188487664804654,0.8264700027098708,-0.44405002415361067,0.8231200690029701,0.39452941687742854,0.32944752519306414,-1.1975842655936888,-1.883586095538853,0.6029811538699738,-0.8192430960271699,1.239532933949635,-0.33844398566220185,-0.14585825553465237,-0.8210249717387825,0.01714807687721851,-0.5672117397401466,-0.7256531036022027,-2.286782665160673,-0.6655906802687716,3.234218281078947,-1.3482208736925096,-1.7242628606630765,-0.38983810319209583,0.3282078396273187,0.528362765018283,-0.5197189869136758,0.9747629961767635,-1.9749225556549563,-1.5796760935517364,0.653726913197831,1.141486672668412,-0.2941602985730625,0.5538448616923605,-0.6800821389289133,-0.9530399900754866,-0.0771424344136969,0.9749934757578246,0.20168899660631115,-0.6357771587382253,0.9236191260012709,-0.0749486316681571,-0.686596119525519,0.36786763727364813,3.760078323989546,-0.8808325683922867,0.6376493791929483,-1.7200508130357743,0.37406025741076704,-0.45379998007717276,0.4308859068618808,-0.7685581378907157,0.5629009251985849,1.2675561582399681,0.16349349498227347,0.6206186420703671,0.8335820420604407,1.1620773181831632,1.12112368125792,-0.9282780435043372,-0.6320543753446513,-0.06743290772614167,0.7289578067451139,-0.07990930554748708,-1.6861689168880192,-0.23970132079082315,-0.6092390488419775,-0.3793398246404704,-0.9984178845536148,1.015293830865326,-1.4388278270853643,-0.04040853987150654,-0.3186417778786621,-0.5022318991237401,0.8734557916819827,-0.8014849203340481,-0.1988962261546205,0.047816413180534256,0.1522380116490883,-0.718343082502789,0.5022974447802742,0.028740729905438533,-0.9315504729238315,-0.2256527086382576,1.0123448623216926,0.29718915500721615,-0.3567462418862733,-0.11935375405249737,-0.23226967710696064,-0.7059742722518352,-0.13117386321570865,-0.2704922349719499,-0.45615394785404917,-1.033949177377934,-1.269469528262041,0.8852825685250707,0.6338619936361631,-0.6700382132924425,0.29458527438156595,0.6385426951813394,-0.34022028552365946,0.5733295850916726,-1.584251098082729,0.2455172698322359,0.8023973112224623,-0.6218849849206581,-0.16146304111256274,-0.009736518103118643,-0.44566697774073494,-0.30841540826469693,-0.5709133253372655,-1.167658989807214,0.10621862461806753,-0.540373279298275,-0.33343091020600757,-0.23191564332510164,1.652948406950182,1.048569869795724,1.3402382599664902,-0.21916578428260317,-0.5279801429780797,1.8607279096838103,-0.04155463541674095,3.266569149455585,0.7189780110825009,-0.2544202768172219,-1.3189766919703305,-0.9789327531537446,-0.49914888669800084,0.04107195300286692,-0.27888168130067914,0.225715062048696,-1.3312524293884813,0.537930140427992,0.3098446254738424,-0.3466096200897461,-0.5420316420403564,0.1830402140668841,0.08979740997627435,-0.4342889165297387,-0.5163586552345968,-0.31136834740814534,0.0823180037615628,-0.4391876973879436,0.30827909542817705,0.5107574156900193,-0.6561786513643395,0.3058332914795133,0.5586481209137057,0.3891324074323978,-1.477915689404431,-0.18822127744492317,-0.47252644809646943,0.5986590856338251,-0.5539716199392929,0.4470702919715584,0.7161488801582938,-1.1868763704889005,0.029129286163486614,0.9082523274709247,-0.48411716950834066,-0.9919347821993919,0.668696378800204,0.16794385348274718,-0.7431968652457259,0.29261717392229364,-0.6379400832413823,-0.24726304981900027,-0.6582115317544478,0.5438402156252305,-0.25225366684899275,-0.12192118058561,0.8948808221771625,-0.12500545364109594,-0.37034836329745674,-0.1153885652766529,0.07161677633665132,0.024783838353681416,0.20099896742167098,0.510243887863426,-0.2436626551317476,0.8798782293811616,-0.698290961870475,-0.1057143799934153,0.18628176524399548,-0.8039174823445074,1.1133914954863655,-0.654846467607805,0.7785656178362516,-0.614128431848596,0.3498181808080614,0.33633907726388845,-0.4873287775347897,0.5699242860823265,-0.9029223467095024,1.4646791692086263,-1.4913556188628356,0.3599931470822094,0.8933902684692808,-1.7233512337879406,-0.1932024966233292,0.2793945252215568,-0.9262489851156607,0.26029160793788436,-1.1257289873072647,0.8957647613435914,-0.7107794630895291,-0.8005925596390192,-0.9525914311813962,5.618785092169819,-0.6203297878182996,-0.20175479692383877,-0.41790669461012475,-0.3999670607841182,0.8781636860044698,0.503255247425141,-0.21831101074109985,-0.8053837320683341,0.15580158530468816,0.10154923151120265,2.2527934852649634,-0.7674373447377093,0.4020340099776326,-0.6930427677872039,0.9208132315940537,0.44554021949380274,0.25511552348432764,-1.2845695743112504,-1.0800335131398155,-0.6185826123505014,-0.47709380862459927,0.2128193819212665,-0.7752284615172264,-0.29372717374267987,1.0567673377590132,-1.0567985743690855,0.6935178880181967,-0.005228225119310589,0.13107798321115946,0.515228792506904,0.9639383923186795,0.3922803685889983,-0.05759940079415843,-0.0031251254845704028,0.3276328808539859,-0.6827487313326919,0.15461947565611495,0.17604215557537076,-0.021244002639427884,-0.13772254405612863,0.5667838323922297,-0.018413464434147302,0.12306962690524058,-0.5163088693782697,-0.19819693565475321,-0.6293839609394413,-0.0682474297992636,0.2671295013980613,0.6546702269573853,0.5771394887951482,0.6223696395395968,1.0066188161506464,1.098770254934749,0.30860493990809723,-0.43762405772736107,0.7013409748698184,-0.1462347047990282,0.4345451386906999,-0.7448728863771721,-0.606655428917185,0.22629559667218382,0.21790326343374378,-0.7912742985227235,0.4669847244879606,2.79458289865921,-0.4374383280822229,0.2439939062656226,0.18716934864423063,0.2599113164704351,0.5601443870081017,-0.41255173548055446,-2.106615414976813,0.5976132688186024,0.1348579025327065,0.20512617038266867,-0.4086420754987983,-0.25515058209583147,0.24771300419412456,0.31667883346894754,1.024890194132335,0.7251403415013071],\"type\":\"scatter3d\"}],                        {\"template\":{\"data\":{\"bar\":[{\"error_x\":{\"color\":\"#2a3f5f\"},\"error_y\":{\"color\":\"#2a3f5f\"},\"marker\":{\"line\":{\"color\":\"#E5ECF6\",\"width\":0.5},\"pattern\":{\"fillmode\":\"overlay\",\"size\":10,\"solidity\":0.2}},\"type\":\"bar\"}],\"barpolar\":[{\"marker\":{\"line\":{\"color\":\"#E5ECF6\",\"width\":0.5},\"pattern\":{\"fillmode\":\"overlay\",\"size\":10,\"solidity\":0.2}},\"type\":\"barpolar\"}],\"carpet\":[{\"aaxis\":{\"endlinecolor\":\"#2a3f5f\",\"gridcolor\":\"white\",\"linecolor\":\"white\",\"minorgridcolor\":\"white\",\"startlinecolor\":\"#2a3f5f\"},\"baxis\":{\"endlinecolor\":\"#2a3f5f\",\"gridcolor\":\"white\",\"linecolor\":\"white\",\"minorgridcolor\":\"white\",\"startlinecolor\":\"#2a3f5f\"},\"type\":\"carpet\"}],\"choropleth\":[{\"colorbar\":{\"outlinewidth\":0,\"ticks\":\"\"},\"type\":\"choropleth\"}],\"contour\":[{\"colorbar\":{\"outlinewidth\":0,\"ticks\":\"\"},\"colorscale\":[[0.0,\"#0d0887\"],[0.1111111111111111,\"#46039f\"],[0.2222222222222222,\"#7201a8\"],[0.3333333333333333,\"#9c179e\"],[0.4444444444444444,\"#bd3786\"],[0.5555555555555556,\"#d8576b\"],[0.6666666666666666,\"#ed7953\"],[0.7777777777777778,\"#fb9f3a\"],[0.8888888888888888,\"#fdca26\"],[1.0,\"#f0f921\"]],\"type\":\"contour\"}],\"contourcarpet\":[{\"colorbar\":{\"outlinewidth\":0,\"ticks\":\"\"},\"type\":\"contourcarpet\"}],\"heatmap\":[{\"colorbar\":{\"outlinewidth\":0,\"ticks\":\"\"},\"colorscale\":[[0.0,\"#0d0887\"],[0.1111111111111111,\"#46039f\"],[0.2222222222222222,\"#7201a8\"],[0.3333333333333333,\"#9c179e\"],[0.4444444444444444,\"#bd3786\"],[0.5555555555555556,\"#d8576b\"],[0.6666666666666666,\"#ed7953\"],[0.7777777777777778,\"#fb9f3a\"],[0.8888888888888888,\"#fdca26\"],[1.0,\"#f0f921\"]],\"type\":\"heatmap\"}],\"heatmapgl\":[{\"colorbar\":{\"outlinewidth\":0,\"ticks\":\"\"},\"colorscale\":[[0.0,\"#0d0887\"],[0.1111111111111111,\"#46039f\"],[0.2222222222222222,\"#7201a8\"],[0.3333333333333333,\"#9c179e\"],[0.4444444444444444,\"#bd3786\"],[0.5555555555555556,\"#d8576b\"],[0.6666666666666666,\"#ed7953\"],[0.7777777777777778,\"#fb9f3a\"],[0.8888888888888888,\"#fdca26\"],[1.0,\"#f0f921\"]],\"type\":\"heatmapgl\"}],\"histogram\":[{\"marker\":{\"pattern\":{\"fillmode\":\"overlay\",\"size\":10,\"solidity\":0.2}},\"type\":\"histogram\"}],\"histogram2d\":[{\"colorbar\":{\"outlinewidth\":0,\"ticks\":\"\"},\"colorscale\":[[0.0,\"#0d0887\"],[0.1111111111111111,\"#46039f\"],[0.2222222222222222,\"#7201a8\"],[0.3333333333333333,\"#9c179e\"],[0.4444444444444444,\"#bd3786\"],[0.5555555555555556,\"#d8576b\"],[0.6666666666666666,\"#ed7953\"],[0.7777777777777778,\"#fb9f3a\"],[0.8888888888888888,\"#fdca26\"],[1.0,\"#f0f921\"]],\"type\":\"histogram2d\"}],\"histogram2dcontour\":[{\"colorbar\":{\"outlinewidth\":0,\"ticks\":\"\"},\"colorscale\":[[0.0,\"#0d0887\"],[0.1111111111111111,\"#46039f\"],[0.2222222222222222,\"#7201a8\"],[0.3333333333333333,\"#9c179e\"],[0.4444444444444444,\"#bd3786\"],[0.5555555555555556,\"#d8576b\"],[0.6666666666666666,\"#ed7953\"],[0.7777777777777778,\"#fb9f3a\"],[0.8888888888888888,\"#fdca26\"],[1.0,\"#f0f921\"]],\"type\":\"histogram2dcontour\"}],\"mesh3d\":[{\"colorbar\":{\"outlinewidth\":0,\"ticks\":\"\"},\"type\":\"mesh3d\"}],\"parcoords\":[{\"line\":{\"colorbar\":{\"outlinewidth\":0,\"ticks\":\"\"}},\"type\":\"parcoords\"}],\"pie\":[{\"automargin\":true,\"type\":\"pie\"}],\"scatter\":[{\"marker\":{\"colorbar\":{\"outlinewidth\":0,\"ticks\":\"\"}},\"type\":\"scatter\"}],\"scatter3d\":[{\"line\":{\"colorbar\":{\"outlinewidth\":0,\"ticks\":\"\"}},\"marker\":{\"colorbar\":{\"outlinewidth\":0,\"ticks\":\"\"}},\"type\":\"scatter3d\"}],\"scattercarpet\":[{\"marker\":{\"colorbar\":{\"outlinewidth\":0,\"ticks\":\"\"}},\"type\":\"scattercarpet\"}],\"scattergeo\":[{\"marker\":{\"colorbar\":{\"outlinewidth\":0,\"ticks\":\"\"}},\"type\":\"scattergeo\"}],\"scattergl\":[{\"marker\":{\"colorbar\":{\"outlinewidth\":0,\"ticks\":\"\"}},\"type\":\"scattergl\"}],\"scattermapbox\":[{\"marker\":{\"colorbar\":{\"outlinewidth\":0,\"ticks\":\"\"}},\"type\":\"scattermapbox\"}],\"scatterpolar\":[{\"marker\":{\"colorbar\":{\"outlinewidth\":0,\"ticks\":\"\"}},\"type\":\"scatterpolar\"}],\"scatterpolargl\":[{\"marker\":{\"colorbar\":{\"outlinewidth\":0,\"ticks\":\"\"}},\"type\":\"scatterpolargl\"}],\"scatterternary\":[{\"marker\":{\"colorbar\":{\"outlinewidth\":0,\"ticks\":\"\"}},\"type\":\"scatterternary\"}],\"surface\":[{\"colorbar\":{\"outlinewidth\":0,\"ticks\":\"\"},\"colorscale\":[[0.0,\"#0d0887\"],[0.1111111111111111,\"#46039f\"],[0.2222222222222222,\"#7201a8\"],[0.3333333333333333,\"#9c179e\"],[0.4444444444444444,\"#bd3786\"],[0.5555555555555556,\"#d8576b\"],[0.6666666666666666,\"#ed7953\"],[0.7777777777777778,\"#fb9f3a\"],[0.8888888888888888,\"#fdca26\"],[1.0,\"#f0f921\"]],\"type\":\"surface\"}],\"table\":[{\"cells\":{\"fill\":{\"color\":\"#EBF0F8\"},\"line\":{\"color\":\"white\"}},\"header\":{\"fill\":{\"color\":\"#C8D4E3\"},\"line\":{\"color\":\"white\"}},\"type\":\"table\"}]},\"layout\":{\"annotationdefaults\":{\"arrowcolor\":\"#2a3f5f\",\"arrowhead\":0,\"arrowwidth\":1},\"autotypenumbers\":\"strict\",\"coloraxis\":{\"colorbar\":{\"outlinewidth\":0,\"ticks\":\"\"}},\"colorscale\":{\"diverging\":[[0,\"#8e0152\"],[0.1,\"#c51b7d\"],[0.2,\"#de77ae\"],[0.3,\"#f1b6da\"],[0.4,\"#fde0ef\"],[0.5,\"#f7f7f7\"],[0.6,\"#e6f5d0\"],[0.7,\"#b8e186\"],[0.8,\"#7fbc41\"],[0.9,\"#4d9221\"],[1,\"#276419\"]],\"sequential\":[[0.0,\"#0d0887\"],[0.1111111111111111,\"#46039f\"],[0.2222222222222222,\"#7201a8\"],[0.3333333333333333,\"#9c179e\"],[0.4444444444444444,\"#bd3786\"],[0.5555555555555556,\"#d8576b\"],[0.6666666666666666,\"#ed7953\"],[0.7777777777777778,\"#fb9f3a\"],[0.8888888888888888,\"#fdca26\"],[1.0,\"#f0f921\"]],\"sequentialminus\":[[0.0,\"#0d0887\"],[0.1111111111111111,\"#46039f\"],[0.2222222222222222,\"#7201a8\"],[0.3333333333333333,\"#9c179e\"],[0.4444444444444444,\"#bd3786\"],[0.5555555555555556,\"#d8576b\"],[0.6666666666666666,\"#ed7953\"],[0.7777777777777778,\"#fb9f3a\"],[0.8888888888888888,\"#fdca26\"],[1.0,\"#f0f921\"]]},\"colorway\":[\"#636efa\",\"#EF553B\",\"#00cc96\",\"#ab63fa\",\"#FFA15A\",\"#19d3f3\",\"#FF6692\",\"#B6E880\",\"#FF97FF\",\"#FECB52\"],\"font\":{\"color\":\"#2a3f5f\"},\"geo\":{\"bgcolor\":\"white\",\"lakecolor\":\"white\",\"landcolor\":\"#E5ECF6\",\"showlakes\":true,\"showland\":true,\"subunitcolor\":\"white\"},\"hoverlabel\":{\"align\":\"left\"},\"hovermode\":\"closest\",\"mapbox\":{\"style\":\"light\"},\"paper_bgcolor\":\"white\",\"plot_bgcolor\":\"#E5ECF6\",\"polar\":{\"angularaxis\":{\"gridcolor\":\"white\",\"linecolor\":\"white\",\"ticks\":\"\"},\"bgcolor\":\"#E5ECF6\",\"radialaxis\":{\"gridcolor\":\"white\",\"linecolor\":\"white\",\"ticks\":\"\"}},\"scene\":{\"xaxis\":{\"backgroundcolor\":\"#E5ECF6\",\"gridcolor\":\"white\",\"gridwidth\":2,\"linecolor\":\"white\",\"showbackground\":true,\"ticks\":\"\",\"zerolinecolor\":\"white\"},\"yaxis\":{\"backgroundcolor\":\"#E5ECF6\",\"gridcolor\":\"white\",\"gridwidth\":2,\"linecolor\":\"white\",\"showbackground\":true,\"ticks\":\"\",\"zerolinecolor\":\"white\"},\"zaxis\":{\"backgroundcolor\":\"#E5ECF6\",\"gridcolor\":\"white\",\"gridwidth\":2,\"linecolor\":\"white\",\"showbackground\":true,\"ticks\":\"\",\"zerolinecolor\":\"white\"}},\"shapedefaults\":{\"line\":{\"color\":\"#2a3f5f\"}},\"ternary\":{\"aaxis\":{\"gridcolor\":\"white\",\"linecolor\":\"white\",\"ticks\":\"\"},\"baxis\":{\"gridcolor\":\"white\",\"linecolor\":\"white\",\"ticks\":\"\"},\"bgcolor\":\"#E5ECF6\",\"caxis\":{\"gridcolor\":\"white\",\"linecolor\":\"white\",\"ticks\":\"\"}},\"title\":{\"x\":0.05},\"xaxis\":{\"automargin\":true,\"gridcolor\":\"white\",\"linecolor\":\"white\",\"ticks\":\"\",\"title\":{\"standoff\":15},\"zerolinecolor\":\"white\",\"zerolinewidth\":2},\"yaxis\":{\"automargin\":true,\"gridcolor\":\"white\",\"linecolor\":\"white\",\"ticks\":\"\",\"title\":{\"standoff\":15},\"zerolinecolor\":\"white\",\"zerolinewidth\":2}}}},                        {\"responsive\": true}                    ).then(function(){\n",
       "                            \n",
       "var gd = document.getElementById('9ad52dce-c086-4c81-8b85-48ae1329fcfc');\n",
       "var x = new MutationObserver(function (mutations, observer) {{\n",
       "        var display = window.getComputedStyle(gd).display;\n",
       "        if (!display || display === 'none') {{\n",
       "            console.log([gd, 'removed!']);\n",
       "            Plotly.purge(gd);\n",
       "            observer.disconnect();\n",
       "        }}\n",
       "}});\n",
       "\n",
       "// Listen for the removal of the full notebook cells\n",
       "var notebookContainer = gd.closest('#notebook-container');\n",
       "if (notebookContainer) {{\n",
       "    x.observe(notebookContainer, {childList: true});\n",
       "}}\n",
       "\n",
       "// Listen for the clearing of the current output cell\n",
       "var outputEl = gd.closest('.output');\n",
       "if (outputEl) {{\n",
       "    x.observe(outputEl, {childList: true});\n",
       "}}\n",
       "\n",
       "                        })                };                });            </script>        </div>"
      ]
     },
     "metadata": {},
     "output_type": "display_data"
    },
    {
     "data": {
      "text/plain": [
       "1    157\n",
       "0    129\n",
       "2     13\n",
       "Name: cluster, dtype: int64"
      ]
     },
     "execution_count": 83,
     "metadata": {},
     "output_type": "execute_result"
    }
   ],
   "source": [
    "## Визуализация на данните(отново с PCA)\n",
    "pcaProto = PCA(n_components=3)\n",
    "pcaProto_HFRD = pcaProto.fit_transform(HFRD_scale)\n",
    "\n",
    "import plotly.graph_objects as go\n",
    "\n",
    "\n",
    "fig = go.Figure(\n",
    "    go.Scatter3d(mode='markers',\n",
    "                 x = pcaProto_HFRD[:, 0],\n",
    "                 y = pcaProto_HFRD[:, 1],\n",
    "                 z = pcaProto_HFRD[:, 2],\n",
    "                 marker=dict(size = 5, color = HFRD['cluster'], colorscale = 'viridis')\n",
    "                )\n",
    ")\n",
    "    \n",
    "fig.show()\n",
    "## Тук виждаме по-колко човека(точки имаме във всеки клъстер)\n",
    "HFRD[\"cluster\"].value_counts()"
   ]
  },
  {
   "cell_type": "code",
   "execution_count": 84,
   "id": "43580a8c",
   "metadata": {},
   "outputs": [
    {
     "data": {
      "text/plain": [
       "<seaborn.axisgrid.PairGrid at 0x22248be65e0>"
      ]
     },
     "execution_count": 84,
     "metadata": {},
     "output_type": "execute_result"
    },
    {
     "data": {
      "image/png": "[encoded data removed]",
      "text/plain": [
       "<Figure size 582.375x540 with 12 Axes>"
      ]
     },
     "metadata": {
      "needs_background": "light"
     },
     "output_type": "display_data"
    }
   ],
   "source": [
    "## На графиката отгоре виждаме много сходно(почти еднакво) разделение на 3-те клъстера,\n",
    "## но когато погледнем броят на пацеунтите(точките) във всеки клъстер виждаме,че има малко разлика в броя\n",
    "\n",
    "g = sns.PairGrid(HFRD[[\"age\", \"serum_creatinine\", \"platelets\", \"cluster\"]], hue = \"cluster\", palette = 'viridis')\n",
    "g.map_diag(sns.histplot)\n",
    "g.map_offdiag(sns.scatterplot)\n",
    "g.add_legend()"
   ]
  },
  {
   "cell_type": "code",
   "execution_count": 85,
   "id": "8c76786f",
   "metadata": {},
   "outputs": [
    {
     "data": {
      "image/png": "[encoded data removed]",
      "text/plain": [
       "<Figure size 432x288 with 1 Axes>"
      ]
     },
     "metadata": {
      "needs_background": "light"
     },
     "output_type": "display_data"
    }
   ],
   "source": [
    "## Тъй като алгоритмите са сходни можем да наблюдаваме сходни резултати за горните графики \n",
    "## по отношение на здравословните показатели на пациентите\n",
    "\n",
    "\n",
    "ax = sns.countplot(data = HFRD, x=\"high_blood_pressure\", hue = \"cluster\", palette = 'viridis' )"
   ]
  },
  {
   "cell_type": "code",
   "execution_count": 86,
   "id": "3a4459f9",
   "metadata": {},
   "outputs": [
    {
     "data": {
      "image/png": "[encoded data removed]",
      "text/plain": [
       "<Figure size 432x288 with 1 Axes>"
      ]
     },
     "metadata": {
      "needs_background": "light"
     },
     "output_type": "display_data"
    }
   ],
   "source": [
    "## На тази графика виждаме разпределението в отделните клъстери на базата на високо кръвно налягане\n",
    "ax = sns.countplot(data = HFRD, x=\"sex\", hue = \"cluster\", palette = 'viridis' )"
   ]
  },
  {
   "cell_type": "code",
   "execution_count": null,
   "id": "04eacbcc",
   "metadata": {},
   "outputs": [],
   "source": [
    "## На тази графика виждаме разпределението в отделните клъстери на базата на пола на пациента\n",
    "HFRD[HFRD[\"cluster\"] == 2].describe()"
   ]
  },
  {
   "cell_type": "markdown",
   "id": "23c222f5",
   "metadata": {},
   "source": [
    "## Извод от клъстеризация с Kmeans и Kprototypes:\n",
    "\n",
    "## Двата алгоритъма са сходни като реализация и резултат\n",
    "## Kprototypes се справя по-добре от Kmeans с категориинте данни"
   ]
  },
  {
   "cell_type": "markdown",
   "id": "3434ca6d",
   "metadata": {},
   "source": [
    "## Ще направим същото и с DBSCAN"
   ]
  },
  {
   "cell_type": "code",
   "execution_count": 88,
   "id": "5f65dc64",
   "metadata": {},
   "outputs": [],
   "source": [
    "from sklearn.cluster import DBSCAN\n",
    "dbscan = DBSCAN()"
   ]
  },
  {
   "cell_type": "code",
   "execution_count": 89,
   "id": "df97930c",
   "metadata": {},
   "outputs": [],
   "source": [
    "DBclusters = dbscan.fit_predict(HFRD_scale)"
   ]
  },
  {
   "cell_type": "code",
   "execution_count": 90,
   "id": "49695c44",
   "metadata": {},
   "outputs": [],
   "source": [
    "DBclusters_labels = dbscan.labels_"
   ]
  },
  {
   "cell_type": "code",
   "execution_count": 91,
   "id": "aba1619f",
   "metadata": {},
   "outputs": [],
   "source": [
    "HFRD[\"cluster\"] = DBclusters_labels"
   ]
  },
  {
   "cell_type": "code",
   "execution_count": 92,
   "id": "f4614f09",
   "metadata": {},
   "outputs": [
    {
     "data": {
      "text/html": [
       "<div>\n",
       "<style scoped>\n",
       "    .dataframe tbody tr th:only-of-type {\n",
       "        vertical-align: middle;\n",
       "    }\n",
       "\n",
       "    .dataframe tbody tr th {\n",
       "        vertical-align: top;\n",
       "    }\n",
       "\n",
       "    .dataframe thead th {\n",
       "        text-align: right;\n",
       "    }\n",
       "</style>\n",
       "<table border=\"1\" class=\"dataframe\">\n",
       "  <thead>\n",
       "    <tr style=\"text-align: right;\">\n",
       "      <th></th>\n",
       "      <th>age</th>\n",
       "      <th>sex</th>\n",
       "      <th>serum_creatinine</th>\n",
       "      <th>platelets</th>\n",
       "      <th>high_blood_pressure</th>\n",
       "      <th>cluster</th>\n",
       "    </tr>\n",
       "  </thead>\n",
       "  <tbody>\n",
       "    <tr>\n",
       "      <th>0</th>\n",
       "      <td>75.0</td>\n",
       "      <td>1</td>\n",
       "      <td>1.9</td>\n",
       "      <td>265000.00</td>\n",
       "      <td>1</td>\n",
       "      <td>-1</td>\n",
       "    </tr>\n",
       "    <tr>\n",
       "      <th>1</th>\n",
       "      <td>55.0</td>\n",
       "      <td>1</td>\n",
       "      <td>1.1</td>\n",
       "      <td>263358.03</td>\n",
       "      <td>0</td>\n",
       "      <td>0</td>\n",
       "    </tr>\n",
       "    <tr>\n",
       "      <th>2</th>\n",
       "      <td>65.0</td>\n",
       "      <td>1</td>\n",
       "      <td>1.3</td>\n",
       "      <td>162000.00</td>\n",
       "      <td>0</td>\n",
       "      <td>1</td>\n",
       "    </tr>\n",
       "    <tr>\n",
       "      <th>3</th>\n",
       "      <td>50.0</td>\n",
       "      <td>1</td>\n",
       "      <td>1.9</td>\n",
       "      <td>210000.00</td>\n",
       "      <td>0</td>\n",
       "      <td>-1</td>\n",
       "    </tr>\n",
       "    <tr>\n",
       "      <th>4</th>\n",
       "      <td>65.0</td>\n",
       "      <td>0</td>\n",
       "      <td>2.7</td>\n",
       "      <td>327000.00</td>\n",
       "      <td>0</td>\n",
       "      <td>-1</td>\n",
       "    </tr>\n",
       "  </tbody>\n",
       "</table>\n",
       "</div>"
      ],
      "text/plain": [
       "    age  sex  serum_creatinine  platelets  high_blood_pressure  cluster\n",
       "0  75.0    1               1.9  265000.00                    1       -1\n",
       "1  55.0    1               1.1  263358.03                    0        0\n",
       "2  65.0    1               1.3  162000.00                    0        1\n",
       "3  50.0    1               1.9  210000.00                    0       -1\n",
       "4  65.0    0               2.7  327000.00                    0       -1"
      ]
     },
     "execution_count": 92,
     "metadata": {},
     "output_type": "execute_result"
    }
   ],
   "source": [
    "HFRD.head()"
   ]
  },
  {
   "cell_type": "code",
   "execution_count": 93,
   "id": "bf30ce09",
   "metadata": {},
   "outputs": [
    {
     "data": {
      "application/vnd.plotly.v1+json": {
       "config": {
        "plotlyServerURL": "https://plot.ly"
       },
       "data": [
        {
         "marker": {
          "color": [
           -1,
           0,
           1,
           -1,
           -1,
           -1,
           -1,
           -1,
           2,
           -1,
           -1,
           3,
           0,
           3,
           -1,
           -1,
           4,
           0,
           -1,
           -1,
           -1,
           -1,
           3,
           0,
           -1,
           -1,
           -1,
           3,
           -1,
           4,
           -1,
           -1,
           7,
           -1,
           3,
           -1,
           4,
           -1,
           -1,
           -1,
           -1,
           -1,
           3,
           3,
           2,
           -1,
           3,
           -1,
           -1,
           -1,
           3,
           -1,
           -1,
           -1,
           -1,
           -1,
           -1,
           0,
           3,
           3,
           -1,
           -1,
           0,
           0,
           -1,
           -1,
           -1,
           0,
           2,
           -1,
           -1,
           1,
           4,
           1,
           0,
           0,
           -1,
           0,
           -1,
           5,
           -1,
           0,
           -1,
           -1,
           5,
           0,
           3,
           3,
           -1,
           3,
           0,
           0,
           -1,
           0,
           5,
           3,
           3,
           2,
           5,
           2,
           0,
           3,
           -1,
           0,
           -1,
           -1,
           0,
           0,
           0,
           -1,
           -1,
           0,
           0,
           -1,
           -1,
           2,
           5,
           -1,
           6,
           -1,
           -1,
           6,
           2,
           -1,
           -1,
           -1,
           -1,
           2,
           3,
           -1,
           3,
           -1,
           7,
           3,
           4,
           0,
           2,
           -1,
           2,
           3,
           4,
           -1,
           -1,
           6,
           -1,
           0,
           0,
           0,
           -1,
           3,
           -1,
           3,
           -1,
           0,
           6,
           0,
           -1,
           0,
           4,
           -1,
           3,
           0,
           -1,
           -1,
           -1,
           -1,
           0,
           -1,
           2,
           -1,
           0,
           0,
           3,
           0,
           3,
           0,
           -1,
           -1,
           0,
           0,
           0,
           0,
           0,
           -1,
           0,
           -1,
           -1,
           -1,
           6,
           -1,
           -1,
           2,
           0,
           1,
           -1,
           -1,
           7,
           2,
           7,
           0,
           -1,
           -1,
           3,
           -1,
           4,
           -1,
           -1,
           -1,
           2,
           7,
           -1,
           -1,
           -1,
           7,
           3,
           3,
           -1,
           -1,
           0,
           -1,
           -1,
           1,
           -1,
           0,
           -1,
           -1,
           0,
           3,
           -1,
           2,
           -1,
           1,
           0,
           0,
           0,
           -1,
           3,
           1,
           2,
           0,
           -1,
           0,
           0,
           -1,
           0,
           0,
           0,
           -1,
           0,
           2,
           -1,
           2,
           3,
           -1,
           3,
           -1,
           2,
           3,
           0,
           0,
           0,
           2,
           1,
           2,
           1,
           0,
           0,
           1,
           -1,
           0,
           -1,
           2,
           2,
           0,
           1,
           -1,
           -1,
           -1,
           2,
           -1,
           0,
           -1,
           -1,
           0,
           0,
           0,
           0,
           -1,
           2,
           -1,
           -1,
           1,
           0,
           1,
           3,
           2,
           -1,
           0,
           -1
          ],
          "colorscale": [
           [
            0,
            "#440154"
           ],
           [
            0.1111111111111111,
            "#482878"
           ],
           [
            0.2222222222222222,
            "#3e4989"
           ],
           [
            0.3333333333333333,
            "#31688e"
           ],
           [
            0.4444444444444444,
            "#26828e"
           ],
           [
            0.5555555555555556,
            "#1f9e89"
           ],
           [
            0.6666666666666666,
            "#35b779"
           ],
           [
            0.7777777777777778,
            "#6ece58"
           ],
           [
            0.8888888888888888,
            "#b5de2b"
           ],
           [
            1,
            "#fde725"
           ]
          ],
          "size": 5
         },
         "mode": "markers",
         "type": "scatter3d",
         "x": [
          1.1437660661244295,
          -0.5067119314103931,
          0.5447716978389733,
          -0.09365695270562989,
          0.7996378948448826,
          2.334550959397144,
          1.1708684902576871,
          -0.9008905186200755,
          0.26624195863011524,
          5.7354101513570885,
          2.1069331254702903,
          -0.18106528465258304,
          -0.619744198144963,
          -0.8143141250300288,
          -1.515404760566319,
          1.9137201981534184,
          1.1799708264134439,
          -0.9160668353310861,
          0.3458314702825465,
          0.18466425580289406,
          0.11465231067024922,
          0.22993449594325038,
          0.030219112931425575,
          -1.1810254737410513,
          1.0600216151873947,
          1.81826991582348,
          1.9041973683611384,
          0.4140984010408907,
          3.028553217782066,
          1.3073227578447801,
          2.1790474092541987,
          2.0478610637530275,
          -1.0755120370847504,
          -0.9084521985238853,
          0.28248745966534317,
          1.9286096865493332,
          1.540579000035673,
          0.7258025120592413,
          0.3873446008201143,
          0.6998018081891634,
          0.8227367782222894,
          -0.35969094603290674,
          0.7022537819500322,
          0.571583676904676,
          -0.02321907297462281,
          -0.4486382309666538,
          -0.8666042872958589,
          -1.186782355236552,
          3.4519594929808273,
          -0.9695463557275413,
          0.5301221697617569,
          -1.0043003354070872,
          3.3373097260032183,
          -0.058847186935020564,
          0.4562792775481451,
          1.6216985566133013,
          1.4966630168678705,
          -0.3724154992051992,
          -1.023469017641932,
          0.6336186704385237,
          -1.5648335816151822,
          0.11270777892464062,
          -0.47349267689634233,
          -1.566923665584184,
          -1.066500371184813,
          1.4272662858012506,
          -0.981346319979605,
          0.35295501319644973,
          0.4276958020607658,
          -0.3090523361183155,
          -1.8804796659526675,
          0.03806927014865337,
          1.1976674679329844,
          0.5909192640129054,
          0.33836685571688696,
          -0.2665416612446043,
          -0.06470572146481644,
          -1.0845380334983137,
          0.25728033663691113,
          -0.8739724707687592,
          0.5701353985592245,
          0.2220642517609796,
          0.855546485429965,
          1.6366743421765635,
          -0.5065487331434103,
          -1.4922203299688381,
          -0.16611869362286003,
          -0.2558429922559885,
          -1.2609537969780744,
          -0.08149130996441609,
          0.20212227770383573,
          -0.4068459963195402,
          -1.2360392000638014,
          0.34492030775245464,
          -0.8416352493761451,
          -0.22314733731321446,
          0.1250021838015578,
          0.3253717768827813,
          -0.3802806255669673,
          0.050474810773889336,
          -0.06455500973456402,
          0.6940069433203355,
          1.312061239269304,
          -1.1720422620281452,
          0.4293503137385527,
          -0.46133816033555486,
          -0.3788888228012903,
          -1.0657795177184286,
          -0.19887977234955123,
          -3.0277583557901284,
          1.1005814317670835,
          -0.3179214599792042,
          -0.43257734328307595,
          0.11114191889074262,
          -0.3704988755598605,
          -0.09302665998491377,
          -0.5298198476306464,
          1.6073108760146577,
          0.12068430552370837,
          1.6618248398616335,
          0.23820728649596368,
          0.38601565713966307,
          -0.36537900357582315,
          0.1079053622037719,
          1.5855933096596238,
          -1.010028883802588,
          -0.4351358650961181,
          -0.7023533675584498,
          -0.41382777570733337,
          0.9646763274080647,
          -0.802034689297652,
          2.9870755174960153,
          -0.9901482803430971,
          -0.02054014028546194,
          1.1281104017103454,
          0.6741677954382824,
          0.21088935390257268,
          0.7128959753588731,
          -0.06931421675504554,
          -0.7734045478681795,
          0.9061116425811788,
          -1.487623612070424,
          -1.1941253973621777,
          -0.19766259866280933,
          0.5885387349763519,
          -1.0517594833630677,
          -0.7683425838784504,
          0.014445478562674266,
          1.2216261703482978,
          -0.20534585100665284,
          1.415098250306173,
          -0.1491169696090909,
          -0.614283518168431,
          -0.7386557785532892,
          -0.056185788089091235,
          0.4017173122742185,
          -0.5801288239007595,
          -0.8477319785248107,
          1.4158942239016827,
          -0.6109815376975435,
          0.2738626815025972,
          -0.944465337591968,
          -0.8366049821839697,
          -0.29247295057917744,
          -1.3226071291017902,
          1.260530728804452,
          -0.7189292664840081,
          1.2283137463431295,
          -0.0737162142239585,
          -0.02210796807349362,
          -0.47965936497195577,
          -1.0216203824792018,
          0.6709260124242523,
          -0.7151478145328073,
          -0.11092121368668109,
          -0.5488385076239497,
          0.783334544578591,
          -0.48804913757835194,
          -0.004260614823700484,
          -0.8153423347386864,
          -1.6216798167777313,
          -0.19357316780082506,
          0.1158648966608458,
          1.6689648976270837,
          -0.11643431605672343,
          -0.3793542165192267,
          -0.759186601330592,
          0.0025237868917469294,
          -0.05381056618601836,
          -1.5477257888158007,
          1.2313097156573667,
          0.04770856714093939,
          -1.0304606066674062,
          0.9280435655983689,
          -0.24802649959044734,
          1.3227688564620625,
          -1.04666122330276,
          -0.16122044275378997,
          -0.9335195257803409,
          0.21878537537282614,
          0.36802264215632535,
          -1.518686015441249,
          0.38818208085085765,
          1.4966293523161842,
          0.49155497889877986,
          -1.2479931346190436,
          -1.4569001949192242,
          1.336730711972496,
          -0.4024284951962061,
          -1.0775366972698353,
          -0.14846019484100034,
          -0.5462165297811243,
          0.21032576323119548,
          -0.5426454568926761,
          -0.20614561329944517,
          0.8711720653113084,
          -0.14697196098256418,
          4.808995047774186,
          0.20082876427490093,
          -1.1673658406899847,
          0.9724364592192248,
          0.3046255196569007,
          -1.602190154241696,
          -0.6752476892377924,
          -1.254683128239185,
          0.7622666175628092,
          0.05333615199085579,
          -0.11580076914860442,
          2.5744709903730603,
          0.43422730450178454,
          0.8250127217455608,
          0.6191385494987072,
          -1.4512888032124398,
          -0.6664760805862301,
          -0.7675590147287902,
          0.2500596731415377,
          0.6979042068746295,
          0.7250123874593019,
          -0.027568648050025433,
          -0.45609106375497493,
          -0.5150848596622675,
          0.2359379857518817,
          -1.3247366340738957,
          0.5124410318966371,
          -0.12257115569720331,
          -0.043981523343635726,
          -0.6864814438529565,
          0.886111411402042,
          -1.5513041066432387,
          -0.4584781598186878,
          -1.6936265464529807,
          -0.6269551144373323,
          -0.8704905840340804,
          0.4759334522037008,
          -0.6631747540169372,
          -0.970453465071369,
          0.28402087097829987,
          -0.3438409719219625,
          -1.153904291765972,
          -1.031312791353709,
          -0.3557283095524922,
          -0.47923086298469647,
          0.48025452223427584,
          0.3159110071768647,
          0.30869103317020224,
          -1.2659893413551064,
          -0.04479651405470654,
          0.39220412017479134,
          -1.3808451670300157,
          -1.2708688968170299,
          -0.7921347332382709,
          -0.7542326738806092,
          0.3611015438774741,
          -1.2305274427793824,
          0.11497648272416469,
          -1.8502596376304632,
          0.06978525653484421,
          1.1867536134380843,
          -0.9763457265875289,
          -1.091533503765224,
          0.35707294910326165,
          2.1072308154768313,
          0.6387360465201848,
          0.058417498186236254,
          -1.0346309649677288,
          -0.7013012405011099,
          0.09998322575234823,
          -2.1730739630698115,
          0.013137620353027159,
          0.8498537412851126,
          -1.1601362289904686,
          0.42842763830562686,
          -1.1606836265187135,
          0.11829465633818438,
          0.29336853718176437,
          -0.5122934746820433,
          -3.0060388759477923,
          -0.4441151955675879,
          -0.9402005711963398
         ],
         "y": [
          0.40938459211239786,
          -0.22154766962168673,
          -0.9584728812797579,
          -0.6007248797411072,
          1.0661668921206873,
          0.14631361146490196,
          -1.1435558289146737,
          1.68796601235511,
          0.12989779648127478,
          3.7245823878708824,
          1.9678641342183556,
          -0.20845180202716296,
          -1.614825931331234,
          -0.14597230616444587,
          1.3168894945202323,
          -1.7567953002881203,
          0.2759772720374767,
          -1.4103111953727088,
          -0.1272545865926612,
          -1.7456842954622775,
          0.2390715037314362,
          0.5217587402476628,
          0.24143321290428854,
          0.6606943884792627,
          0.4399311514181095,
          -0.6535679495233643,
          -0.07735284286215556,
          0.3384271065429991,
          0.06302949732047497,
          -0.32254760273548394,
          0.7101443093113498,
          1.7513660014667392,
          0.3028306271632832,
          0.1520247471267658,
          -0.7490484024428459,
          0.3445564529862387,
          0.012417087342731295,
          0.8871512014995954,
          0.5928706528000705,
          1.0790327279042782,
          0.28623334833778485,
          -1.2282475885995336,
          -0.6346761187207861,
          -0.33881830991883904,
          -0.7304257297367158,
          0.35457310550350485,
          -0.2307906884626834,
          1.5656376357278468,
          -0.01246760911672262,
          1.1093761306116394,
          -0.9062250890749646,
          1.4109973821636224,
          1.4915686661409417,
          0.9617851165861964,
          0.15324645985031055,
          2.6192643349199227,
          0.09558875145828494,
          -0.7224342918851633,
          0.24714287078350552,
          0.0871636243840793,
          0.8273943936066327,
          -0.3254694393076152,
          -0.3109447416702733,
          0.7365078320562298,
          -0.31090764125254466,
          -1.0198342805251912,
          -0.8121358935271744,
          0.1530268995299714,
          -0.04878895017047181,
          2.386773934609274,
          0.506056787107157,
          -1.5736656518147039,
          0.08650296129815593,
          -1.0826616193615581,
          0.07833063033194558,
          -0.8097118302428975,
          0.5822673618597896,
          -0.6756056164842522,
          0.2256813711253767,
          0.4115520900900538,
          0.5560981619574848,
          0.012294386762391203,
          -0.32830469182915245,
          -0.4357489272077826,
          0.29939658003678604,
          0.9610234895861317,
          -1.0416144474302365,
          0.30438082069766537,
          -0.7530550998446056,
          -0.9298646951962042,
          -0.17583994993888405,
          0.16078995564944973,
          -0.3638965113742402,
          -0.478811752412027,
          0.43848346002584887,
          -0.5765467239676391,
          -0.07180298598100751,
          0.028935608334816204,
          0.5246236541263944,
          -0.41950640359897484,
          0.2860159389096745,
          0.1967197027084182,
          -0.8724337084963191,
          -0.8354048346043982,
          0.5198687174359318,
          3.767923129262448,
          -0.17025148325501951,
          -0.809774184354322,
          0.3080079046098876,
          5.260718123058533,
          0.7430571317455003,
          -0.531963997962253,
          -0.281574385553228,
          1.0007381139128824,
          0.5547704331066903,
          -1.079699258596182,
          -0.06115749829666996,
          3.2757534990637236,
          -0.567728904983608,
          0.5911020129094879,
          -0.4904065298670935,
          -0.9143799023550477,
          -0.5013781843042155,
          -1.382070157305672,
          0.13522350398748342,
          -0.5652014203612358,
          0.07457618600475507,
          0.164789561593251,
          -0.14708948054338794,
          0.025037945946463032,
          -0.460346771545273,
          1.10706911603707,
          -0.2501230222571405,
          0.3198691879692834,
          -0.04953982799120996,
          0.15359804042024602,
          -0.9069929426976099,
          0.6794578667146867,
          -0.4645275801778263,
          -0.8489906561883016,
          0.2200262480591099,
          0.43873533389550157,
          0.3278805435279527,
          -0.39000325564893634,
          0.9990468114760305,
          -0.3940566464635567,
          -0.8172737659665066,
          -0.29397210940615937,
          -0.03500701818375209,
          -0.48260221175277956,
          0.2993386651912007,
          -0.294428620699178,
          -1.0795628923327274,
          -0.2879758772605505,
          -0.2893917695769514,
          -0.631659430051165,
          0.0032426039733152107,
          -0.35019390625848307,
          0.0921537820934451,
          0.8345505715110073,
          -0.16080809396028475,
          -1.3338873565531397,
          1.6289205636188901,
          -2.0985763389933614,
          0.2766640794530973,
          -0.2984344532655599,
          -0.7805048495543826,
          -1.6423843493603798,
          0.05655730271372921,
          0.4676316036304362,
          -0.18276661696413668,
          0.2596115179884668,
          -0.7480111572644206,
          -1.1022778752302884,
          0.11202050396302389,
          0.5429091497472944,
          -1.5144155656551177,
          -1.544361224239545,
          -0.018094130058999507,
          -0.18155312484559788,
          -0.16250951925213034,
          -0.5828994698436871,
          -0.0018741763494280223,
          0.18186173739182376,
          -0.5649519465125725,
          1.188236393556313,
          -1.435518570117422,
          1.1767160237477643,
          -0.6360102362293164,
          -0.3214882732882841,
          1.3212974405615443,
          0.5482516596099928,
          -0.4513745255782335,
          -0.8691050511727394,
          -1.5304429682094265,
          -0.026994530435666336,
          -0.26778597896437245,
          -0.1032419154064168,
          -0.07928856693456154,
          0.0582746530158082,
          -2.008163320791643,
          0.703205655524833,
          -0.3823964835000298,
          0.07586382727018622,
          0.20558891971584276,
          0.6704870985302941,
          -0.8600641682179355,
          -0.48537511016289214,
          0.09243125725936942,
          -0.2567507417619394,
          1.2594153314349834,
          -1.460381366744853,
          2.345904348716187,
          -0.28481945595492325,
          0.17063910276341973,
          -0.38237539138344095,
          1.0012977556816998,
          0.9572394285108128,
          0.081074353015325,
          0.8058257034117827,
          0.2961005561713082,
          -0.7074939657447219,
          0.5198175847572314,
          -1.7188925566463047,
          2.1029308716913317,
          0.2948548500102947,
          -0.8241831222143368,
          -1.3746680225801322,
          0.835637762447782,
          0.2731263588173754,
          -1.8272697510298874,
          -0.7051560008805777,
          -0.621052552169544,
          0.46183047331602584,
          0.14093131739001505,
          1.57281490574881,
          0.028118175647859397,
          -0.7924335392383117,
          -0.06763143536807031,
          -0.19966109372439123,
          2.7825021093462476,
          -0.12736363411694654,
          -0.5663361124263052,
          -0.2640245938341691,
          -0.041570360751708405,
          0.14459109405646722,
          0.2622340494764937,
          0.1272548882062963,
          -0.15425725908540308,
          -0.5496717910947819,
          0.9780428152631063,
          -0.5473549183472267,
          -0.19243648574095748,
          -0.08209112670186859,
          -0.24111014061959762,
          0.4160682188202735,
          0.4773363582737717,
          -0.25174540898447106,
          -0.7702615452588184,
          0.060157377460875926,
          -0.8255049340166448,
          0.04568251105897503,
          -0.5872073867200794,
          -0.4827385780162345,
          -1.1997776257669976,
          0.5777458591145093,
          -0.021832664558865275,
          -1.2850430278793055,
          -0.0183646960242517,
          -0.9089426674286465,
          -0.2359274317549683,
          -0.6861783238289962,
          -0.3788142360131048,
          -1.2709397487597627,
          -1.2434980826601298,
          1.1437563286858354,
          0.7167501577109366,
          -2.2326774792867123,
          -0.6534749419025595,
          1.6910917485490158,
          -0.19754734901521426,
          -1.5475237831624478,
          -0.1744574565759631,
          -0.04491810254936804,
          -0.24250968851013777,
          0.4997578261019278,
          0.18034385740675513,
          2.3112616682868827,
          0.020464916994797373,
          1.6171305828164404,
          -0.8099613040915606,
          -1.2964658606652362,
          0.8314895894495147,
          -0.9408310166891162,
          -1.089927387823644,
          -0.06535582461535072,
          4.15758821918042,
          -1.4945393523065915,
          1.084501733346567
         ],
         "z": [
          -0.5454014834817907,
          0.15843773945528233,
          -0.24672468167456338,
          1.0290193287096812,
          0.6406979967112573,
          -1.2703057083224594,
          -0.8916687537614001,
          -0.2424962446901928,
          -0.14064352315063536,
          4.188487664804654,
          0.8264700027098708,
          -0.44405002415361067,
          0.8231200690029701,
          0.39452941687742854,
          0.32944752519306414,
          -1.1975842655936888,
          -1.883586095538853,
          0.6029811538699738,
          -0.8192430960271699,
          1.239532933949635,
          -0.33844398566220185,
          -0.14585825553465237,
          -0.8210249717387825,
          0.01714807687721851,
          -0.5672117397401466,
          -0.7256531036022027,
          -2.286782665160673,
          -0.6655906802687716,
          3.234218281078947,
          -1.3482208736925096,
          -1.7242628606630765,
          -0.38983810319209583,
          0.3282078396273187,
          0.528362765018283,
          -0.5197189869136758,
          0.9747629961767635,
          -1.9749225556549563,
          -1.5796760935517364,
          0.653726913197831,
          1.141486672668412,
          -0.2941602985730625,
          0.5538448616923605,
          -0.6800821389289133,
          -0.9530399900754866,
          -0.0771424344136969,
          0.9749934757578246,
          0.20168899660631115,
          -0.6357771587382253,
          0.9236191260012709,
          -0.0749486316681571,
          -0.686596119525519,
          0.36786763727364813,
          3.760078323989546,
          -0.8808325683922867,
          0.6376493791929483,
          -1.7200508130357743,
          0.37406025741076704,
          -0.45379998007717276,
          0.4308859068618808,
          -0.7685581378907157,
          0.5629009251985849,
          1.2675561582399681,
          0.16349349498227347,
          0.6206186420703671,
          0.8335820420604407,
          1.1620773181831632,
          1.12112368125792,
          -0.9282780435043372,
          -0.6320543753446513,
          -0.06743290772614167,
          0.7289578067451139,
          -0.07990930554748708,
          -1.6861689168880192,
          -0.23970132079082315,
          -0.6092390488419775,
          -0.3793398246404704,
          -0.9984178845536148,
          1.015293830865326,
          -1.4388278270853643,
          -0.04040853987150654,
          -0.3186417778786621,
          -0.5022318991237401,
          0.8734557916819827,
          -0.8014849203340481,
          -0.1988962261546205,
          0.047816413180534256,
          0.1522380116490883,
          -0.718343082502789,
          0.5022974447802742,
          0.028740729905438533,
          -0.9315504729238315,
          -0.2256527086382576,
          1.0123448623216926,
          0.29718915500721615,
          -0.3567462418862733,
          -0.11935375405249737,
          -0.23226967710696064,
          -0.7059742722518352,
          -0.13117386321570865,
          -0.2704922349719499,
          -0.45615394785404917,
          -1.033949177377934,
          -1.269469528262041,
          0.8852825685250707,
          0.6338619936361631,
          -0.6700382132924425,
          0.29458527438156595,
          0.6385426951813394,
          -0.34022028552365946,
          0.5733295850916726,
          -1.584251098082729,
          0.2455172698322359,
          0.8023973112224623,
          -0.6218849849206581,
          -0.16146304111256274,
          -0.009736518103118643,
          -0.44566697774073494,
          -0.30841540826469693,
          -0.5709133253372655,
          -1.167658989807214,
          0.10621862461806753,
          -0.540373279298275,
          -0.33343091020600757,
          -0.23191564332510164,
          1.652948406950182,
          1.048569869795724,
          1.3402382599664902,
          -0.21916578428260317,
          -0.5279801429780797,
          1.8607279096838103,
          -0.04155463541674095,
          3.266569149455585,
          0.7189780110825009,
          -0.2544202768172219,
          -1.3189766919703305,
          -0.9789327531537446,
          -0.49914888669800084,
          0.04107195300286692,
          -0.27888168130067914,
          0.225715062048696,
          -1.3312524293884813,
          0.537930140427992,
          0.3098446254738424,
          -0.3466096200897461,
          -0.5420316420403564,
          0.1830402140668841,
          0.08979740997627435,
          -0.4342889165297387,
          -0.5163586552345968,
          -0.31136834740814534,
          0.0823180037615628,
          -0.4391876973879436,
          0.30827909542817705,
          0.5107574156900193,
          -0.6561786513643395,
          0.3058332914795133,
          0.5586481209137057,
          0.3891324074323978,
          -1.477915689404431,
          -0.18822127744492317,
          -0.47252644809646943,
          0.5986590856338251,
          -0.5539716199392929,
          0.4470702919715584,
          0.7161488801582938,
          -1.1868763704889005,
          0.029129286163486614,
          0.9082523274709247,
          -0.48411716950834066,
          -0.9919347821993919,
          0.668696378800204,
          0.16794385348274718,
          -0.7431968652457259,
          0.29261717392229364,
          -0.6379400832413823,
          -0.24726304981900027,
          -0.6582115317544478,
          0.5438402156252305,
          -0.25225366684899275,
          -0.12192118058561,
          0.8948808221771625,
          -0.12500545364109594,
          -0.37034836329745674,
          -0.1153885652766529,
          0.07161677633665132,
          0.024783838353681416,
          0.20099896742167098,
          0.510243887863426,
          -0.2436626551317476,
          0.8798782293811616,
          -0.698290961870475,
          -0.1057143799934153,
          0.18628176524399548,
          -0.8039174823445074,
          1.1133914954863655,
          -0.654846467607805,
          0.7785656178362516,
          -0.614128431848596,
          0.3498181808080614,
          0.33633907726388845,
          -0.4873287775347897,
          0.5699242860823265,
          -0.9029223467095024,
          1.4646791692086263,
          -1.4913556188628356,
          0.3599931470822094,
          0.8933902684692808,
          -1.7233512337879406,
          -0.1932024966233292,
          0.2793945252215568,
          -0.9262489851156607,
          0.26029160793788436,
          -1.1257289873072647,
          0.8957647613435914,
          -0.7107794630895291,
          -0.8005925596390192,
          -0.9525914311813962,
          5.618785092169819,
          -0.6203297878182996,
          -0.20175479692383877,
          -0.41790669461012475,
          -0.3999670607841182,
          0.8781636860044698,
          0.503255247425141,
          -0.21831101074109985,
          -0.8053837320683341,
          0.15580158530468816,
          0.10154923151120265,
          2.2527934852649634,
          -0.7674373447377093,
          0.4020340099776326,
          -0.6930427677872039,
          0.9208132315940537,
          0.44554021949380274,
          0.25511552348432764,
          -1.2845695743112504,
          -1.0800335131398155,
          -0.6185826123505014,
          -0.47709380862459927,
          0.2128193819212665,
          -0.7752284615172264,
          -0.29372717374267987,
          1.0567673377590132,
          -1.0567985743690855,
          0.6935178880181967,
          -0.005228225119310589,
          0.13107798321115946,
          0.515228792506904,
          0.9639383923186795,
          0.3922803685889983,
          -0.05759940079415843,
          -0.0031251254845704028,
          0.3276328808539859,
          -0.6827487313326919,
          0.15461947565611495,
          0.17604215557537076,
          -0.021244002639427884,
          -0.13772254405612863,
          0.5667838323922297,
          -0.018413464434147302,
          0.12306962690524058,
          -0.5163088693782697,
          -0.19819693565475321,
          -0.6293839609394413,
          -0.0682474297992636,
          0.2671295013980613,
          0.6546702269573853,
          0.5771394887951482,
          0.6223696395395968,
          1.0066188161506464,
          1.098770254934749,
          0.30860493990809723,
          -0.43762405772736107,
          0.7013409748698184,
          -0.1462347047990282,
          0.4345451386906999,
          -0.7448728863771721,
          -0.606655428917185,
          0.22629559667218382,
          0.21790326343374378,
          -0.7912742985227235,
          0.4669847244879606,
          2.79458289865921,
          -0.4374383280822229,
          0.2439939062656226,
          0.18716934864423063,
          0.2599113164704351,
          0.5601443870081017,
          -0.41255173548055446,
          -2.106615414976813,
          0.5976132688186024,
          0.1348579025327065,
          0.20512617038266867,
          -0.4086420754987983,
          -0.25515058209583147,
          0.24771300419412456,
          0.31667883346894754,
          1.024890194132335,
          0.7251403415013071
         ]
        }
       ],
       "layout": {
        "template": {
         "data": {
          "bar": [
           {
            "error_x": {
             "color": "#2a3f5f"
            },
            "error_y": {
             "color": "#2a3f5f"
            },
            "marker": {
             "line": {
              "color": "#E5ECF6",
              "width": 0.5
             },
             "pattern": {
              "fillmode": "overlay",
              "size": 10,
              "solidity": 0.2
             }
            },
            "type": "bar"
           }
          ],
          "barpolar": [
           {
            "marker": {
             "line": {
              "color": "#E5ECF6",
              "width": 0.5
             },
             "pattern": {
              "fillmode": "overlay",
              "size": 10,
              "solidity": 0.2
             }
            },
            "type": "barpolar"
           }
          ],
          "carpet": [
           {
            "aaxis": {
             "endlinecolor": "#2a3f5f",
             "gridcolor": "white",
             "linecolor": "white",
             "minorgridcolor": "white",
             "startlinecolor": "#2a3f5f"
            },
            "baxis": {
             "endlinecolor": "#2a3f5f",
             "gridcolor": "white",
             "linecolor": "white",
             "minorgridcolor": "white",
             "startlinecolor": "#2a3f5f"
            },
            "type": "carpet"
           }
          ],
          "choropleth": [
           {
            "colorbar": {
             "outlinewidth": 0,
             "ticks": ""
            },
            "type": "choropleth"
           }
          ],
          "contour": [
           {
            "colorbar": {
             "outlinewidth": 0,
             "ticks": ""
            },
            "colorscale": [
             [
              0,
              "#0d0887"
             ],
             [
              0.1111111111111111,
              "#46039f"
             ],
             [
              0.2222222222222222,
              "#7201a8"
             ],
             [
              0.3333333333333333,
              "#9c179e"
             ],
             [
              0.4444444444444444,
              "#bd3786"
             ],
             [
              0.5555555555555556,
              "#d8576b"
             ],
             [
              0.6666666666666666,
              "#ed7953"
             ],
             [
              0.7777777777777778,
              "#fb9f3a"
             ],
             [
              0.8888888888888888,
              "#fdca26"
             ],
             [
              1,
              "#f0f921"
             ]
            ],
            "type": "contour"
           }
          ],
          "contourcarpet": [
           {
            "colorbar": {
             "outlinewidth": 0,
             "ticks": ""
            },
            "type": "contourcarpet"
           }
          ],
          "heatmap": [
           {
            "colorbar": {
             "outlinewidth": 0,
             "ticks": ""
            },
            "colorscale": [
             [
              0,
              "#0d0887"
             ],
             [
              0.1111111111111111,
              "#46039f"
             ],
             [
              0.2222222222222222,
              "#7201a8"
             ],
             [
              0.3333333333333333,
              "#9c179e"
             ],
             [
              0.4444444444444444,
              "#bd3786"
             ],
             [
              0.5555555555555556,
              "#d8576b"
             ],
             [
              0.6666666666666666,
              "#ed7953"
             ],
             [
              0.7777777777777778,
              "#fb9f3a"
             ],
             [
              0.8888888888888888,
              "#fdca26"
             ],
             [
              1,
              "#f0f921"
             ]
            ],
            "type": "heatmap"
           }
          ],
          "heatmapgl": [
           {
            "colorbar": {
             "outlinewidth": 0,
             "ticks": ""
            },
            "colorscale": [
             [
              0,
              "#0d0887"
             ],
             [
              0.1111111111111111,
              "#46039f"
             ],
             [
              0.2222222222222222,
              "#7201a8"
             ],
             [
              0.3333333333333333,
              "#9c179e"
             ],
             [
              0.4444444444444444,
              "#bd3786"
             ],
             [
              0.5555555555555556,
              "#d8576b"
             ],
             [
              0.6666666666666666,
              "#ed7953"
             ],
             [
              0.7777777777777778,
              "#fb9f3a"
             ],
             [
              0.8888888888888888,
              "#fdca26"
             ],
             [
              1,
              "#f0f921"
             ]
            ],
            "type": "heatmapgl"
           }
          ],
          "histogram": [
           {
            "marker": {
             "pattern": {
              "fillmode": "overlay",
              "size": 10,
              "solidity": 0.2
             }
            },
            "type": "histogram"
           }
          ],
          "histogram2d": [
           {
            "colorbar": {
             "outlinewidth": 0,
             "ticks": ""
            },
            "colorscale": [
             [
              0,
              "#0d0887"
             ],
             [
              0.1111111111111111,
              "#46039f"
             ],
             [
              0.2222222222222222,
              "#7201a8"
             ],
             [
              0.3333333333333333,
              "#9c179e"
             ],
             [
              0.4444444444444444,
              "#bd3786"
             ],
             [
              0.5555555555555556,
              "#d8576b"
             ],
             [
              0.6666666666666666,
              "#ed7953"
             ],
             [
              0.7777777777777778,
              "#fb9f3a"
             ],
             [
              0.8888888888888888,
              "#fdca26"
             ],
             [
              1,
              "#f0f921"
             ]
            ],
            "type": "histogram2d"
           }
          ],
          "histogram2dcontour": [
           {
            "colorbar": {
             "outlinewidth": 0,
             "ticks": ""
            },
            "colorscale": [
             [
              0,
              "#0d0887"
             ],
             [
              0.1111111111111111,
              "#46039f"
             ],
             [
              0.2222222222222222,
              "#7201a8"
             ],
             [
              0.3333333333333333,
              "#9c179e"
             ],
             [
              0.4444444444444444,
              "#bd3786"
             ],
             [
              0.5555555555555556,
              "#d8576b"
             ],
             [
              0.6666666666666666,
              "#ed7953"
             ],
             [
              0.7777777777777778,
              "#fb9f3a"
             ],
             [
              0.8888888888888888,
              "#fdca26"
             ],
             [
              1,
              "#f0f921"
             ]
            ],
            "type": "histogram2dcontour"
           }
          ],
          "mesh3d": [
           {
            "colorbar": {
             "outlinewidth": 0,
             "ticks": ""
            },
            "type": "mesh3d"
           }
          ],
          "parcoords": [
           {
            "line": {
             "colorbar": {
              "outlinewidth": 0,
              "ticks": ""
             }
            },
            "type": "parcoords"
           }
          ],
          "pie": [
           {
            "automargin": true,
            "type": "pie"
           }
          ],
          "scatter": [
           {
            "marker": {
             "colorbar": {
              "outlinewidth": 0,
              "ticks": ""
             }
            },
            "type": "scatter"
           }
          ],
          "scatter3d": [
           {
            "line": {
             "colorbar": {
              "outlinewidth": 0,
              "ticks": ""
             }
            },
            "marker": {
             "colorbar": {
              "outlinewidth": 0,
              "ticks": ""
             }
            },
            "type": "scatter3d"
           }
          ],
          "scattercarpet": [
           {
            "marker": {
             "colorbar": {
              "outlinewidth": 0,
              "ticks": ""
             }
            },
            "type": "scattercarpet"
           }
          ],
          "scattergeo": [
           {
            "marker": {
             "colorbar": {
              "outlinewidth": 0,
              "ticks": ""
             }
            },
            "type": "scattergeo"
           }
          ],
          "scattergl": [
           {
            "marker": {
             "colorbar": {
              "outlinewidth": 0,
              "ticks": ""
             }
            },
            "type": "scattergl"
           }
          ],
          "scattermapbox": [
           {
            "marker": {
             "colorbar": {
              "outlinewidth": 0,
              "ticks": ""
             }
            },
            "type": "scattermapbox"
           }
          ],
          "scatterpolar": [
           {
            "marker": {
             "colorbar": {
              "outlinewidth": 0,
              "ticks": ""
             }
            },
            "type": "scatterpolar"
           }
          ],
          "scatterpolargl": [
           {
            "marker": {
             "colorbar": {
              "outlinewidth": 0,
              "ticks": ""
             }
            },
            "type": "scatterpolargl"
           }
          ],
          "scatterternary": [
           {
            "marker": {
             "colorbar": {
              "outlinewidth": 0,
              "ticks": ""
             }
            },
            "type": "scatterternary"
           }
          ],
          "surface": [
           {
            "colorbar": {
             "outlinewidth": 0,
             "ticks": ""
            },
            "colorscale": [
             [
              0,
              "#0d0887"
             ],
             [
              0.1111111111111111,
              "#46039f"
             ],
             [
              0.2222222222222222,
              "#7201a8"
             ],
             [
              0.3333333333333333,
              "#9c179e"
             ],
             [
              0.4444444444444444,
              "#bd3786"
             ],
             [
              0.5555555555555556,
              "#d8576b"
             ],
             [
              0.6666666666666666,
              "#ed7953"
             ],
             [
              0.7777777777777778,
              "#fb9f3a"
             ],
             [
              0.8888888888888888,
              "#fdca26"
             ],
             [
              1,
              "#f0f921"
             ]
            ],
            "type": "surface"
           }
          ],
          "table": [
           {
            "cells": {
             "fill": {
              "color": "#EBF0F8"
             },
             "line": {
              "color": "white"
             }
            },
            "header": {
             "fill": {
              "color": "#C8D4E3"
             },
             "line": {
              "color": "white"
             }
            },
            "type": "table"
           }
          ]
         },
         "layout": {
          "annotationdefaults": {
           "arrowcolor": "#2a3f5f",
           "arrowhead": 0,
           "arrowwidth": 1
          },
          "autotypenumbers": "strict",
          "coloraxis": {
           "colorbar": {
            "outlinewidth": 0,
            "ticks": ""
           }
          },
          "colorscale": {
           "diverging": [
            [
             0,
             "#8e0152"
            ],
            [
             0.1,
             "#c51b7d"
            ],
            [
             0.2,
             "#de77ae"
            ],
            [
             0.3,
             "#f1b6da"
            ],
            [
             0.4,
             "#fde0ef"
            ],
            [
             0.5,
             "#f7f7f7"
            ],
            [
             0.6,
             "#e6f5d0"
            ],
            [
             0.7,
             "#b8e186"
            ],
            [
             0.8,
             "#7fbc41"
            ],
            [
             0.9,
             "#4d9221"
            ],
            [
             1,
             "#276419"
            ]
           ],
           "sequential": [
            [
             0,
             "#0d0887"
            ],
            [
             0.1111111111111111,
             "#46039f"
            ],
            [
             0.2222222222222222,
             "#7201a8"
            ],
            [
             0.3333333333333333,
             "#9c179e"
            ],
            [
             0.4444444444444444,
             "#bd3786"
            ],
            [
             0.5555555555555556,
             "#d8576b"
            ],
            [
             0.6666666666666666,
             "#ed7953"
            ],
            [
             0.7777777777777778,
             "#fb9f3a"
            ],
            [
             0.8888888888888888,
             "#fdca26"
            ],
            [
             1,
             "#f0f921"
            ]
           ],
           "sequentialminus": [
            [
             0,
             "#0d0887"
            ],
            [
             0.1111111111111111,
             "#46039f"
            ],
            [
             0.2222222222222222,
             "#7201a8"
            ],
            [
             0.3333333333333333,
             "#9c179e"
            ],
            [
             0.4444444444444444,
             "#bd3786"
            ],
            [
             0.5555555555555556,
             "#d8576b"
            ],
            [
             0.6666666666666666,
             "#ed7953"
            ],
            [
             0.7777777777777778,
             "#fb9f3a"
            ],
            [
             0.8888888888888888,
             "#fdca26"
            ],
            [
             1,
             "#f0f921"
            ]
           ]
          },
          "colorway": [
           "#636efa",
           "#EF553B",
           "#00cc96",
           "#ab63fa",
           "#FFA15A",
           "#19d3f3",
           "#FF6692",
           "#B6E880",
           "#FF97FF",
           "#FECB52"
          ],
          "font": {
           "color": "#2a3f5f"
          },
          "geo": {
           "bgcolor": "white",
           "lakecolor": "white",
           "landcolor": "#E5ECF6",
           "showlakes": true,
           "showland": true,
           "subunitcolor": "white"
          },
          "hoverlabel": {
           "align": "left"
          },
          "hovermode": "closest",
          "mapbox": {
           "style": "light"
          },
          "paper_bgcolor": "white",
          "plot_bgcolor": "#E5ECF6",
          "polar": {
           "angularaxis": {
            "gridcolor": "white",
            "linecolor": "white",
            "ticks": ""
           },
           "bgcolor": "#E5ECF6",
           "radialaxis": {
            "gridcolor": "white",
            "linecolor": "white",
            "ticks": ""
           }
          },
          "scene": {
           "xaxis": {
            "backgroundcolor": "#E5ECF6",
            "gridcolor": "white",
            "gridwidth": 2,
            "linecolor": "white",
            "showbackground": true,
            "ticks": "",
            "zerolinecolor": "white"
           },
           "yaxis": {
            "backgroundcolor": "#E5ECF6",
            "gridcolor": "white",
            "gridwidth": 2,
            "linecolor": "white",
            "showbackground": true,
            "ticks": "",
            "zerolinecolor": "white"
           },
           "zaxis": {
            "backgroundcolor": "#E5ECF6",
            "gridcolor": "white",
            "gridwidth": 2,
            "linecolor": "white",
            "showbackground": true,
            "ticks": "",
            "zerolinecolor": "white"
           }
          },
          "shapedefaults": {
           "line": {
            "color": "#2a3f5f"
           }
          },
          "ternary": {
           "aaxis": {
            "gridcolor": "white",
            "linecolor": "white",
            "ticks": ""
           },
           "baxis": {
            "gridcolor": "white",
            "linecolor": "white",
            "ticks": ""
           },
           "bgcolor": "#E5ECF6",
           "caxis": {
            "gridcolor": "white",
            "linecolor": "white",
            "ticks": ""
           }
          },
          "title": {
           "x": 0.05
          },
          "xaxis": {
           "automargin": true,
           "gridcolor": "white",
           "linecolor": "white",
           "ticks": "",
           "title": {
            "standoff": 15
           },
           "zerolinecolor": "white",
           "zerolinewidth": 2
          },
          "yaxis": {
           "automargin": true,
           "gridcolor": "white",
           "linecolor": "white",
           "ticks": "",
           "title": {
            "standoff": 15
           },
           "zerolinecolor": "white",
           "zerolinewidth": 2
          }
         }
        }
       }
      },
      "text/html": [
       "<div>                            <div id=\"4f94b70e-6b20-4ada-9d09-a708ac5942fb\" class=\"plotly-graph-div\" style=\"height:525px; width:100%;\"></div>            <script type=\"text/javascript\">                require([\"plotly\"], function(Plotly) {                    window.PLOTLYENV=window.PLOTLYENV || {};                                    if (document.getElementById(\"4f94b70e-6b20-4ada-9d09-a708ac5942fb\")) {                    Plotly.newPlot(                        \"4f94b70e-6b20-4ada-9d09-a708ac5942fb\",                        [{\"marker\":{\"color\":[-1,0,1,-1,-1,-1,-1,-1,2,-1,-1,3,0,3,-1,-1,4,0,-1,-1,-1,-1,3,0,-1,-1,-1,3,-1,4,-1,-1,7,-1,3,-1,4,-1,-1,-1,-1,-1,3,3,2,-1,3,-1,-1,-1,3,-1,-1,-1,-1,-1,-1,0,3,3,-1,-1,0,0,-1,-1,-1,0,2,-1,-1,1,4,1,0,0,-1,0,-1,5,-1,0,-1,-1,5,0,3,3,-1,3,0,0,-1,0,5,3,3,2,5,2,0,3,-1,0,-1,-1,0,0,0,-1,-1,0,0,-1,-1,2,5,-1,6,-1,-1,6,2,-1,-1,-1,-1,2,3,-1,3,-1,7,3,4,0,2,-1,2,3,4,-1,-1,6,-1,0,0,0,-1,3,-1,3,-1,0,6,0,-1,0,4,-1,3,0,-1,-1,-1,-1,0,-1,2,-1,0,0,3,0,3,0,-1,-1,0,0,0,0,0,-1,0,-1,-1,-1,6,-1,-1,2,0,1,-1,-1,7,2,7,0,-1,-1,3,-1,4,-1,-1,-1,2,7,-1,-1,-1,7,3,3,-1,-1,0,-1,-1,1,-1,0,-1,-1,0,3,-1,2,-1,1,0,0,0,-1,3,1,2,0,-1,0,0,-1,0,0,0,-1,0,2,-1,2,3,-1,3,-1,2,3,0,0,0,2,1,2,1,0,0,1,-1,0,-1,2,2,0,1,-1,-1,-1,2,-1,0,-1,-1,0,0,0,0,-1,2,-1,-1,1,0,1,3,2,-1,0,-1],\"colorscale\":[[0.0,\"#440154\"],[0.1111111111111111,\"#482878\"],[0.2222222222222222,\"#3e4989\"],[0.3333333333333333,\"#31688e\"],[0.4444444444444444,\"#26828e\"],[0.5555555555555556,\"#1f9e89\"],[0.6666666666666666,\"#35b779\"],[0.7777777777777778,\"#6ece58\"],[0.8888888888888888,\"#b5de2b\"],[1.0,\"#fde725\"]],\"size\":5},\"mode\":\"markers\",\"x\":[1.1437660661244295,-0.5067119314103931,0.5447716978389733,-0.09365695270562989,0.7996378948448826,2.334550959397144,1.1708684902576871,-0.9008905186200755,0.26624195863011524,5.7354101513570885,2.1069331254702903,-0.18106528465258304,-0.619744198144963,-0.8143141250300288,-1.515404760566319,1.9137201981534184,1.1799708264134439,-0.9160668353310861,0.3458314702825465,0.18466425580289406,0.11465231067024922,0.22993449594325038,0.030219112931425575,-1.1810254737410513,1.0600216151873947,1.81826991582348,1.9041973683611384,0.4140984010408907,3.028553217782066,1.3073227578447801,2.1790474092541987,2.0478610637530275,-1.0755120370847504,-0.9084521985238853,0.28248745966534317,1.9286096865493332,1.540579000035673,0.7258025120592413,0.3873446008201143,0.6998018081891634,0.8227367782222894,-0.35969094603290674,0.7022537819500322,0.571583676904676,-0.02321907297462281,-0.4486382309666538,-0.8666042872958589,-1.186782355236552,3.4519594929808273,-0.9695463557275413,0.5301221697617569,-1.0043003354070872,3.3373097260032183,-0.058847186935020564,0.4562792775481451,1.6216985566133013,1.4966630168678705,-0.3724154992051992,-1.023469017641932,0.6336186704385237,-1.5648335816151822,0.11270777892464062,-0.47349267689634233,-1.566923665584184,-1.066500371184813,1.4272662858012506,-0.981346319979605,0.35295501319644973,0.4276958020607658,-0.3090523361183155,-1.8804796659526675,0.03806927014865337,1.1976674679329844,0.5909192640129054,0.33836685571688696,-0.2665416612446043,-0.06470572146481644,-1.0845380334983137,0.25728033663691113,-0.8739724707687592,0.5701353985592245,0.2220642517609796,0.855546485429965,1.6366743421765635,-0.5065487331434103,-1.4922203299688381,-0.16611869362286003,-0.2558429922559885,-1.2609537969780744,-0.08149130996441609,0.20212227770383573,-0.4068459963195402,-1.2360392000638014,0.34492030775245464,-0.8416352493761451,-0.22314733731321446,0.1250021838015578,0.3253717768827813,-0.3802806255669673,0.050474810773889336,-0.06455500973456402,0.6940069433203355,1.312061239269304,-1.1720422620281452,0.4293503137385527,-0.46133816033555486,-0.3788888228012903,-1.0657795177184286,-0.19887977234955123,-3.0277583557901284,1.1005814317670835,-0.3179214599792042,-0.43257734328307595,0.11114191889074262,-0.3704988755598605,-0.09302665998491377,-0.5298198476306464,1.6073108760146577,0.12068430552370837,1.6618248398616335,0.23820728649596368,0.38601565713966307,-0.36537900357582315,0.1079053622037719,1.5855933096596238,-1.010028883802588,-0.4351358650961181,-0.7023533675584498,-0.41382777570733337,0.9646763274080647,-0.802034689297652,2.9870755174960153,-0.9901482803430971,-0.02054014028546194,1.1281104017103454,0.6741677954382824,0.21088935390257268,0.7128959753588731,-0.06931421675504554,-0.7734045478681795,0.9061116425811788,-1.487623612070424,-1.1941253973621777,-0.19766259866280933,0.5885387349763519,-1.0517594833630677,-0.7683425838784504,0.014445478562674266,1.2216261703482978,-0.20534585100665284,1.415098250306173,-0.1491169696090909,-0.614283518168431,-0.7386557785532892,-0.056185788089091235,0.4017173122742185,-0.5801288239007595,-0.8477319785248107,1.4158942239016827,-0.6109815376975435,0.2738626815025972,-0.944465337591968,-0.8366049821839697,-0.29247295057917744,-1.3226071291017902,1.260530728804452,-0.7189292664840081,1.2283137463431295,-0.0737162142239585,-0.02210796807349362,-0.47965936497195577,-1.0216203824792018,0.6709260124242523,-0.7151478145328073,-0.11092121368668109,-0.5488385076239497,0.783334544578591,-0.48804913757835194,-0.004260614823700484,-0.8153423347386864,-1.6216798167777313,-0.19357316780082506,0.1158648966608458,1.6689648976270837,-0.11643431605672343,-0.3793542165192267,-0.759186601330592,0.0025237868917469294,-0.05381056618601836,-1.5477257888158007,1.2313097156573667,0.04770856714093939,-1.0304606066674062,0.9280435655983689,-0.24802649959044734,1.3227688564620625,-1.04666122330276,-0.16122044275378997,-0.9335195257803409,0.21878537537282614,0.36802264215632535,-1.518686015441249,0.38818208085085765,1.4966293523161842,0.49155497889877986,-1.2479931346190436,-1.4569001949192242,1.336730711972496,-0.4024284951962061,-1.0775366972698353,-0.14846019484100034,-0.5462165297811243,0.21032576323119548,-0.5426454568926761,-0.20614561329944517,0.8711720653113084,-0.14697196098256418,4.808995047774186,0.20082876427490093,-1.1673658406899847,0.9724364592192248,0.3046255196569007,-1.602190154241696,-0.6752476892377924,-1.254683128239185,0.7622666175628092,0.05333615199085579,-0.11580076914860442,2.5744709903730603,0.43422730450178454,0.8250127217455608,0.6191385494987072,-1.4512888032124398,-0.6664760805862301,-0.7675590147287902,0.2500596731415377,0.6979042068746295,0.7250123874593019,-0.027568648050025433,-0.45609106375497493,-0.5150848596622675,0.2359379857518817,-1.3247366340738957,0.5124410318966371,-0.12257115569720331,-0.043981523343635726,-0.6864814438529565,0.886111411402042,-1.5513041066432387,-0.4584781598186878,-1.6936265464529807,-0.6269551144373323,-0.8704905840340804,0.4759334522037008,-0.6631747540169372,-0.970453465071369,0.28402087097829987,-0.3438409719219625,-1.153904291765972,-1.031312791353709,-0.3557283095524922,-0.47923086298469647,0.48025452223427584,0.3159110071768647,0.30869103317020224,-1.2659893413551064,-0.04479651405470654,0.39220412017479134,-1.3808451670300157,-1.2708688968170299,-0.7921347332382709,-0.7542326738806092,0.3611015438774741,-1.2305274427793824,0.11497648272416469,-1.8502596376304632,0.06978525653484421,1.1867536134380843,-0.9763457265875289,-1.091533503765224,0.35707294910326165,2.1072308154768313,0.6387360465201848,0.058417498186236254,-1.0346309649677288,-0.7013012405011099,0.09998322575234823,-2.1730739630698115,0.013137620353027159,0.8498537412851126,-1.1601362289904686,0.42842763830562686,-1.1606836265187135,0.11829465633818438,0.29336853718176437,-0.5122934746820433,-3.0060388759477923,-0.4441151955675879,-0.9402005711963398],\"y\":[0.40938459211239786,-0.22154766962168673,-0.9584728812797579,-0.6007248797411072,1.0661668921206873,0.14631361146490196,-1.1435558289146737,1.68796601235511,0.12989779648127478,3.7245823878708824,1.9678641342183556,-0.20845180202716296,-1.614825931331234,-0.14597230616444587,1.3168894945202323,-1.7567953002881203,0.2759772720374767,-1.4103111953727088,-0.1272545865926612,-1.7456842954622775,0.2390715037314362,0.5217587402476628,0.24143321290428854,0.6606943884792627,0.4399311514181095,-0.6535679495233643,-0.07735284286215556,0.3384271065429991,0.06302949732047497,-0.32254760273548394,0.7101443093113498,1.7513660014667392,0.3028306271632832,0.1520247471267658,-0.7490484024428459,0.3445564529862387,0.012417087342731295,0.8871512014995954,0.5928706528000705,1.0790327279042782,0.28623334833778485,-1.2282475885995336,-0.6346761187207861,-0.33881830991883904,-0.7304257297367158,0.35457310550350485,-0.2307906884626834,1.5656376357278468,-0.01246760911672262,1.1093761306116394,-0.9062250890749646,1.4109973821636224,1.4915686661409417,0.9617851165861964,0.15324645985031055,2.6192643349199227,0.09558875145828494,-0.7224342918851633,0.24714287078350552,0.0871636243840793,0.8273943936066327,-0.3254694393076152,-0.3109447416702733,0.7365078320562298,-0.31090764125254466,-1.0198342805251912,-0.8121358935271744,0.1530268995299714,-0.04878895017047181,2.386773934609274,0.506056787107157,-1.5736656518147039,0.08650296129815593,-1.0826616193615581,0.07833063033194558,-0.8097118302428975,0.5822673618597896,-0.6756056164842522,0.2256813711253767,0.4115520900900538,0.5560981619574848,0.012294386762391203,-0.32830469182915245,-0.4357489272077826,0.29939658003678604,0.9610234895861317,-1.0416144474302365,0.30438082069766537,-0.7530550998446056,-0.9298646951962042,-0.17583994993888405,0.16078995564944973,-0.3638965113742402,-0.478811752412027,0.43848346002584887,-0.5765467239676391,-0.07180298598100751,0.028935608334816204,0.5246236541263944,-0.41950640359897484,0.2860159389096745,0.1967197027084182,-0.8724337084963191,-0.8354048346043982,0.5198687174359318,3.767923129262448,-0.17025148325501951,-0.809774184354322,0.3080079046098876,5.260718123058533,0.7430571317455003,-0.531963997962253,-0.281574385553228,1.0007381139128824,0.5547704331066903,-1.079699258596182,-0.06115749829666996,3.2757534990637236,-0.567728904983608,0.5911020129094879,-0.4904065298670935,-0.9143799023550477,-0.5013781843042155,-1.382070157305672,0.13522350398748342,-0.5652014203612358,0.07457618600475507,0.164789561593251,-0.14708948054338794,0.025037945946463032,-0.460346771545273,1.10706911603707,-0.2501230222571405,0.3198691879692834,-0.04953982799120996,0.15359804042024602,-0.9069929426976099,0.6794578667146867,-0.4645275801778263,-0.8489906561883016,0.2200262480591099,0.43873533389550157,0.3278805435279527,-0.39000325564893634,0.9990468114760305,-0.3940566464635567,-0.8172737659665066,-0.29397210940615937,-0.03500701818375209,-0.48260221175277956,0.2993386651912007,-0.294428620699178,-1.0795628923327274,-0.2879758772605505,-0.2893917695769514,-0.631659430051165,0.0032426039733152107,-0.35019390625848307,0.0921537820934451,0.8345505715110073,-0.16080809396028475,-1.3338873565531397,1.6289205636188901,-2.0985763389933614,0.2766640794530973,-0.2984344532655599,-0.7805048495543826,-1.6423843493603798,0.05655730271372921,0.4676316036304362,-0.18276661696413668,0.2596115179884668,-0.7480111572644206,-1.1022778752302884,0.11202050396302389,0.5429091497472944,-1.5144155656551177,-1.544361224239545,-0.018094130058999507,-0.18155312484559788,-0.16250951925213034,-0.5828994698436871,-0.0018741763494280223,0.18186173739182376,-0.5649519465125725,1.188236393556313,-1.435518570117422,1.1767160237477643,-0.6360102362293164,-0.3214882732882841,1.3212974405615443,0.5482516596099928,-0.4513745255782335,-0.8691050511727394,-1.5304429682094265,-0.026994530435666336,-0.26778597896437245,-0.1032419154064168,-0.07928856693456154,0.0582746530158082,-2.008163320791643,0.703205655524833,-0.3823964835000298,0.07586382727018622,0.20558891971584276,0.6704870985302941,-0.8600641682179355,-0.48537511016289214,0.09243125725936942,-0.2567507417619394,1.2594153314349834,-1.460381366744853,2.345904348716187,-0.28481945595492325,0.17063910276341973,-0.38237539138344095,1.0012977556816998,0.9572394285108128,0.081074353015325,0.8058257034117827,0.2961005561713082,-0.7074939657447219,0.5198175847572314,-1.7188925566463047,2.1029308716913317,0.2948548500102947,-0.8241831222143368,-1.3746680225801322,0.835637762447782,0.2731263588173754,-1.8272697510298874,-0.7051560008805777,-0.621052552169544,0.46183047331602584,0.14093131739001505,1.57281490574881,0.028118175647859397,-0.7924335392383117,-0.06763143536807031,-0.19966109372439123,2.7825021093462476,-0.12736363411694654,-0.5663361124263052,-0.2640245938341691,-0.041570360751708405,0.14459109405646722,0.2622340494764937,0.1272548882062963,-0.15425725908540308,-0.5496717910947819,0.9780428152631063,-0.5473549183472267,-0.19243648574095748,-0.08209112670186859,-0.24111014061959762,0.4160682188202735,0.4773363582737717,-0.25174540898447106,-0.7702615452588184,0.060157377460875926,-0.8255049340166448,0.04568251105897503,-0.5872073867200794,-0.4827385780162345,-1.1997776257669976,0.5777458591145093,-0.021832664558865275,-1.2850430278793055,-0.0183646960242517,-0.9089426674286465,-0.2359274317549683,-0.6861783238289962,-0.3788142360131048,-1.2709397487597627,-1.2434980826601298,1.1437563286858354,0.7167501577109366,-2.2326774792867123,-0.6534749419025595,1.6910917485490158,-0.19754734901521426,-1.5475237831624478,-0.1744574565759631,-0.04491810254936804,-0.24250968851013777,0.4997578261019278,0.18034385740675513,2.3112616682868827,0.020464916994797373,1.6171305828164404,-0.8099613040915606,-1.2964658606652362,0.8314895894495147,-0.9408310166891162,-1.089927387823644,-0.06535582461535072,4.15758821918042,-1.4945393523065915,1.084501733346567],\"z\":[-0.5454014834817907,0.15843773945528233,-0.24672468167456338,1.0290193287096812,0.6406979967112573,-1.2703057083224594,-0.8916687537614001,-0.2424962446901928,-0.14064352315063536,4.188487664804654,0.8264700027098708,-0.44405002415361067,0.8231200690029701,0.39452941687742854,0.32944752519306414,-1.1975842655936888,-1.883586095538853,0.6029811538699738,-0.8192430960271699,1.239532933949635,-0.33844398566220185,-0.14585825553465237,-0.8210249717387825,0.01714807687721851,-0.5672117397401466,-0.7256531036022027,-2.286782665160673,-0.6655906802687716,3.234218281078947,-1.3482208736925096,-1.7242628606630765,-0.38983810319209583,0.3282078396273187,0.528362765018283,-0.5197189869136758,0.9747629961767635,-1.9749225556549563,-1.5796760935517364,0.653726913197831,1.141486672668412,-0.2941602985730625,0.5538448616923605,-0.6800821389289133,-0.9530399900754866,-0.0771424344136969,0.9749934757578246,0.20168899660631115,-0.6357771587382253,0.9236191260012709,-0.0749486316681571,-0.686596119525519,0.36786763727364813,3.760078323989546,-0.8808325683922867,0.6376493791929483,-1.7200508130357743,0.37406025741076704,-0.45379998007717276,0.4308859068618808,-0.7685581378907157,0.5629009251985849,1.2675561582399681,0.16349349498227347,0.6206186420703671,0.8335820420604407,1.1620773181831632,1.12112368125792,-0.9282780435043372,-0.6320543753446513,-0.06743290772614167,0.7289578067451139,-0.07990930554748708,-1.6861689168880192,-0.23970132079082315,-0.6092390488419775,-0.3793398246404704,-0.9984178845536148,1.015293830865326,-1.4388278270853643,-0.04040853987150654,-0.3186417778786621,-0.5022318991237401,0.8734557916819827,-0.8014849203340481,-0.1988962261546205,0.047816413180534256,0.1522380116490883,-0.718343082502789,0.5022974447802742,0.028740729905438533,-0.9315504729238315,-0.2256527086382576,1.0123448623216926,0.29718915500721615,-0.3567462418862733,-0.11935375405249737,-0.23226967710696064,-0.7059742722518352,-0.13117386321570865,-0.2704922349719499,-0.45615394785404917,-1.033949177377934,-1.269469528262041,0.8852825685250707,0.6338619936361631,-0.6700382132924425,0.29458527438156595,0.6385426951813394,-0.34022028552365946,0.5733295850916726,-1.584251098082729,0.2455172698322359,0.8023973112224623,-0.6218849849206581,-0.16146304111256274,-0.009736518103118643,-0.44566697774073494,-0.30841540826469693,-0.5709133253372655,-1.167658989807214,0.10621862461806753,-0.540373279298275,-0.33343091020600757,-0.23191564332510164,1.652948406950182,1.048569869795724,1.3402382599664902,-0.21916578428260317,-0.5279801429780797,1.8607279096838103,-0.04155463541674095,3.266569149455585,0.7189780110825009,-0.2544202768172219,-1.3189766919703305,-0.9789327531537446,-0.49914888669800084,0.04107195300286692,-0.27888168130067914,0.225715062048696,-1.3312524293884813,0.537930140427992,0.3098446254738424,-0.3466096200897461,-0.5420316420403564,0.1830402140668841,0.08979740997627435,-0.4342889165297387,-0.5163586552345968,-0.31136834740814534,0.0823180037615628,-0.4391876973879436,0.30827909542817705,0.5107574156900193,-0.6561786513643395,0.3058332914795133,0.5586481209137057,0.3891324074323978,-1.477915689404431,-0.18822127744492317,-0.47252644809646943,0.5986590856338251,-0.5539716199392929,0.4470702919715584,0.7161488801582938,-1.1868763704889005,0.029129286163486614,0.9082523274709247,-0.48411716950834066,-0.9919347821993919,0.668696378800204,0.16794385348274718,-0.7431968652457259,0.29261717392229364,-0.6379400832413823,-0.24726304981900027,-0.6582115317544478,0.5438402156252305,-0.25225366684899275,-0.12192118058561,0.8948808221771625,-0.12500545364109594,-0.37034836329745674,-0.1153885652766529,0.07161677633665132,0.024783838353681416,0.20099896742167098,0.510243887863426,-0.2436626551317476,0.8798782293811616,-0.698290961870475,-0.1057143799934153,0.18628176524399548,-0.8039174823445074,1.1133914954863655,-0.654846467607805,0.7785656178362516,-0.614128431848596,0.3498181808080614,0.33633907726388845,-0.4873287775347897,0.5699242860823265,-0.9029223467095024,1.4646791692086263,-1.4913556188628356,0.3599931470822094,0.8933902684692808,-1.7233512337879406,-0.1932024966233292,0.2793945252215568,-0.9262489851156607,0.26029160793788436,-1.1257289873072647,0.8957647613435914,-0.7107794630895291,-0.8005925596390192,-0.9525914311813962,5.618785092169819,-0.6203297878182996,-0.20175479692383877,-0.41790669461012475,-0.3999670607841182,0.8781636860044698,0.503255247425141,-0.21831101074109985,-0.8053837320683341,0.15580158530468816,0.10154923151120265,2.2527934852649634,-0.7674373447377093,0.4020340099776326,-0.6930427677872039,0.9208132315940537,0.44554021949380274,0.25511552348432764,-1.2845695743112504,-1.0800335131398155,-0.6185826123505014,-0.47709380862459927,0.2128193819212665,-0.7752284615172264,-0.29372717374267987,1.0567673377590132,-1.0567985743690855,0.6935178880181967,-0.005228225119310589,0.13107798321115946,0.515228792506904,0.9639383923186795,0.3922803685889983,-0.05759940079415843,-0.0031251254845704028,0.3276328808539859,-0.6827487313326919,0.15461947565611495,0.17604215557537076,-0.021244002639427884,-0.13772254405612863,0.5667838323922297,-0.018413464434147302,0.12306962690524058,-0.5163088693782697,-0.19819693565475321,-0.6293839609394413,-0.0682474297992636,0.2671295013980613,0.6546702269573853,0.5771394887951482,0.6223696395395968,1.0066188161506464,1.098770254934749,0.30860493990809723,-0.43762405772736107,0.7013409748698184,-0.1462347047990282,0.4345451386906999,-0.7448728863771721,-0.606655428917185,0.22629559667218382,0.21790326343374378,-0.7912742985227235,0.4669847244879606,2.79458289865921,-0.4374383280822229,0.2439939062656226,0.18716934864423063,0.2599113164704351,0.5601443870081017,-0.41255173548055446,-2.106615414976813,0.5976132688186024,0.1348579025327065,0.20512617038266867,-0.4086420754987983,-0.25515058209583147,0.24771300419412456,0.31667883346894754,1.024890194132335,0.7251403415013071],\"type\":\"scatter3d\"}],                        {\"template\":{\"data\":{\"bar\":[{\"error_x\":{\"color\":\"#2a3f5f\"},\"error_y\":{\"color\":\"#2a3f5f\"},\"marker\":{\"line\":{\"color\":\"#E5ECF6\",\"width\":0.5},\"pattern\":{\"fillmode\":\"overlay\",\"size\":10,\"solidity\":0.2}},\"type\":\"bar\"}],\"barpolar\":[{\"marker\":{\"line\":{\"color\":\"#E5ECF6\",\"width\":0.5},\"pattern\":{\"fillmode\":\"overlay\",\"size\":10,\"solidity\":0.2}},\"type\":\"barpolar\"}],\"carpet\":[{\"aaxis\":{\"endlinecolor\":\"#2a3f5f\",\"gridcolor\":\"white\",\"linecolor\":\"white\",\"minorgridcolor\":\"white\",\"startlinecolor\":\"#2a3f5f\"},\"baxis\":{\"endlinecolor\":\"#2a3f5f\",\"gridcolor\":\"white\",\"linecolor\":\"white\",\"minorgridcolor\":\"white\",\"startlinecolor\":\"#2a3f5f\"},\"type\":\"carpet\"}],\"choropleth\":[{\"colorbar\":{\"outlinewidth\":0,\"ticks\":\"\"},\"type\":\"choropleth\"}],\"contour\":[{\"colorbar\":{\"outlinewidth\":0,\"ticks\":\"\"},\"colorscale\":[[0.0,\"#0d0887\"],[0.1111111111111111,\"#46039f\"],[0.2222222222222222,\"#7201a8\"],[0.3333333333333333,\"#9c179e\"],[0.4444444444444444,\"#bd3786\"],[0.5555555555555556,\"#d8576b\"],[0.6666666666666666,\"#ed7953\"],[0.7777777777777778,\"#fb9f3a\"],[0.8888888888888888,\"#fdca26\"],[1.0,\"#f0f921\"]],\"type\":\"contour\"}],\"contourcarpet\":[{\"colorbar\":{\"outlinewidth\":0,\"ticks\":\"\"},\"type\":\"contourcarpet\"}],\"heatmap\":[{\"colorbar\":{\"outlinewidth\":0,\"ticks\":\"\"},\"colorscale\":[[0.0,\"#0d0887\"],[0.1111111111111111,\"#46039f\"],[0.2222222222222222,\"#7201a8\"],[0.3333333333333333,\"#9c179e\"],[0.4444444444444444,\"#bd3786\"],[0.5555555555555556,\"#d8576b\"],[0.6666666666666666,\"#ed7953\"],[0.7777777777777778,\"#fb9f3a\"],[0.8888888888888888,\"#fdca26\"],[1.0,\"#f0f921\"]],\"type\":\"heatmap\"}],\"heatmapgl\":[{\"colorbar\":{\"outlinewidth\":0,\"ticks\":\"\"},\"colorscale\":[[0.0,\"#0d0887\"],[0.1111111111111111,\"#46039f\"],[0.2222222222222222,\"#7201a8\"],[0.3333333333333333,\"#9c179e\"],[0.4444444444444444,\"#bd3786\"],[0.5555555555555556,\"#d8576b\"],[0.6666666666666666,\"#ed7953\"],[0.7777777777777778,\"#fb9f3a\"],[0.8888888888888888,\"#fdca26\"],[1.0,\"#f0f921\"]],\"type\":\"heatmapgl\"}],\"histogram\":[{\"marker\":{\"pattern\":{\"fillmode\":\"overlay\",\"size\":10,\"solidity\":0.2}},\"type\":\"histogram\"}],\"histogram2d\":[{\"colorbar\":{\"outlinewidth\":0,\"ticks\":\"\"},\"colorscale\":[[0.0,\"#0d0887\"],[0.1111111111111111,\"#46039f\"],[0.2222222222222222,\"#7201a8\"],[0.3333333333333333,\"#9c179e\"],[0.4444444444444444,\"#bd3786\"],[0.5555555555555556,\"#d8576b\"],[0.6666666666666666,\"#ed7953\"],[0.7777777777777778,\"#fb9f3a\"],[0.8888888888888888,\"#fdca26\"],[1.0,\"#f0f921\"]],\"type\":\"histogram2d\"}],\"histogram2dcontour\":[{\"colorbar\":{\"outlinewidth\":0,\"ticks\":\"\"},\"colorscale\":[[0.0,\"#0d0887\"],[0.1111111111111111,\"#46039f\"],[0.2222222222222222,\"#7201a8\"],[0.3333333333333333,\"#9c179e\"],[0.4444444444444444,\"#bd3786\"],[0.5555555555555556,\"#d8576b\"],[0.6666666666666666,\"#ed7953\"],[0.7777777777777778,\"#fb9f3a\"],[0.8888888888888888,\"#fdca26\"],[1.0,\"#f0f921\"]],\"type\":\"histogram2dcontour\"}],\"mesh3d\":[{\"colorbar\":{\"outlinewidth\":0,\"ticks\":\"\"},\"type\":\"mesh3d\"}],\"parcoords\":[{\"line\":{\"colorbar\":{\"outlinewidth\":0,\"ticks\":\"\"}},\"type\":\"parcoords\"}],\"pie\":[{\"automargin\":true,\"type\":\"pie\"}],\"scatter\":[{\"marker\":{\"colorbar\":{\"outlinewidth\":0,\"ticks\":\"\"}},\"type\":\"scatter\"}],\"scatter3d\":[{\"line\":{\"colorbar\":{\"outlinewidth\":0,\"ticks\":\"\"}},\"marker\":{\"colorbar\":{\"outlinewidth\":0,\"ticks\":\"\"}},\"type\":\"scatter3d\"}],\"scattercarpet\":[{\"marker\":{\"colorbar\":{\"outlinewidth\":0,\"ticks\":\"\"}},\"type\":\"scattercarpet\"}],\"scattergeo\":[{\"marker\":{\"colorbar\":{\"outlinewidth\":0,\"ticks\":\"\"}},\"type\":\"scattergeo\"}],\"scattergl\":[{\"marker\":{\"colorbar\":{\"outlinewidth\":0,\"ticks\":\"\"}},\"type\":\"scattergl\"}],\"scattermapbox\":[{\"marker\":{\"colorbar\":{\"outlinewidth\":0,\"ticks\":\"\"}},\"type\":\"scattermapbox\"}],\"scatterpolar\":[{\"marker\":{\"colorbar\":{\"outlinewidth\":0,\"ticks\":\"\"}},\"type\":\"scatterpolar\"}],\"scatterpolargl\":[{\"marker\":{\"colorbar\":{\"outlinewidth\":0,\"ticks\":\"\"}},\"type\":\"scatterpolargl\"}],\"scatterternary\":[{\"marker\":{\"colorbar\":{\"outlinewidth\":0,\"ticks\":\"\"}},\"type\":\"scatterternary\"}],\"surface\":[{\"colorbar\":{\"outlinewidth\":0,\"ticks\":\"\"},\"colorscale\":[[0.0,\"#0d0887\"],[0.1111111111111111,\"#46039f\"],[0.2222222222222222,\"#7201a8\"],[0.3333333333333333,\"#9c179e\"],[0.4444444444444444,\"#bd3786\"],[0.5555555555555556,\"#d8576b\"],[0.6666666666666666,\"#ed7953\"],[0.7777777777777778,\"#fb9f3a\"],[0.8888888888888888,\"#fdca26\"],[1.0,\"#f0f921\"]],\"type\":\"surface\"}],\"table\":[{\"cells\":{\"fill\":{\"color\":\"#EBF0F8\"},\"line\":{\"color\":\"white\"}},\"header\":{\"fill\":{\"color\":\"#C8D4E3\"},\"line\":{\"color\":\"white\"}},\"type\":\"table\"}]},\"layout\":{\"annotationdefaults\":{\"arrowcolor\":\"#2a3f5f\",\"arrowhead\":0,\"arrowwidth\":1},\"autotypenumbers\":\"strict\",\"coloraxis\":{\"colorbar\":{\"outlinewidth\":0,\"ticks\":\"\"}},\"colorscale\":{\"diverging\":[[0,\"#8e0152\"],[0.1,\"#c51b7d\"],[0.2,\"#de77ae\"],[0.3,\"#f1b6da\"],[0.4,\"#fde0ef\"],[0.5,\"#f7f7f7\"],[0.6,\"#e6f5d0\"],[0.7,\"#b8e186\"],[0.8,\"#7fbc41\"],[0.9,\"#4d9221\"],[1,\"#276419\"]],\"sequential\":[[0.0,\"#0d0887\"],[0.1111111111111111,\"#46039f\"],[0.2222222222222222,\"#7201a8\"],[0.3333333333333333,\"#9c179e\"],[0.4444444444444444,\"#bd3786\"],[0.5555555555555556,\"#d8576b\"],[0.6666666666666666,\"#ed7953\"],[0.7777777777777778,\"#fb9f3a\"],[0.8888888888888888,\"#fdca26\"],[1.0,\"#f0f921\"]],\"sequentialminus\":[[0.0,\"#0d0887\"],[0.1111111111111111,\"#46039f\"],[0.2222222222222222,\"#7201a8\"],[0.3333333333333333,\"#9c179e\"],[0.4444444444444444,\"#bd3786\"],[0.5555555555555556,\"#d8576b\"],[0.6666666666666666,\"#ed7953\"],[0.7777777777777778,\"#fb9f3a\"],[0.8888888888888888,\"#fdca26\"],[1.0,\"#f0f921\"]]},\"colorway\":[\"#636efa\",\"#EF553B\",\"#00cc96\",\"#ab63fa\",\"#FFA15A\",\"#19d3f3\",\"#FF6692\",\"#B6E880\",\"#FF97FF\",\"#FECB52\"],\"font\":{\"color\":\"#2a3f5f\"},\"geo\":{\"bgcolor\":\"white\",\"lakecolor\":\"white\",\"landcolor\":\"#E5ECF6\",\"showlakes\":true,\"showland\":true,\"subunitcolor\":\"white\"},\"hoverlabel\":{\"align\":\"left\"},\"hovermode\":\"closest\",\"mapbox\":{\"style\":\"light\"},\"paper_bgcolor\":\"white\",\"plot_bgcolor\":\"#E5ECF6\",\"polar\":{\"angularaxis\":{\"gridcolor\":\"white\",\"linecolor\":\"white\",\"ticks\":\"\"},\"bgcolor\":\"#E5ECF6\",\"radialaxis\":{\"gridcolor\":\"white\",\"linecolor\":\"white\",\"ticks\":\"\"}},\"scene\":{\"xaxis\":{\"backgroundcolor\":\"#E5ECF6\",\"gridcolor\":\"white\",\"gridwidth\":2,\"linecolor\":\"white\",\"showbackground\":true,\"ticks\":\"\",\"zerolinecolor\":\"white\"},\"yaxis\":{\"backgroundcolor\":\"#E5ECF6\",\"gridcolor\":\"white\",\"gridwidth\":2,\"linecolor\":\"white\",\"showbackground\":true,\"ticks\":\"\",\"zerolinecolor\":\"white\"},\"zaxis\":{\"backgroundcolor\":\"#E5ECF6\",\"gridcolor\":\"white\",\"gridwidth\":2,\"linecolor\":\"white\",\"showbackground\":true,\"ticks\":\"\",\"zerolinecolor\":\"white\"}},\"shapedefaults\":{\"line\":{\"color\":\"#2a3f5f\"}},\"ternary\":{\"aaxis\":{\"gridcolor\":\"white\",\"linecolor\":\"white\",\"ticks\":\"\"},\"baxis\":{\"gridcolor\":\"white\",\"linecolor\":\"white\",\"ticks\":\"\"},\"bgcolor\":\"#E5ECF6\",\"caxis\":{\"gridcolor\":\"white\",\"linecolor\":\"white\",\"ticks\":\"\"}},\"title\":{\"x\":0.05},\"xaxis\":{\"automargin\":true,\"gridcolor\":\"white\",\"linecolor\":\"white\",\"ticks\":\"\",\"title\":{\"standoff\":15},\"zerolinecolor\":\"white\",\"zerolinewidth\":2},\"yaxis\":{\"automargin\":true,\"gridcolor\":\"white\",\"linecolor\":\"white\",\"ticks\":\"\",\"title\":{\"standoff\":15},\"zerolinecolor\":\"white\",\"zerolinewidth\":2}}}},                        {\"responsive\": true}                    ).then(function(){\n",
       "                            \n",
       "var gd = document.getElementById('4f94b70e-6b20-4ada-9d09-a708ac5942fb');\n",
       "var x = new MutationObserver(function (mutations, observer) {{\n",
       "        var display = window.getComputedStyle(gd).display;\n",
       "        if (!display || display === 'none') {{\n",
       "            console.log([gd, 'removed!']);\n",
       "            Plotly.purge(gd);\n",
       "            observer.disconnect();\n",
       "        }}\n",
       "}});\n",
       "\n",
       "// Listen for the removal of the full notebook cells\n",
       "var notebookContainer = gd.closest('#notebook-container');\n",
       "if (notebookContainer) {{\n",
       "    x.observe(notebookContainer, {childList: true});\n",
       "}}\n",
       "\n",
       "// Listen for the clearing of the current output cell\n",
       "var outputEl = gd.closest('.output');\n",
       "if (outputEl) {{\n",
       "    x.observe(outputEl, {childList: true});\n",
       "}}\n",
       "\n",
       "                        })                };                });            </script>        </div>"
      ]
     },
     "metadata": {},
     "output_type": "display_data"
    },
    {
     "data": {
      "text/plain": [
       "-1    130\n",
       " 0     71\n",
       " 3     35\n",
       " 2     26\n",
       " 1     13\n",
       " 4      8\n",
       " 7      6\n",
       " 5      5\n",
       " 6      5\n",
       "Name: cluster, dtype: int64"
      ]
     },
     "execution_count": 93,
     "metadata": {},
     "output_type": "execute_result"
    }
   ],
   "source": [
    "##Визуализация с PCA\n",
    "\n",
    "pcaDB = PCA(n_components=3)\n",
    "pcaDB_HFRD = pcaDB.fit_transform(HFRD_scale)\n",
    "fig = go.Figure(\n",
    "    go.Scatter3d(mode='markers',\n",
    "                 x = pcaDB_HFRD[:, 0],\n",
    "                 y = pcaDB_HFRD[:, 1],\n",
    "                 z = pcaDB_HFRD[:, 2],\n",
    "                 marker=dict(size = 5, color = HFRD['cluster'], colorscale = 'viridis')\n",
    "                )\n",
    ")\n",
    "    \n",
    "fig.show()\n",
    "HFRD[\"cluster\"].value_counts()"
   ]
  },
  {
   "cell_type": "markdown",
   "id": "7da676d6",
   "metadata": {},
   "source": [
    "## На горната графика виждаме,че имаме 9 различни клъстера\n",
    "## Тъй като броят на клъстерите е твърде голям , не можем да направим добра обосновка за получените графики и \n",
    "## получените клъстери са твърде различни по между си"
   ]
  },
  {
   "cell_type": "code",
   "execution_count": 94,
   "id": "ab583e40",
   "metadata": {},
   "outputs": [
    {
     "data": {
      "text/plain": [
       "<seaborn.axisgrid.PairGrid at 0x2224910c970>"
      ]
     },
     "execution_count": 94,
     "metadata": {},
     "output_type": "execute_result"
    },
    {
     "data": {
      "image/png": "[encoded data removed]",
      "text/plain": [
       "<Figure size 590.75x540 with 12 Axes>"
      ]
     },
     "metadata": {
      "needs_background": "light"
     },
     "output_type": "display_data"
    }
   ],
   "source": [
    "g = sns.PairGrid(HFRD[[\"age\", \"serum_creatinine\", \"platelets\", \"cluster\"]], hue = \"cluster\", palette = 'viridis')\n",
    "g.map_diag(sns.histplot)\n",
    "g.map_offdiag(sns.scatterplot)\n",
    "g.add_legend()"
   ]
  },
  {
   "cell_type": "code",
   "execution_count": 95,
   "id": "cca2b888",
   "metadata": {},
   "outputs": [
    {
     "data": {
      "image/png": "[encoded data removed]",
      "text/plain": [
       "<Figure size 432x288 with 1 Axes>"
      ]
     },
     "metadata": {
      "needs_background": "light"
     },
     "output_type": "display_data"
    }
   ],
   "source": [
    "ax = sns.countplot(data = HFRD, x=\"high_blood_pressure\", hue = \"cluster\", palette = 'viridis' )"
   ]
  },
  {
   "cell_type": "code",
   "execution_count": 96,
   "id": "04ef64c5",
   "metadata": {},
   "outputs": [
    {
     "data": {
      "image/png": "[encoded data removed]",
      "text/plain": [
       "<Figure size 432x288 with 1 Axes>"
      ]
     },
     "metadata": {
      "needs_background": "light"
     },
     "output_type": "display_data"
    }
   ],
   "source": [
    "ax = sns.countplot(data = HFRD, x=\"sex\", hue = \"cluster\", palette = 'viridis' )"
   ]
  },
  {
   "cell_type": "code",
   "execution_count": 97,
   "id": "7b205725",
   "metadata": {},
   "outputs": [
    {
     "data": {
      "text/html": [
       "<div>\n",
       "<style scoped>\n",
       "    .dataframe tbody tr th:only-of-type {\n",
       "        vertical-align: middle;\n",
       "    }\n",
       "\n",
       "    .dataframe tbody tr th {\n",
       "        vertical-align: top;\n",
       "    }\n",
       "\n",
       "    .dataframe thead th {\n",
       "        text-align: right;\n",
       "    }\n",
       "</style>\n",
       "<table border=\"1\" class=\"dataframe\">\n",
       "  <thead>\n",
       "    <tr style=\"text-align: right;\">\n",
       "      <th></th>\n",
       "      <th>age</th>\n",
       "      <th>sex</th>\n",
       "      <th>serum_creatinine</th>\n",
       "      <th>platelets</th>\n",
       "      <th>high_blood_pressure</th>\n",
       "      <th>cluster</th>\n",
       "    </tr>\n",
       "  </thead>\n",
       "  <tbody>\n",
       "    <tr>\n",
       "      <th>count</th>\n",
       "      <td>26.000000</td>\n",
       "      <td>26.0</td>\n",
       "      <td>26.000000</td>\n",
       "      <td>26.000000</td>\n",
       "      <td>26.0</td>\n",
       "      <td>26.0</td>\n",
       "    </tr>\n",
       "    <tr>\n",
       "      <th>mean</th>\n",
       "      <td>62.038462</td>\n",
       "      <td>0.0</td>\n",
       "      <td>1.055769</td>\n",
       "      <td>244412.156154</td>\n",
       "      <td>0.0</td>\n",
       "      <td>2.0</td>\n",
       "    </tr>\n",
       "    <tr>\n",
       "      <th>std</th>\n",
       "      <td>5.813644</td>\n",
       "      <td>0.0</td>\n",
       "      <td>0.247518</td>\n",
       "      <td>37540.937634</td>\n",
       "      <td>0.0</td>\n",
       "      <td>0.0</td>\n",
       "    </tr>\n",
       "    <tr>\n",
       "      <th>min</th>\n",
       "      <td>50.000000</td>\n",
       "      <td>0.0</td>\n",
       "      <td>0.700000</td>\n",
       "      <td>164000.000000</td>\n",
       "      <td>0.0</td>\n",
       "      <td>2.0</td>\n",
       "    </tr>\n",
       "    <tr>\n",
       "      <th>25%</th>\n",
       "      <td>58.500000</td>\n",
       "      <td>0.0</td>\n",
       "      <td>0.900000</td>\n",
       "      <td>221000.000000</td>\n",
       "      <td>0.0</td>\n",
       "      <td>2.0</td>\n",
       "    </tr>\n",
       "    <tr>\n",
       "      <th>50%</th>\n",
       "      <td>63.500000</td>\n",
       "      <td>0.0</td>\n",
       "      <td>1.000000</td>\n",
       "      <td>249500.000000</td>\n",
       "      <td>0.0</td>\n",
       "      <td>2.0</td>\n",
       "    </tr>\n",
       "    <tr>\n",
       "      <th>75%</th>\n",
       "      <td>65.000000</td>\n",
       "      <td>0.0</td>\n",
       "      <td>1.200000</td>\n",
       "      <td>270000.000000</td>\n",
       "      <td>0.0</td>\n",
       "      <td>2.0</td>\n",
       "    </tr>\n",
       "    <tr>\n",
       "      <th>max</th>\n",
       "      <td>72.000000</td>\n",
       "      <td>0.0</td>\n",
       "      <td>1.700000</td>\n",
       "      <td>309000.000000</td>\n",
       "      <td>0.0</td>\n",
       "      <td>2.0</td>\n",
       "    </tr>\n",
       "  </tbody>\n",
       "</table>\n",
       "</div>"
      ],
      "text/plain": [
       "             age   sex  serum_creatinine      platelets  high_blood_pressure  \\\n",
       "count  26.000000  26.0         26.000000      26.000000                 26.0   \n",
       "mean   62.038462   0.0          1.055769  244412.156154                  0.0   \n",
       "std     5.813644   0.0          0.247518   37540.937634                  0.0   \n",
       "min    50.000000   0.0          0.700000  164000.000000                  0.0   \n",
       "25%    58.500000   0.0          0.900000  221000.000000                  0.0   \n",
       "50%    63.500000   0.0          1.000000  249500.000000                  0.0   \n",
       "75%    65.000000   0.0          1.200000  270000.000000                  0.0   \n",
       "max    72.000000   0.0          1.700000  309000.000000                  0.0   \n",
       "\n",
       "       cluster  \n",
       "count     26.0  \n",
       "mean       2.0  \n",
       "std        0.0  \n",
       "min        2.0  \n",
       "25%        2.0  \n",
       "50%        2.0  \n",
       "75%        2.0  \n",
       "max        2.0  "
      ]
     },
     "execution_count": 97,
     "metadata": {},
     "output_type": "execute_result"
    }
   ],
   "source": [
    "HFRD[HFRD[\"cluster\"] == 2].describe()"
   ]
  }
 ],
 "metadata": {
  "kernelspec": {
   "display_name": "Python 3 (ipykernel)",
   "language": "python",
   "name": "python3"
  },
  "language_info": {
   "codemirror_mode": {
    "name": "ipython",
    "version": 3
   },
   "file_extension": ".py",
   "mimetype": "text/x-python",
   "name": "python",
   "nbconvert_exporter": "python",
   "pygments_lexer": "ipython3",
   "version": "3.9.12"
  }
 },
 "nbformat": 4,
 "nbformat_minor": 5
}
